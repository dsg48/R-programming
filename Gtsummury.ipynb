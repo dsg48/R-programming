{
  "nbformat": 4,
  "nbformat_minor": 0,
  "metadata": {
    "colab": {
      "provenance": [],
      "authorship_tag": "ABX9TyNlgkAjDXBHHohYw3CH95VJ",
      "include_colab_link": true
    },
    "kernelspec": {
      "name": "ir",
      "display_name": "R"
    },
    "language_info": {
      "name": "R"
    }
  },
  "cells": [
    {
      "cell_type": "markdown",
      "metadata": {
        "id": "view-in-github",
        "colab_type": "text"
      },
      "source": [
        "<a href=\"https://colab.research.google.com/github/dsg48/R-programming/blob/main/Gtsummury.ipynb\" target=\"_parent\"><img src=\"https://colab.research.google.com/assets/colab-badge.svg\" alt=\"Open In Colab\"/></a>"
      ]
    },
    {
      "cell_type": "code",
      "source": [
        "install.packages(\"gtsummary\")"
      ],
      "metadata": {
        "colab": {
          "base_uri": "https://localhost:8080/"
        },
        "id": "c9vYyGKJqZiV",
        "outputId": "b238d4b3-675b-40bd-b25e-8ce11c6a066a"
      },
      "execution_count": 3,
      "outputs": [
        {
          "output_type": "stream",
          "name": "stderr",
          "text": [
            "Installing package into ‘/usr/local/lib/R/site-library’\n",
            "(as ‘lib’ is unspecified)\n",
            "\n",
            "also installing the dependency ‘gt’\n",
            "\n",
            "\n"
          ]
        }
      ]
    },
    {
      "cell_type": "code",
      "source": [
        "library(gtsummary)"
      ],
      "metadata": {
        "id": "rj5kA05oqvyt"
      },
      "execution_count": 4,
      "outputs": []
    },
    {
      "cell_type": "code",
      "source": [
        "install.packages(\"dplyr\")"
      ],
      "metadata": {
        "colab": {
          "base_uri": "https://localhost:8080/"
        },
        "id": "fs_XdROxqzo8",
        "outputId": "2e8103e3-f1b7-4618-f563-a8bd36bd80f3"
      },
      "execution_count": 5,
      "outputs": [
        {
          "output_type": "stream",
          "name": "stderr",
          "text": [
            "Installing package into ‘/usr/local/lib/R/site-library’\n",
            "(as ‘lib’ is unspecified)\n",
            "\n"
          ]
        }
      ]
    },
    {
      "cell_type": "code",
      "source": [
        "library(dplyr)"
      ],
      "metadata": {
        "colab": {
          "base_uri": "https://localhost:8080/"
        },
        "id": "HlFAzt9oq94D",
        "outputId": "50fab267-5c8f-4a25-ccab-1a9b1ba83996"
      },
      "execution_count": 6,
      "outputs": [
        {
          "output_type": "stream",
          "name": "stderr",
          "text": [
            "\n",
            "Attaching package: ‘dplyr’\n",
            "\n",
            "\n",
            "The following objects are masked from ‘package:stats’:\n",
            "\n",
            "    filter, lag\n",
            "\n",
            "\n",
            "The following objects are masked from ‘package:base’:\n",
            "\n",
            "    intersect, setdiff, setequal, union\n",
            "\n",
            "\n"
          ]
        }
      ]
    },
    {
      "cell_type": "code",
      "source": [
        "install.packages(\"forcats\")"
      ],
      "metadata": {
        "colab": {
          "base_uri": "https://localhost:8080/"
        },
        "id": "DLswcgcErCU3",
        "outputId": "f4a9c391-5440-40da-bda4-f6fcc543d7ed"
      },
      "execution_count": 7,
      "outputs": [
        {
          "output_type": "stream",
          "name": "stderr",
          "text": [
            "Installing package into ‘/usr/local/lib/R/site-library’\n",
            "(as ‘lib’ is unspecified)\n",
            "\n"
          ]
        }
      ]
    },
    {
      "cell_type": "code",
      "source": [
        "library(forcats)"
      ],
      "metadata": {
        "id": "pfGpTzLxrJHc"
      },
      "execution_count": 8,
      "outputs": []
    },
    {
      "cell_type": "code",
      "source": [
        "install.packages(\"flextable\")"
      ],
      "metadata": {
        "colab": {
          "base_uri": "https://localhost:8080/"
        },
        "id": "9gaGO6ljrMIB",
        "outputId": "9eb7d04c-7bcc-4afb-f1d4-7eb46b2673be"
      },
      "execution_count": 9,
      "outputs": [
        {
          "output_type": "stream",
          "name": "stderr",
          "text": [
            "Installing package into ‘/usr/local/lib/R/site-library’\n",
            "(as ‘lib’ is unspecified)\n",
            "\n",
            "also installing the dependencies ‘fontBitstreamVera’, ‘fontLiberation’, ‘fontquiver’, ‘gdtools’, ‘officer’\n",
            "\n",
            "\n"
          ]
        }
      ]
    },
    {
      "cell_type": "code",
      "source": [
        "library(\"flextable\")"
      ],
      "metadata": {
        "colab": {
          "base_uri": "https://localhost:8080/"
        },
        "id": "bD0AlwcArlkR",
        "outputId": "c2c68eac-1d3c-478a-a71d-d1469033bfcd"
      },
      "execution_count": 10,
      "outputs": [
        {
          "output_type": "stream",
          "name": "stderr",
          "text": [
            "\n",
            "Attaching package: ‘flextable’\n",
            "\n",
            "\n",
            "The following object is masked from ‘package:gtsummary’:\n",
            "\n",
            "    continuous_summary\n",
            "\n",
            "\n"
          ]
        }
      ]
    },
    {
      "cell_type": "code",
      "source": [
        "gtsummary::trial"
      ],
      "metadata": {
        "colab": {
          "base_uri": "https://localhost:8080/",
          "height": 1000
        },
        "id": "VBO2fZWKr3AK",
        "outputId": "d25ebddf-f95d-4cb7-b4cb-d4f01b461dbe"
      },
      "execution_count": 13,
      "outputs": [
        {
          "output_type": "display_data",
          "data": {
            "text/html": [
              "<table class=\"dataframe\">\n",
              "<caption>A tibble: 200 × 8</caption>\n",
              "<thead>\n",
              "\t<tr><th scope=col>trt</th><th scope=col>age</th><th scope=col>marker</th><th scope=col>stage</th><th scope=col>grade</th><th scope=col>response</th><th scope=col>death</th><th scope=col>ttdeath</th></tr>\n",
              "\t<tr><th scope=col>&lt;chr&gt;</th><th scope=col>&lt;dbl&gt;</th><th scope=col>&lt;dbl&gt;</th><th scope=col>&lt;fct&gt;</th><th scope=col>&lt;fct&gt;</th><th scope=col>&lt;int&gt;</th><th scope=col>&lt;int&gt;</th><th scope=col>&lt;dbl&gt;</th></tr>\n",
              "</thead>\n",
              "<tbody>\n",
              "\t<tr><td>Drug A</td><td>23</td><td>0.160</td><td>T1</td><td>II </td><td>0</td><td>0</td><td>24.00</td></tr>\n",
              "\t<tr><td>Drug B</td><td> 9</td><td>1.107</td><td>T2</td><td>I  </td><td>1</td><td>0</td><td>24.00</td></tr>\n",
              "\t<tr><td>Drug A</td><td>31</td><td>0.277</td><td>T1</td><td>II </td><td>0</td><td>0</td><td>24.00</td></tr>\n",
              "\t<tr><td>Drug A</td><td>NA</td><td>2.067</td><td>T3</td><td>III</td><td>1</td><td>1</td><td>17.64</td></tr>\n",
              "\t<tr><td>Drug A</td><td>51</td><td>2.767</td><td>T4</td><td>III</td><td>1</td><td>1</td><td>16.43</td></tr>\n",
              "\t<tr><td>Drug B</td><td>39</td><td>0.613</td><td>T4</td><td>I  </td><td>0</td><td>1</td><td>15.64</td></tr>\n",
              "\t<tr><td>Drug A</td><td>37</td><td>0.354</td><td>T1</td><td>II </td><td>0</td><td>0</td><td>24.00</td></tr>\n",
              "\t<tr><td>Drug A</td><td>32</td><td>1.739</td><td>T1</td><td>I  </td><td>0</td><td>1</td><td>18.43</td></tr>\n",
              "\t<tr><td>Drug A</td><td>31</td><td>0.144</td><td>T1</td><td>II </td><td>0</td><td>0</td><td>24.00</td></tr>\n",
              "\t<tr><td>Drug B</td><td>34</td><td>0.205</td><td>T3</td><td>I  </td><td>0</td><td>1</td><td>10.53</td></tr>\n",
              "\t<tr><td>Drug B</td><td>42</td><td>0.513</td><td>T1</td><td>III</td><td>0</td><td>0</td><td>24.00</td></tr>\n",
              "\t<tr><td>Drug B</td><td>63</td><td>0.060</td><td>T3</td><td>I  </td><td>1</td><td>0</td><td>24.00</td></tr>\n",
              "\t<tr><td>Drug B</td><td>54</td><td>0.831</td><td>T4</td><td>III</td><td>0</td><td>1</td><td>14.34</td></tr>\n",
              "\t<tr><td>Drug B</td><td>21</td><td>0.258</td><td>T4</td><td>I  </td><td>0</td><td>1</td><td>12.89</td></tr>\n",
              "\t<tr><td>Drug B</td><td>48</td><td>0.128</td><td>T1</td><td>I  </td><td>0</td><td>1</td><td>22.68</td></tr>\n",
              "\t<tr><td>Drug B</td><td>71</td><td>0.445</td><td>T4</td><td>III</td><td>0</td><td>1</td><td> 8.71</td></tr>\n",
              "\t<tr><td>Drug A</td><td>38</td><td>2.083</td><td>T4</td><td>III</td><td>1</td><td>0</td><td>24.00</td></tr>\n",
              "\t<tr><td>Drug B</td><td>49</td><td>0.157</td><td>T2</td><td>II </td><td>0</td><td>1</td><td>15.21</td></tr>\n",
              "\t<tr><td>Drug A</td><td>57</td><td>0.066</td><td>T1</td><td>III</td><td>0</td><td>0</td><td>24.00</td></tr>\n",
              "\t<tr><td>Drug A</td><td>46</td><td>0.325</td><td>T1</td><td>II </td><td>0</td><td>0</td><td>24.00</td></tr>\n",
              "\t<tr><td>Drug A</td><td>47</td><td>0.266</td><td>T2</td><td>I  </td><td>0</td><td>0</td><td>24.00</td></tr>\n",
              "\t<tr><td>Drug A</td><td>52</td><td>0.719</td><td>T2</td><td>II </td><td>0</td><td>0</td><td>24.00</td></tr>\n",
              "\t<tr><td>Drug A</td><td>61</td><td>1.713</td><td>T4</td><td>I  </td><td>0</td><td>1</td><td>16.92</td></tr>\n",
              "\t<tr><td>Drug A</td><td>38</td><td>0.096</td><td>T4</td><td>I  </td><td>0</td><td>1</td><td>23.89</td></tr>\n",
              "\t<tr><td>Drug B</td><td>34</td><td>0.105</td><td>T4</td><td>II </td><td>0</td><td>1</td><td> 6.32</td></tr>\n",
              "\t<tr><td>Drug B</td><td>49</td><td>0.043</td><td>T2</td><td>III</td><td>0</td><td>1</td><td>15.77</td></tr>\n",
              "\t<tr><td>Drug A</td><td>63</td><td>0.981</td><td>T4</td><td>II </td><td>1</td><td>0</td><td>24.00</td></tr>\n",
              "\t<tr><td>Drug B</td><td>67</td><td>1.156</td><td>T1</td><td>II </td><td>0</td><td>0</td><td>24.00</td></tr>\n",
              "\t<tr><td>Drug B</td><td>68</td><td>0.105</td><td>T4</td><td>II </td><td>0</td><td>1</td><td>15.45</td></tr>\n",
              "\t<tr><td>Drug A</td><td>78</td><td>0.175</td><td>T3</td><td>I  </td><td>1</td><td>1</td><td>17.43</td></tr>\n",
              "\t<tr><td>⋮</td><td>⋮</td><td>⋮</td><td>⋮</td><td>⋮</td><td>⋮</td><td>⋮</td><td>⋮</td></tr>\n",
              "\t<tr><td>Drug B</td><td>41</td><td>0.250</td><td>T3</td><td>III</td><td> 0</td><td>1</td><td>16.57</td></tr>\n",
              "\t<tr><td>Drug A</td><td>41</td><td>0.816</td><td>T1</td><td>I  </td><td> 1</td><td>0</td><td>24.00</td></tr>\n",
              "\t<tr><td>Drug A</td><td>19</td><td>0.022</td><td>T1</td><td>III</td><td> 0</td><td>0</td><td>24.00</td></tr>\n",
              "\t<tr><td>Drug B</td><td>49</td><td>0.160</td><td>T2</td><td>II </td><td> 1</td><td>0</td><td>24.00</td></tr>\n",
              "\t<tr><td>Drug B</td><td>43</td><td>0.547</td><td>T4</td><td>I  </td><td> 1</td><td>1</td><td>21.91</td></tr>\n",
              "\t<tr><td>Drug B</td><td>43</td><td>3.642</td><td>T2</td><td>III</td><td> 1</td><td>0</td><td>24.00</td></tr>\n",
              "\t<tr><td>Drug A</td><td>75</td><td>0.092</td><td>T4</td><td>I  </td><td> 0</td><td>1</td><td>12.53</td></tr>\n",
              "\t<tr><td>Drug B</td><td>52</td><td>1.200</td><td>T4</td><td>II </td><td> 1</td><td>0</td><td>24.00</td></tr>\n",
              "\t<tr><td>Drug B</td><td>42</td><td>1.512</td><td>T2</td><td>I  </td><td>NA</td><td>1</td><td>18.63</td></tr>\n",
              "\t<tr><td>Drug A</td><td>37</td><td>2.124</td><td>T3</td><td>I  </td><td> 0</td><td>1</td><td>14.82</td></tr>\n",
              "\t<tr><td>Drug A</td><td>45</td><td>   NA</td><td>T4</td><td>III</td><td> 1</td><td>1</td><td>16.46</td></tr>\n",
              "\t<tr><td>Drug A</td><td>35</td><td>0.862</td><td>T3</td><td>I  </td><td> 0</td><td>0</td><td>24.00</td></tr>\n",
              "\t<tr><td>Drug B</td><td>67</td><td>0.182</td><td>T4</td><td>II </td><td> 0</td><td>1</td><td> 9.24</td></tr>\n",
              "\t<tr><td>Drug B</td><td>38</td><td>1.075</td><td>T4</td><td>I  </td><td> 1</td><td>1</td><td>17.77</td></tr>\n",
              "\t<tr><td>Drug B</td><td>44</td><td>0.021</td><td>T1</td><td>II </td><td> 0</td><td>0</td><td>24.00</td></tr>\n",
              "\t<tr><td>Drug B</td><td>45</td><td>0.402</td><td>T1</td><td>II </td><td> 1</td><td>0</td><td>24.00</td></tr>\n",
              "\t<tr><td>Drug B</td><td>39</td><td>0.063</td><td>T4</td><td>II </td><td> 0</td><td>1</td><td> 9.92</td></tr>\n",
              "\t<tr><td>Drug A</td><td>46</td><td>1.129</td><td>T4</td><td>III</td><td> 0</td><td>1</td><td>16.16</td></tr>\n",
              "\t<tr><td>Drug A</td><td>NA</td><td>0.610</td><td>T4</td><td>II </td><td> 0</td><td>1</td><td>10.51</td></tr>\n",
              "\t<tr><td>Drug A</td><td>42</td><td>   NA</td><td>T1</td><td>II </td><td> 0</td><td>1</td><td>20.81</td></tr>\n",
              "\t<tr><td>Drug A</td><td>60</td><td>0.717</td><td>T2</td><td>III</td><td> 0</td><td>0</td><td>24.00</td></tr>\n",
              "\t<tr><td>Drug A</td><td>31</td><td>0.205</td><td>T2</td><td>II </td><td> 0</td><td>1</td><td>16.44</td></tr>\n",
              "\t<tr><td>Drug A</td><td>45</td><td>0.946</td><td>T2</td><td>III</td><td> 0</td><td>0</td><td>24.00</td></tr>\n",
              "\t<tr><td>Drug B</td><td>38</td><td>0.386</td><td>T4</td><td>III</td><td> 0</td><td>1</td><td>22.40</td></tr>\n",
              "\t<tr><td>Drug A</td><td>NA</td><td>0.370</td><td>T3</td><td>II </td><td>NA</td><td>1</td><td>11.76</td></tr>\n",
              "\t<tr><td>Drug B</td><td>19</td><td>1.148</td><td>T3</td><td>I  </td><td> 0</td><td>0</td><td>24.00</td></tr>\n",
              "\t<tr><td>Drug A</td><td>69</td><td>   NA</td><td>T2</td><td>II </td><td> 1</td><td>1</td><td>21.60</td></tr>\n",
              "\t<tr><td>Drug A</td><td>66</td><td>0.136</td><td>T2</td><td>III</td><td> 1</td><td>0</td><td>24.00</td></tr>\n",
              "\t<tr><td>Drug A</td><td>NA</td><td>0.439</td><td>T4</td><td>III</td><td> 0</td><td>1</td><td>19.81</td></tr>\n",
              "\t<tr><td>Drug A</td><td>64</td><td>1.148</td><td>T3</td><td>I  </td><td> 0</td><td>0</td><td>24.00</td></tr>\n",
              "</tbody>\n",
              "</table>\n"
            ],
            "text/markdown": "\nA tibble: 200 × 8\n\n| trt &lt;chr&gt; | age &lt;dbl&gt; | marker &lt;dbl&gt; | stage &lt;fct&gt; | grade &lt;fct&gt; | response &lt;int&gt; | death &lt;int&gt; | ttdeath &lt;dbl&gt; |\n|---|---|---|---|---|---|---|---|\n| Drug A | 23 | 0.160 | T1 | II  | 0 | 0 | 24.00 |\n| Drug B |  9 | 1.107 | T2 | I   | 1 | 0 | 24.00 |\n| Drug A | 31 | 0.277 | T1 | II  | 0 | 0 | 24.00 |\n| Drug A | NA | 2.067 | T3 | III | 1 | 1 | 17.64 |\n| Drug A | 51 | 2.767 | T4 | III | 1 | 1 | 16.43 |\n| Drug B | 39 | 0.613 | T4 | I   | 0 | 1 | 15.64 |\n| Drug A | 37 | 0.354 | T1 | II  | 0 | 0 | 24.00 |\n| Drug A | 32 | 1.739 | T1 | I   | 0 | 1 | 18.43 |\n| Drug A | 31 | 0.144 | T1 | II  | 0 | 0 | 24.00 |\n| Drug B | 34 | 0.205 | T3 | I   | 0 | 1 | 10.53 |\n| Drug B | 42 | 0.513 | T1 | III | 0 | 0 | 24.00 |\n| Drug B | 63 | 0.060 | T3 | I   | 1 | 0 | 24.00 |\n| Drug B | 54 | 0.831 | T4 | III | 0 | 1 | 14.34 |\n| Drug B | 21 | 0.258 | T4 | I   | 0 | 1 | 12.89 |\n| Drug B | 48 | 0.128 | T1 | I   | 0 | 1 | 22.68 |\n| Drug B | 71 | 0.445 | T4 | III | 0 | 1 |  8.71 |\n| Drug A | 38 | 2.083 | T4 | III | 1 | 0 | 24.00 |\n| Drug B | 49 | 0.157 | T2 | II  | 0 | 1 | 15.21 |\n| Drug A | 57 | 0.066 | T1 | III | 0 | 0 | 24.00 |\n| Drug A | 46 | 0.325 | T1 | II  | 0 | 0 | 24.00 |\n| Drug A | 47 | 0.266 | T2 | I   | 0 | 0 | 24.00 |\n| Drug A | 52 | 0.719 | T2 | II  | 0 | 0 | 24.00 |\n| Drug A | 61 | 1.713 | T4 | I   | 0 | 1 | 16.92 |\n| Drug A | 38 | 0.096 | T4 | I   | 0 | 1 | 23.89 |\n| Drug B | 34 | 0.105 | T4 | II  | 0 | 1 |  6.32 |\n| Drug B | 49 | 0.043 | T2 | III | 0 | 1 | 15.77 |\n| Drug A | 63 | 0.981 | T4 | II  | 1 | 0 | 24.00 |\n| Drug B | 67 | 1.156 | T1 | II  | 0 | 0 | 24.00 |\n| Drug B | 68 | 0.105 | T4 | II  | 0 | 1 | 15.45 |\n| Drug A | 78 | 0.175 | T3 | I   | 1 | 1 | 17.43 |\n| ⋮ | ⋮ | ⋮ | ⋮ | ⋮ | ⋮ | ⋮ | ⋮ |\n| Drug B | 41 | 0.250 | T3 | III |  0 | 1 | 16.57 |\n| Drug A | 41 | 0.816 | T1 | I   |  1 | 0 | 24.00 |\n| Drug A | 19 | 0.022 | T1 | III |  0 | 0 | 24.00 |\n| Drug B | 49 | 0.160 | T2 | II  |  1 | 0 | 24.00 |\n| Drug B | 43 | 0.547 | T4 | I   |  1 | 1 | 21.91 |\n| Drug B | 43 | 3.642 | T2 | III |  1 | 0 | 24.00 |\n| Drug A | 75 | 0.092 | T4 | I   |  0 | 1 | 12.53 |\n| Drug B | 52 | 1.200 | T4 | II  |  1 | 0 | 24.00 |\n| Drug B | 42 | 1.512 | T2 | I   | NA | 1 | 18.63 |\n| Drug A | 37 | 2.124 | T3 | I   |  0 | 1 | 14.82 |\n| Drug A | 45 |    NA | T4 | III |  1 | 1 | 16.46 |\n| Drug A | 35 | 0.862 | T3 | I   |  0 | 0 | 24.00 |\n| Drug B | 67 | 0.182 | T4 | II  |  0 | 1 |  9.24 |\n| Drug B | 38 | 1.075 | T4 | I   |  1 | 1 | 17.77 |\n| Drug B | 44 | 0.021 | T1 | II  |  0 | 0 | 24.00 |\n| Drug B | 45 | 0.402 | T1 | II  |  1 | 0 | 24.00 |\n| Drug B | 39 | 0.063 | T4 | II  |  0 | 1 |  9.92 |\n| Drug A | 46 | 1.129 | T4 | III |  0 | 1 | 16.16 |\n| Drug A | NA | 0.610 | T4 | II  |  0 | 1 | 10.51 |\n| Drug A | 42 |    NA | T1 | II  |  0 | 1 | 20.81 |\n| Drug A | 60 | 0.717 | T2 | III |  0 | 0 | 24.00 |\n| Drug A | 31 | 0.205 | T2 | II  |  0 | 1 | 16.44 |\n| Drug A | 45 | 0.946 | T2 | III |  0 | 0 | 24.00 |\n| Drug B | 38 | 0.386 | T4 | III |  0 | 1 | 22.40 |\n| Drug A | NA | 0.370 | T3 | II  | NA | 1 | 11.76 |\n| Drug B | 19 | 1.148 | T3 | I   |  0 | 0 | 24.00 |\n| Drug A | 69 |    NA | T2 | II  |  1 | 1 | 21.60 |\n| Drug A | 66 | 0.136 | T2 | III |  1 | 0 | 24.00 |\n| Drug A | NA | 0.439 | T4 | III |  0 | 1 | 19.81 |\n| Drug A | 64 | 1.148 | T3 | I   |  0 | 0 | 24.00 |\n\n",
            "text/latex": "A tibble: 200 × 8\n\\begin{tabular}{llllllll}\n trt & age & marker & stage & grade & response & death & ttdeath\\\\\n <chr> & <dbl> & <dbl> & <fct> & <fct> & <int> & <int> & <dbl>\\\\\n\\hline\n\t Drug A & 23 & 0.160 & T1 & II  & 0 & 0 & 24.00\\\\\n\t Drug B &  9 & 1.107 & T2 & I   & 1 & 0 & 24.00\\\\\n\t Drug A & 31 & 0.277 & T1 & II  & 0 & 0 & 24.00\\\\\n\t Drug A & NA & 2.067 & T3 & III & 1 & 1 & 17.64\\\\\n\t Drug A & 51 & 2.767 & T4 & III & 1 & 1 & 16.43\\\\\n\t Drug B & 39 & 0.613 & T4 & I   & 0 & 1 & 15.64\\\\\n\t Drug A & 37 & 0.354 & T1 & II  & 0 & 0 & 24.00\\\\\n\t Drug A & 32 & 1.739 & T1 & I   & 0 & 1 & 18.43\\\\\n\t Drug A & 31 & 0.144 & T1 & II  & 0 & 0 & 24.00\\\\\n\t Drug B & 34 & 0.205 & T3 & I   & 0 & 1 & 10.53\\\\\n\t Drug B & 42 & 0.513 & T1 & III & 0 & 0 & 24.00\\\\\n\t Drug B & 63 & 0.060 & T3 & I   & 1 & 0 & 24.00\\\\\n\t Drug B & 54 & 0.831 & T4 & III & 0 & 1 & 14.34\\\\\n\t Drug B & 21 & 0.258 & T4 & I   & 0 & 1 & 12.89\\\\\n\t Drug B & 48 & 0.128 & T1 & I   & 0 & 1 & 22.68\\\\\n\t Drug B & 71 & 0.445 & T4 & III & 0 & 1 &  8.71\\\\\n\t Drug A & 38 & 2.083 & T4 & III & 1 & 0 & 24.00\\\\\n\t Drug B & 49 & 0.157 & T2 & II  & 0 & 1 & 15.21\\\\\n\t Drug A & 57 & 0.066 & T1 & III & 0 & 0 & 24.00\\\\\n\t Drug A & 46 & 0.325 & T1 & II  & 0 & 0 & 24.00\\\\\n\t Drug A & 47 & 0.266 & T2 & I   & 0 & 0 & 24.00\\\\\n\t Drug A & 52 & 0.719 & T2 & II  & 0 & 0 & 24.00\\\\\n\t Drug A & 61 & 1.713 & T4 & I   & 0 & 1 & 16.92\\\\\n\t Drug A & 38 & 0.096 & T4 & I   & 0 & 1 & 23.89\\\\\n\t Drug B & 34 & 0.105 & T4 & II  & 0 & 1 &  6.32\\\\\n\t Drug B & 49 & 0.043 & T2 & III & 0 & 1 & 15.77\\\\\n\t Drug A & 63 & 0.981 & T4 & II  & 1 & 0 & 24.00\\\\\n\t Drug B & 67 & 1.156 & T1 & II  & 0 & 0 & 24.00\\\\\n\t Drug B & 68 & 0.105 & T4 & II  & 0 & 1 & 15.45\\\\\n\t Drug A & 78 & 0.175 & T3 & I   & 1 & 1 & 17.43\\\\\n\t ⋮ & ⋮ & ⋮ & ⋮ & ⋮ & ⋮ & ⋮ & ⋮\\\\\n\t Drug B & 41 & 0.250 & T3 & III &  0 & 1 & 16.57\\\\\n\t Drug A & 41 & 0.816 & T1 & I   &  1 & 0 & 24.00\\\\\n\t Drug A & 19 & 0.022 & T1 & III &  0 & 0 & 24.00\\\\\n\t Drug B & 49 & 0.160 & T2 & II  &  1 & 0 & 24.00\\\\\n\t Drug B & 43 & 0.547 & T4 & I   &  1 & 1 & 21.91\\\\\n\t Drug B & 43 & 3.642 & T2 & III &  1 & 0 & 24.00\\\\\n\t Drug A & 75 & 0.092 & T4 & I   &  0 & 1 & 12.53\\\\\n\t Drug B & 52 & 1.200 & T4 & II  &  1 & 0 & 24.00\\\\\n\t Drug B & 42 & 1.512 & T2 & I   & NA & 1 & 18.63\\\\\n\t Drug A & 37 & 2.124 & T3 & I   &  0 & 1 & 14.82\\\\\n\t Drug A & 45 &    NA & T4 & III &  1 & 1 & 16.46\\\\\n\t Drug A & 35 & 0.862 & T3 & I   &  0 & 0 & 24.00\\\\\n\t Drug B & 67 & 0.182 & T4 & II  &  0 & 1 &  9.24\\\\\n\t Drug B & 38 & 1.075 & T4 & I   &  1 & 1 & 17.77\\\\\n\t Drug B & 44 & 0.021 & T1 & II  &  0 & 0 & 24.00\\\\\n\t Drug B & 45 & 0.402 & T1 & II  &  1 & 0 & 24.00\\\\\n\t Drug B & 39 & 0.063 & T4 & II  &  0 & 1 &  9.92\\\\\n\t Drug A & 46 & 1.129 & T4 & III &  0 & 1 & 16.16\\\\\n\t Drug A & NA & 0.610 & T4 & II  &  0 & 1 & 10.51\\\\\n\t Drug A & 42 &    NA & T1 & II  &  0 & 1 & 20.81\\\\\n\t Drug A & 60 & 0.717 & T2 & III &  0 & 0 & 24.00\\\\\n\t Drug A & 31 & 0.205 & T2 & II  &  0 & 1 & 16.44\\\\\n\t Drug A & 45 & 0.946 & T2 & III &  0 & 0 & 24.00\\\\\n\t Drug B & 38 & 0.386 & T4 & III &  0 & 1 & 22.40\\\\\n\t Drug A & NA & 0.370 & T3 & II  & NA & 1 & 11.76\\\\\n\t Drug B & 19 & 1.148 & T3 & I   &  0 & 0 & 24.00\\\\\n\t Drug A & 69 &    NA & T2 & II  &  1 & 1 & 21.60\\\\\n\t Drug A & 66 & 0.136 & T2 & III &  1 & 0 & 24.00\\\\\n\t Drug A & NA & 0.439 & T4 & III &  0 & 1 & 19.81\\\\\n\t Drug A & 64 & 1.148 & T3 & I   &  0 & 0 & 24.00\\\\\n\\end{tabular}\n",
            "text/plain": [
              "    trt    age marker stage grade response death ttdeath\n",
              "1   Drug A 23  0.160  T1    II    0        0     24.00  \n",
              "2   Drug B  9  1.107  T2    I     1        0     24.00  \n",
              "3   Drug A 31  0.277  T1    II    0        0     24.00  \n",
              "4   Drug A NA  2.067  T3    III   1        1     17.64  \n",
              "5   Drug A 51  2.767  T4    III   1        1     16.43  \n",
              "6   Drug B 39  0.613  T4    I     0        1     15.64  \n",
              "7   Drug A 37  0.354  T1    II    0        0     24.00  \n",
              "8   Drug A 32  1.739  T1    I     0        1     18.43  \n",
              "9   Drug A 31  0.144  T1    II    0        0     24.00  \n",
              "10  Drug B 34  0.205  T3    I     0        1     10.53  \n",
              "11  Drug B 42  0.513  T1    III   0        0     24.00  \n",
              "12  Drug B 63  0.060  T3    I     1        0     24.00  \n",
              "13  Drug B 54  0.831  T4    III   0        1     14.34  \n",
              "14  Drug B 21  0.258  T4    I     0        1     12.89  \n",
              "15  Drug B 48  0.128  T1    I     0        1     22.68  \n",
              "16  Drug B 71  0.445  T4    III   0        1      8.71  \n",
              "17  Drug A 38  2.083  T4    III   1        0     24.00  \n",
              "18  Drug B 49  0.157  T2    II    0        1     15.21  \n",
              "19  Drug A 57  0.066  T1    III   0        0     24.00  \n",
              "20  Drug A 46  0.325  T1    II    0        0     24.00  \n",
              "21  Drug A 47  0.266  T2    I     0        0     24.00  \n",
              "22  Drug A 52  0.719  T2    II    0        0     24.00  \n",
              "23  Drug A 61  1.713  T4    I     0        1     16.92  \n",
              "24  Drug A 38  0.096  T4    I     0        1     23.89  \n",
              "25  Drug B 34  0.105  T4    II    0        1      6.32  \n",
              "26  Drug B 49  0.043  T2    III   0        1     15.77  \n",
              "27  Drug A 63  0.981  T4    II    1        0     24.00  \n",
              "28  Drug B 67  1.156  T1    II    0        0     24.00  \n",
              "29  Drug B 68  0.105  T4    II    0        1     15.45  \n",
              "30  Drug A 78  0.175  T3    I     1        1     17.43  \n",
              "⋮   ⋮      ⋮   ⋮      ⋮     ⋮     ⋮        ⋮     ⋮      \n",
              "171 Drug B 41  0.250  T3    III    0       1     16.57  \n",
              "172 Drug A 41  0.816  T1    I      1       0     24.00  \n",
              "173 Drug A 19  0.022  T1    III    0       0     24.00  \n",
              "174 Drug B 49  0.160  T2    II     1       0     24.00  \n",
              "175 Drug B 43  0.547  T4    I      1       1     21.91  \n",
              "176 Drug B 43  3.642  T2    III    1       0     24.00  \n",
              "177 Drug A 75  0.092  T4    I      0       1     12.53  \n",
              "178 Drug B 52  1.200  T4    II     1       0     24.00  \n",
              "179 Drug B 42  1.512  T2    I     NA       1     18.63  \n",
              "180 Drug A 37  2.124  T3    I      0       1     14.82  \n",
              "181 Drug A 45     NA  T4    III    1       1     16.46  \n",
              "182 Drug A 35  0.862  T3    I      0       0     24.00  \n",
              "183 Drug B 67  0.182  T4    II     0       1      9.24  \n",
              "184 Drug B 38  1.075  T4    I      1       1     17.77  \n",
              "185 Drug B 44  0.021  T1    II     0       0     24.00  \n",
              "186 Drug B 45  0.402  T1    II     1       0     24.00  \n",
              "187 Drug B 39  0.063  T4    II     0       1      9.92  \n",
              "188 Drug A 46  1.129  T4    III    0       1     16.16  \n",
              "189 Drug A NA  0.610  T4    II     0       1     10.51  \n",
              "190 Drug A 42     NA  T1    II     0       1     20.81  \n",
              "191 Drug A 60  0.717  T2    III    0       0     24.00  \n",
              "192 Drug A 31  0.205  T2    II     0       1     16.44  \n",
              "193 Drug A 45  0.946  T2    III    0       0     24.00  \n",
              "194 Drug B 38  0.386  T4    III    0       1     22.40  \n",
              "195 Drug A NA  0.370  T3    II    NA       1     11.76  \n",
              "196 Drug B 19  1.148  T3    I      0       0     24.00  \n",
              "197 Drug A 69     NA  T2    II     1       1     21.60  \n",
              "198 Drug A 66  0.136  T2    III    1       0     24.00  \n",
              "199 Drug A NA  0.439  T4    III    0       1     19.81  \n",
              "200 Drug A 64  1.148  T3    I      0       0     24.00  "
            ]
          },
          "metadata": {}
        }
      ]
    },
    {
      "cell_type": "code",
      "source": [
        "flextable(gtsummary::trial)"
      ],
      "metadata": {
        "colab": {
          "base_uri": "https://localhost:8080/",
          "height": 451
        },
        "id": "0yzBGUqTsYVT",
        "outputId": "fc355548-901c-413c-ee7d-c71a5031ba86"
      },
      "execution_count": 14,
      "outputs": [
        {
          "output_type": "display_data",
          "data": {
            "text/plain": [
              "a flextable object.\n",
              "col_keys: `trt`, `age`, `marker`, `stage`, `grade`, `response`, `death`, `ttdeath` \n",
              "header has 1 row(s) \n",
              "body has 200 row(s) \n",
              "original dataset sample: \n",
              "'data.frame':\t200 obs. of  8 variables:\n",
              " $ trt     : chr  \"Drug A\" \"Drug B\" \"Drug A\" \"Drug A\" ...\n",
              "  ..- attr(*, \"label\")= chr \"Chemotherapy Treatment\"\n",
              " $ age     : num  23 9 31 NA 51 39 37 32 31 34 ...\n",
              "  ..- attr(*, \"label\")= chr \"Age\"\n",
              " $ marker  : num  0.16 1.107 0.277 2.067 2.767 ...\n",
              "  ..- attr(*, \"label\")= chr \"Marker Level (ng/mL)\"\n",
              " $ stage   : Factor w/ 4 levels \"T1\",\"T2\",\"T3\",..: 1 2 1 3 4 4 1 1 1 3 ...\n",
              "  ..- attr(*, \"label\")= chr \"T Stage\"\n",
              " $ grade   : Factor w/ 3 levels \"I\",\"II\",\"III\": 2 1 2 3 3 1 2 1 2 1 ...\n",
              "  ..- attr(*, \"label\")= chr \"Grade\"\n",
              " $ response: int  0 1 0 1 1 0 0 0 0 0 ...\n",
              "  ..- attr(*, \"label\")= chr \"Tumor Response\"\n",
              " $ death   : int  0 0 0 1 1 1 0 1 0 1 ...\n",
              "  ..- attr(*, \"label\")= chr \"Patient Died\"\n",
              " $ ttdeath : num  24 24 24 17.6 16.4 ...\n",
              "  ..- attr(*, \"label\")= chr \"Months to Death/Censor\""
            ]
          },
          "metadata": {}
        }
      ]
    },
    {
      "cell_type": "code",
      "source": [
        "df <- trial"
      ],
      "metadata": {
        "id": "emrTN6UqsvkD"
      },
      "execution_count": 15,
      "outputs": []
    },
    {
      "cell_type": "code",
      "source": [
        "df%>%\n",
        "  gtsummary::tbl_summary(by = trt)\n",
        "  head(df)"
      ],
      "metadata": {
        "colab": {
          "base_uri": "https://localhost:8080/",
          "height": 1000
        },
        "id": "_P2SulORtnn3",
        "outputId": "56d8eed9-9f90-4812-b4d6-9725c87e655c"
      },
      "execution_count": 22,
      "outputs": [
        {
          "output_type": "display_data",
          "data": {
            "text/plain": [
              "<div id=\"nqcljfxinu\" style=\"padding-left:0px;padding-right:0px;padding-top:10px;padding-bottom:10px;overflow-x:auto;overflow-y:auto;width:auto;height:auto;\">\n",
              "  <style>#nqcljfxinu table {\n",
              "  font-family: system-ui, 'Segoe UI', Roboto, Helvetica, Arial, sans-serif, 'Apple Color Emoji', 'Segoe UI Emoji', 'Segoe UI Symbol', 'Noto Color Emoji';\n",
              "  -webkit-font-smoothing: antialiased;\n",
              "  -moz-osx-font-smoothing: grayscale;\n",
              "}\n",
              "\n",
              "#nqcljfxinu thead, #nqcljfxinu tbody, #nqcljfxinu tfoot, #nqcljfxinu tr, #nqcljfxinu td, #nqcljfxinu th {\n",
              "  border-style: none;\n",
              "}\n",
              "\n",
              "#nqcljfxinu p {\n",
              "  margin: 0;\n",
              "  padding: 0;\n",
              "}\n",
              "\n",
              "#nqcljfxinu .gt_table {\n",
              "  display: table;\n",
              "  border-collapse: collapse;\n",
              "  line-height: normal;\n",
              "  margin-left: auto;\n",
              "  margin-right: auto;\n",
              "  color: #333333;\n",
              "  font-size: 16px;\n",
              "  font-weight: normal;\n",
              "  font-style: normal;\n",
              "  background-color: #FFFFFF;\n",
              "  width: auto;\n",
              "  border-top-style: solid;\n",
              "  border-top-width: 2px;\n",
              "  border-top-color: #A8A8A8;\n",
              "  border-right-style: none;\n",
              "  border-right-width: 2px;\n",
              "  border-right-color: #D3D3D3;\n",
              "  border-bottom-style: solid;\n",
              "  border-bottom-width: 2px;\n",
              "  border-bottom-color: #A8A8A8;\n",
              "  border-left-style: none;\n",
              "  border-left-width: 2px;\n",
              "  border-left-color: #D3D3D3;\n",
              "}\n",
              "\n",
              "#nqcljfxinu .gt_caption {\n",
              "  padding-top: 4px;\n",
              "  padding-bottom: 4px;\n",
              "}\n",
              "\n",
              "#nqcljfxinu .gt_title {\n",
              "  color: #333333;\n",
              "  font-size: 125%;\n",
              "  font-weight: initial;\n",
              "  padding-top: 4px;\n",
              "  padding-bottom: 4px;\n",
              "  padding-left: 5px;\n",
              "  padding-right: 5px;\n",
              "  border-bottom-color: #FFFFFF;\n",
              "  border-bottom-width: 0;\n",
              "}\n",
              "\n",
              "#nqcljfxinu .gt_subtitle {\n",
              "  color: #333333;\n",
              "  font-size: 85%;\n",
              "  font-weight: initial;\n",
              "  padding-top: 3px;\n",
              "  padding-bottom: 5px;\n",
              "  padding-left: 5px;\n",
              "  padding-right: 5px;\n",
              "  border-top-color: #FFFFFF;\n",
              "  border-top-width: 0;\n",
              "}\n",
              "\n",
              "#nqcljfxinu .gt_heading {\n",
              "  background-color: #FFFFFF;\n",
              "  text-align: center;\n",
              "  border-bottom-color: #FFFFFF;\n",
              "  border-left-style: none;\n",
              "  border-left-width: 1px;\n",
              "  border-left-color: #D3D3D3;\n",
              "  border-right-style: none;\n",
              "  border-right-width: 1px;\n",
              "  border-right-color: #D3D3D3;\n",
              "}\n",
              "\n",
              "#nqcljfxinu .gt_bottom_border {\n",
              "  border-bottom-style: solid;\n",
              "  border-bottom-width: 2px;\n",
              "  border-bottom-color: #D3D3D3;\n",
              "}\n",
              "\n",
              "#nqcljfxinu .gt_col_headings {\n",
              "  border-top-style: solid;\n",
              "  border-top-width: 2px;\n",
              "  border-top-color: #D3D3D3;\n",
              "  border-bottom-style: solid;\n",
              "  border-bottom-width: 2px;\n",
              "  border-bottom-color: #D3D3D3;\n",
              "  border-left-style: none;\n",
              "  border-left-width: 1px;\n",
              "  border-left-color: #D3D3D3;\n",
              "  border-right-style: none;\n",
              "  border-right-width: 1px;\n",
              "  border-right-color: #D3D3D3;\n",
              "}\n",
              "\n",
              "#nqcljfxinu .gt_col_heading {\n",
              "  color: #333333;\n",
              "  background-color: #FFFFFF;\n",
              "  font-size: 100%;\n",
              "  font-weight: normal;\n",
              "  text-transform: inherit;\n",
              "  border-left-style: none;\n",
              "  border-left-width: 1px;\n",
              "  border-left-color: #D3D3D3;\n",
              "  border-right-style: none;\n",
              "  border-right-width: 1px;\n",
              "  border-right-color: #D3D3D3;\n",
              "  vertical-align: bottom;\n",
              "  padding-top: 5px;\n",
              "  padding-bottom: 6px;\n",
              "  padding-left: 5px;\n",
              "  padding-right: 5px;\n",
              "  overflow-x: hidden;\n",
              "}\n",
              "\n",
              "#nqcljfxinu .gt_column_spanner_outer {\n",
              "  color: #333333;\n",
              "  background-color: #FFFFFF;\n",
              "  font-size: 100%;\n",
              "  font-weight: normal;\n",
              "  text-transform: inherit;\n",
              "  padding-top: 0;\n",
              "  padding-bottom: 0;\n",
              "  padding-left: 4px;\n",
              "  padding-right: 4px;\n",
              "}\n",
              "\n",
              "#nqcljfxinu .gt_column_spanner_outer:first-child {\n",
              "  padding-left: 0;\n",
              "}\n",
              "\n",
              "#nqcljfxinu .gt_column_spanner_outer:last-child {\n",
              "  padding-right: 0;\n",
              "}\n",
              "\n",
              "#nqcljfxinu .gt_column_spanner {\n",
              "  border-bottom-style: solid;\n",
              "  border-bottom-width: 2px;\n",
              "  border-bottom-color: #D3D3D3;\n",
              "  vertical-align: bottom;\n",
              "  padding-top: 5px;\n",
              "  padding-bottom: 5px;\n",
              "  overflow-x: hidden;\n",
              "  display: inline-block;\n",
              "  width: 100%;\n",
              "}\n",
              "\n",
              "#nqcljfxinu .gt_spanner_row {\n",
              "  border-bottom-style: hidden;\n",
              "}\n",
              "\n",
              "#nqcljfxinu .gt_group_heading {\n",
              "  padding-top: 8px;\n",
              "  padding-bottom: 8px;\n",
              "  padding-left: 5px;\n",
              "  padding-right: 5px;\n",
              "  color: #333333;\n",
              "  background-color: #FFFFFF;\n",
              "  font-size: 100%;\n",
              "  font-weight: initial;\n",
              "  text-transform: inherit;\n",
              "  border-top-style: solid;\n",
              "  border-top-width: 2px;\n",
              "  border-top-color: #D3D3D3;\n",
              "  border-bottom-style: solid;\n",
              "  border-bottom-width: 2px;\n",
              "  border-bottom-color: #D3D3D3;\n",
              "  border-left-style: none;\n",
              "  border-left-width: 1px;\n",
              "  border-left-color: #D3D3D3;\n",
              "  border-right-style: none;\n",
              "  border-right-width: 1px;\n",
              "  border-right-color: #D3D3D3;\n",
              "  vertical-align: middle;\n",
              "  text-align: left;\n",
              "}\n",
              "\n",
              "#nqcljfxinu .gt_empty_group_heading {\n",
              "  padding: 0.5px;\n",
              "  color: #333333;\n",
              "  background-color: #FFFFFF;\n",
              "  font-size: 100%;\n",
              "  font-weight: initial;\n",
              "  border-top-style: solid;\n",
              "  border-top-width: 2px;\n",
              "  border-top-color: #D3D3D3;\n",
              "  border-bottom-style: solid;\n",
              "  border-bottom-width: 2px;\n",
              "  border-bottom-color: #D3D3D3;\n",
              "  vertical-align: middle;\n",
              "}\n",
              "\n",
              "#nqcljfxinu .gt_from_md > :first-child {\n",
              "  margin-top: 0;\n",
              "}\n",
              "\n",
              "#nqcljfxinu .gt_from_md > :last-child {\n",
              "  margin-bottom: 0;\n",
              "}\n",
              "\n",
              "#nqcljfxinu .gt_row {\n",
              "  padding-top: 8px;\n",
              "  padding-bottom: 8px;\n",
              "  padding-left: 5px;\n",
              "  padding-right: 5px;\n",
              "  margin: 10px;\n",
              "  border-top-style: solid;\n",
              "  border-top-width: 1px;\n",
              "  border-top-color: #D3D3D3;\n",
              "  border-left-style: none;\n",
              "  border-left-width: 1px;\n",
              "  border-left-color: #D3D3D3;\n",
              "  border-right-style: none;\n",
              "  border-right-width: 1px;\n",
              "  border-right-color: #D3D3D3;\n",
              "  vertical-align: middle;\n",
              "  overflow-x: hidden;\n",
              "}\n",
              "\n",
              "#nqcljfxinu .gt_stub {\n",
              "  color: #333333;\n",
              "  background-color: #FFFFFF;\n",
              "  font-size: 100%;\n",
              "  font-weight: initial;\n",
              "  text-transform: inherit;\n",
              "  border-right-style: solid;\n",
              "  border-right-width: 2px;\n",
              "  border-right-color: #D3D3D3;\n",
              "  padding-left: 5px;\n",
              "  padding-right: 5px;\n",
              "}\n",
              "\n",
              "#nqcljfxinu .gt_stub_row_group {\n",
              "  color: #333333;\n",
              "  background-color: #FFFFFF;\n",
              "  font-size: 100%;\n",
              "  font-weight: initial;\n",
              "  text-transform: inherit;\n",
              "  border-right-style: solid;\n",
              "  border-right-width: 2px;\n",
              "  border-right-color: #D3D3D3;\n",
              "  padding-left: 5px;\n",
              "  padding-right: 5px;\n",
              "  vertical-align: top;\n",
              "}\n",
              "\n",
              "#nqcljfxinu .gt_row_group_first td {\n",
              "  border-top-width: 2px;\n",
              "}\n",
              "\n",
              "#nqcljfxinu .gt_row_group_first th {\n",
              "  border-top-width: 2px;\n",
              "}\n",
              "\n",
              "#nqcljfxinu .gt_summary_row {\n",
              "  color: #333333;\n",
              "  background-color: #FFFFFF;\n",
              "  text-transform: inherit;\n",
              "  padding-top: 8px;\n",
              "  padding-bottom: 8px;\n",
              "  padding-left: 5px;\n",
              "  padding-right: 5px;\n",
              "}\n",
              "\n",
              "#nqcljfxinu .gt_first_summary_row {\n",
              "  border-top-style: solid;\n",
              "  border-top-color: #D3D3D3;\n",
              "}\n",
              "\n",
              "#nqcljfxinu .gt_first_summary_row.thick {\n",
              "  border-top-width: 2px;\n",
              "}\n",
              "\n",
              "#nqcljfxinu .gt_last_summary_row {\n",
              "  padding-top: 8px;\n",
              "  padding-bottom: 8px;\n",
              "  padding-left: 5px;\n",
              "  padding-right: 5px;\n",
              "  border-bottom-style: solid;\n",
              "  border-bottom-width: 2px;\n",
              "  border-bottom-color: #D3D3D3;\n",
              "}\n",
              "\n",
              "#nqcljfxinu .gt_grand_summary_row {\n",
              "  color: #333333;\n",
              "  background-color: #FFFFFF;\n",
              "  text-transform: inherit;\n",
              "  padding-top: 8px;\n",
              "  padding-bottom: 8px;\n",
              "  padding-left: 5px;\n",
              "  padding-right: 5px;\n",
              "}\n",
              "\n",
              "#nqcljfxinu .gt_first_grand_summary_row {\n",
              "  padding-top: 8px;\n",
              "  padding-bottom: 8px;\n",
              "  padding-left: 5px;\n",
              "  padding-right: 5px;\n",
              "  border-top-style: double;\n",
              "  border-top-width: 6px;\n",
              "  border-top-color: #D3D3D3;\n",
              "}\n",
              "\n",
              "#nqcljfxinu .gt_last_grand_summary_row_top {\n",
              "  padding-top: 8px;\n",
              "  padding-bottom: 8px;\n",
              "  padding-left: 5px;\n",
              "  padding-right: 5px;\n",
              "  border-bottom-style: double;\n",
              "  border-bottom-width: 6px;\n",
              "  border-bottom-color: #D3D3D3;\n",
              "}\n",
              "\n",
              "#nqcljfxinu .gt_striped {\n",
              "  background-color: rgba(128, 128, 128, 0.05);\n",
              "}\n",
              "\n",
              "#nqcljfxinu .gt_table_body {\n",
              "  border-top-style: solid;\n",
              "  border-top-width: 2px;\n",
              "  border-top-color: #D3D3D3;\n",
              "  border-bottom-style: solid;\n",
              "  border-bottom-width: 2px;\n",
              "  border-bottom-color: #D3D3D3;\n",
              "}\n",
              "\n",
              "#nqcljfxinu .gt_footnotes {\n",
              "  color: #333333;\n",
              "  background-color: #FFFFFF;\n",
              "  border-bottom-style: none;\n",
              "  border-bottom-width: 2px;\n",
              "  border-bottom-color: #D3D3D3;\n",
              "  border-left-style: none;\n",
              "  border-left-width: 2px;\n",
              "  border-left-color: #D3D3D3;\n",
              "  border-right-style: none;\n",
              "  border-right-width: 2px;\n",
              "  border-right-color: #D3D3D3;\n",
              "}\n",
              "\n",
              "#nqcljfxinu .gt_footnote {\n",
              "  margin: 0px;\n",
              "  font-size: 90%;\n",
              "  padding-top: 4px;\n",
              "  padding-bottom: 4px;\n",
              "  padding-left: 5px;\n",
              "  padding-right: 5px;\n",
              "}\n",
              "\n",
              "#nqcljfxinu .gt_sourcenotes {\n",
              "  color: #333333;\n",
              "  background-color: #FFFFFF;\n",
              "  border-bottom-style: none;\n",
              "  border-bottom-width: 2px;\n",
              "  border-bottom-color: #D3D3D3;\n",
              "  border-left-style: none;\n",
              "  border-left-width: 2px;\n",
              "  border-left-color: #D3D3D3;\n",
              "  border-right-style: none;\n",
              "  border-right-width: 2px;\n",
              "  border-right-color: #D3D3D3;\n",
              "}\n",
              "\n",
              "#nqcljfxinu .gt_sourcenote {\n",
              "  font-size: 90%;\n",
              "  padding-top: 4px;\n",
              "  padding-bottom: 4px;\n",
              "  padding-left: 5px;\n",
              "  padding-right: 5px;\n",
              "}\n",
              "\n",
              "#nqcljfxinu .gt_left {\n",
              "  text-align: left;\n",
              "}\n",
              "\n",
              "#nqcljfxinu .gt_center {\n",
              "  text-align: center;\n",
              "}\n",
              "\n",
              "#nqcljfxinu .gt_right {\n",
              "  text-align: right;\n",
              "  font-variant-numeric: tabular-nums;\n",
              "}\n",
              "\n",
              "#nqcljfxinu .gt_font_normal {\n",
              "  font-weight: normal;\n",
              "}\n",
              "\n",
              "#nqcljfxinu .gt_font_bold {\n",
              "  font-weight: bold;\n",
              "}\n",
              "\n",
              "#nqcljfxinu .gt_font_italic {\n",
              "  font-style: italic;\n",
              "}\n",
              "\n",
              "#nqcljfxinu .gt_super {\n",
              "  font-size: 65%;\n",
              "}\n",
              "\n",
              "#nqcljfxinu .gt_footnote_marks {\n",
              "  font-size: 75%;\n",
              "  vertical-align: 0.4em;\n",
              "  position: initial;\n",
              "}\n",
              "\n",
              "#nqcljfxinu .gt_asterisk {\n",
              "  font-size: 100%;\n",
              "  vertical-align: 0;\n",
              "}\n",
              "\n",
              "#nqcljfxinu .gt_indent_1 {\n",
              "  text-indent: 5px;\n",
              "}\n",
              "\n",
              "#nqcljfxinu .gt_indent_2 {\n",
              "  text-indent: 10px;\n",
              "}\n",
              "\n",
              "#nqcljfxinu .gt_indent_3 {\n",
              "  text-indent: 15px;\n",
              "}\n",
              "\n",
              "#nqcljfxinu .gt_indent_4 {\n",
              "  text-indent: 20px;\n",
              "}\n",
              "\n",
              "#nqcljfxinu .gt_indent_5 {\n",
              "  text-indent: 25px;\n",
              "}\n",
              "\n",
              "#nqcljfxinu .katex-display {\n",
              "  display: inline-flex !important;\n",
              "  margin-bottom: 0.75em !important;\n",
              "}\n",
              "\n",
              "#nqcljfxinu div.Reactable > div.rt-table > div.rt-thead > div.rt-tr.rt-tr-group-header > div.rt-th-group:after {\n",
              "  height: 0px !important;\n",
              "}\n",
              "</style>\n",
              "  <table class=\"gt_table\" data-quarto-disable-processing=\"false\" data-quarto-bootstrap=\"false\">\n",
              "  <thead>\n",
              "    <tr class=\"gt_col_headings\">\n",
              "      <th class=\"gt_col_heading gt_columns_bottom_border gt_left\" rowspan=\"1\" colspan=\"1\" scope=\"col\" id=\"label\"><span class='gt_from_md'><strong>Characteristic</strong></span></th>\n",
              "      <th class=\"gt_col_heading gt_columns_bottom_border gt_center\" rowspan=\"1\" colspan=\"1\" scope=\"col\" id=\"stat_1\"><span class='gt_from_md'><strong>Drug A</strong><br />\n",
              "N = 98</span><span class=\"gt_footnote_marks\" style=\"white-space:nowrap;font-style:italic;font-weight:normal;line-height:0;\"><sup>1</sup></span></th>\n",
              "      <th class=\"gt_col_heading gt_columns_bottom_border gt_center\" rowspan=\"1\" colspan=\"1\" scope=\"col\" id=\"stat_2\"><span class='gt_from_md'><strong>Drug B</strong><br />\n",
              "N = 102</span><span class=\"gt_footnote_marks\" style=\"white-space:nowrap;font-style:italic;font-weight:normal;line-height:0;\"><sup>1</sup></span></th>\n",
              "    </tr>\n",
              "  </thead>\n",
              "  <tbody class=\"gt_table_body\">\n",
              "    <tr><td headers=\"label\" class=\"gt_row gt_left\">Age</td>\n",
              "<td headers=\"stat_1\" class=\"gt_row gt_center\">46 (37, 60)</td>\n",
              "<td headers=\"stat_2\" class=\"gt_row gt_center\">48 (39, 56)</td></tr>\n",
              "    <tr><td headers=\"label\" class=\"gt_row gt_left\">    Unknown</td>\n",
              "<td headers=\"stat_1\" class=\"gt_row gt_center\">7</td>\n",
              "<td headers=\"stat_2\" class=\"gt_row gt_center\">4</td></tr>\n",
              "    <tr><td headers=\"label\" class=\"gt_row gt_left\">Marker Level (ng/mL)</td>\n",
              "<td headers=\"stat_1\" class=\"gt_row gt_center\">0.84 (0.23, 1.60)</td>\n",
              "<td headers=\"stat_2\" class=\"gt_row gt_center\">0.52 (0.18, 1.21)</td></tr>\n",
              "    <tr><td headers=\"label\" class=\"gt_row gt_left\">    Unknown</td>\n",
              "<td headers=\"stat_1\" class=\"gt_row gt_center\">6</td>\n",
              "<td headers=\"stat_2\" class=\"gt_row gt_center\">4</td></tr>\n",
              "    <tr><td headers=\"label\" class=\"gt_row gt_left\">T Stage</td>\n",
              "<td headers=\"stat_1\" class=\"gt_row gt_center\"><br /></td>\n",
              "<td headers=\"stat_2\" class=\"gt_row gt_center\"><br /></td></tr>\n",
              "    <tr><td headers=\"label\" class=\"gt_row gt_left\">    T1</td>\n",
              "<td headers=\"stat_1\" class=\"gt_row gt_center\">28 (29%)</td>\n",
              "<td headers=\"stat_2\" class=\"gt_row gt_center\">25 (25%)</td></tr>\n",
              "    <tr><td headers=\"label\" class=\"gt_row gt_left\">    T2</td>\n",
              "<td headers=\"stat_1\" class=\"gt_row gt_center\">25 (26%)</td>\n",
              "<td headers=\"stat_2\" class=\"gt_row gt_center\">29 (28%)</td></tr>\n",
              "    <tr><td headers=\"label\" class=\"gt_row gt_left\">    T3</td>\n",
              "<td headers=\"stat_1\" class=\"gt_row gt_center\">22 (22%)</td>\n",
              "<td headers=\"stat_2\" class=\"gt_row gt_center\">21 (21%)</td></tr>\n",
              "    <tr><td headers=\"label\" class=\"gt_row gt_left\">    T4</td>\n",
              "<td headers=\"stat_1\" class=\"gt_row gt_center\">23 (23%)</td>\n",
              "<td headers=\"stat_2\" class=\"gt_row gt_center\">27 (26%)</td></tr>\n",
              "    <tr><td headers=\"label\" class=\"gt_row gt_left\">Grade</td>\n",
              "<td headers=\"stat_1\" class=\"gt_row gt_center\"><br /></td>\n",
              "<td headers=\"stat_2\" class=\"gt_row gt_center\"><br /></td></tr>\n",
              "    <tr><td headers=\"label\" class=\"gt_row gt_left\">    I</td>\n",
              "<td headers=\"stat_1\" class=\"gt_row gt_center\">35 (36%)</td>\n",
              "<td headers=\"stat_2\" class=\"gt_row gt_center\">33 (32%)</td></tr>\n",
              "    <tr><td headers=\"label\" class=\"gt_row gt_left\">    II</td>\n",
              "<td headers=\"stat_1\" class=\"gt_row gt_center\">32 (33%)</td>\n",
              "<td headers=\"stat_2\" class=\"gt_row gt_center\">36 (35%)</td></tr>\n",
              "    <tr><td headers=\"label\" class=\"gt_row gt_left\">    III</td>\n",
              "<td headers=\"stat_1\" class=\"gt_row gt_center\">31 (32%)</td>\n",
              "<td headers=\"stat_2\" class=\"gt_row gt_center\">33 (32%)</td></tr>\n",
              "    <tr><td headers=\"label\" class=\"gt_row gt_left\">Tumor Response</td>\n",
              "<td headers=\"stat_1\" class=\"gt_row gt_center\">28 (29%)</td>\n",
              "<td headers=\"stat_2\" class=\"gt_row gt_center\">33 (34%)</td></tr>\n",
              "    <tr><td headers=\"label\" class=\"gt_row gt_left\">    Unknown</td>\n",
              "<td headers=\"stat_1\" class=\"gt_row gt_center\">3</td>\n",
              "<td headers=\"stat_2\" class=\"gt_row gt_center\">4</td></tr>\n",
              "    <tr><td headers=\"label\" class=\"gt_row gt_left\">Patient Died</td>\n",
              "<td headers=\"stat_1\" class=\"gt_row gt_center\">52 (53%)</td>\n",
              "<td headers=\"stat_2\" class=\"gt_row gt_center\">60 (59%)</td></tr>\n",
              "    <tr><td headers=\"label\" class=\"gt_row gt_left\">Months to Death/Censor</td>\n",
              "<td headers=\"stat_1\" class=\"gt_row gt_center\">23.5 (17.4, 24.0)</td>\n",
              "<td headers=\"stat_2\" class=\"gt_row gt_center\">21.2 (14.5, 24.0)</td></tr>\n",
              "  </tbody>\n",
              "  <tfoot>\n",
              "    <tr class=\"gt_footnotes\">\n",
              "      <td class=\"gt_footnote\" colspan=\"3\"><span class=\"gt_footnote_marks\" style=\"white-space:nowrap;font-style:italic;font-weight:normal;line-height:0;\"><sup>1</sup></span> <span class='gt_from_md'>Median (Q1, Q3); n (%)</span></td>\n",
              "    </tr>\n",
              "  </tfoot>\n",
              "</table>\n",
              "</div>"
            ]
          },
          "metadata": {}
        },
        {
          "output_type": "display_data",
          "data": {
            "text/html": [
              "<table class=\"dataframe\">\n",
              "<caption>A tibble: 6 × 8</caption>\n",
              "<thead>\n",
              "\t<tr><th scope=col>trt</th><th scope=col>age</th><th scope=col>marker</th><th scope=col>stage</th><th scope=col>grade</th><th scope=col>response</th><th scope=col>death</th><th scope=col>ttdeath</th></tr>\n",
              "\t<tr><th scope=col>&lt;chr&gt;</th><th scope=col>&lt;dbl&gt;</th><th scope=col>&lt;dbl&gt;</th><th scope=col>&lt;fct&gt;</th><th scope=col>&lt;fct&gt;</th><th scope=col>&lt;int&gt;</th><th scope=col>&lt;int&gt;</th><th scope=col>&lt;dbl&gt;</th></tr>\n",
              "</thead>\n",
              "<tbody>\n",
              "\t<tr><td>Drug A</td><td>23</td><td>0.160</td><td>T1</td><td>II </td><td>0</td><td>0</td><td>24.00</td></tr>\n",
              "\t<tr><td>Drug B</td><td> 9</td><td>1.107</td><td>T2</td><td>I  </td><td>1</td><td>0</td><td>24.00</td></tr>\n",
              "\t<tr><td>Drug A</td><td>31</td><td>0.277</td><td>T1</td><td>II </td><td>0</td><td>0</td><td>24.00</td></tr>\n",
              "\t<tr><td>Drug A</td><td>NA</td><td>2.067</td><td>T3</td><td>III</td><td>1</td><td>1</td><td>17.64</td></tr>\n",
              "\t<tr><td>Drug A</td><td>51</td><td>2.767</td><td>T4</td><td>III</td><td>1</td><td>1</td><td>16.43</td></tr>\n",
              "\t<tr><td>Drug B</td><td>39</td><td>0.613</td><td>T4</td><td>I  </td><td>0</td><td>1</td><td>15.64</td></tr>\n",
              "</tbody>\n",
              "</table>\n"
            ],
            "text/markdown": "\nA tibble: 6 × 8\n\n| trt &lt;chr&gt; | age &lt;dbl&gt; | marker &lt;dbl&gt; | stage &lt;fct&gt; | grade &lt;fct&gt; | response &lt;int&gt; | death &lt;int&gt; | ttdeath &lt;dbl&gt; |\n|---|---|---|---|---|---|---|---|\n| Drug A | 23 | 0.160 | T1 | II  | 0 | 0 | 24.00 |\n| Drug B |  9 | 1.107 | T2 | I   | 1 | 0 | 24.00 |\n| Drug A | 31 | 0.277 | T1 | II  | 0 | 0 | 24.00 |\n| Drug A | NA | 2.067 | T3 | III | 1 | 1 | 17.64 |\n| Drug A | 51 | 2.767 | T4 | III | 1 | 1 | 16.43 |\n| Drug B | 39 | 0.613 | T4 | I   | 0 | 1 | 15.64 |\n\n",
            "text/latex": "A tibble: 6 × 8\n\\begin{tabular}{llllllll}\n trt & age & marker & stage & grade & response & death & ttdeath\\\\\n <chr> & <dbl> & <dbl> & <fct> & <fct> & <int> & <int> & <dbl>\\\\\n\\hline\n\t Drug A & 23 & 0.160 & T1 & II  & 0 & 0 & 24.00\\\\\n\t Drug B &  9 & 1.107 & T2 & I   & 1 & 0 & 24.00\\\\\n\t Drug A & 31 & 0.277 & T1 & II  & 0 & 0 & 24.00\\\\\n\t Drug A & NA & 2.067 & T3 & III & 1 & 1 & 17.64\\\\\n\t Drug A & 51 & 2.767 & T4 & III & 1 & 1 & 16.43\\\\\n\t Drug B & 39 & 0.613 & T4 & I   & 0 & 1 & 15.64\\\\\n\\end{tabular}\n",
            "text/plain": [
              "  trt    age marker stage grade response death ttdeath\n",
              "1 Drug A 23  0.160  T1    II    0        0     24.00  \n",
              "2 Drug B  9  1.107  T2    I     1        0     24.00  \n",
              "3 Drug A 31  0.277  T1    II    0        0     24.00  \n",
              "4 Drug A NA  2.067  T3    III   1        1     17.64  \n",
              "5 Drug A 51  2.767  T4    III   1        1     16.43  \n",
              "6 Drug B 39  0.613  T4    I     0        1     15.64  "
            ]
          },
          "metadata": {}
        }
      ]
    },
    {
      "cell_type": "code",
      "source": [
        "df <- df %>%\n",
        "  mutate(AgeGroup = cut(age,breaks = c(0,10,20,30,40,50,60,70,\n",
        "80,120),labels = c('0-10','11-20','21-30','31-40',\n",
        "'41-50','51-60','61-70','71-80','80+'),\n",
        "right = TRUE))"
      ],
      "metadata": {
        "id": "3jx40N6x10lj"
      },
      "execution_count": 47,
      "outputs": []
    },
    {
      "cell_type": "code",
      "source": [
        "t1 <- df %>%\n",
        "  tbl_summary(include = c(trt,AgeGroup),by = trt\n",
        ",missing = \"ifany\"\n",
        ",label = list(AgeGroup =\"1.Patient  age group\"))%>%\n",
        "  add_overall()%>%\n",
        "  add_p()%>%\n",
        "  bold_labels()%>%\n",
        "  add_n()"
      ],
      "metadata": {
        "id": "7Mz37fZa3HvF"
      },
      "execution_count": 76,
      "outputs": []
    },
    {
      "cell_type": "code",
      "source": [
        "t1 %>% as_flex_table()%>%\n",
        "  flextable::htmltools_value()"
      ],
      "metadata": {
        "colab": {
          "base_uri": "https://localhost:8080/",
          "height": 466
        },
        "id": "7L0baBUw5SOc",
        "outputId": "8275d1c2-3e34-4bf4-faa7-529ff9e3d39d"
      },
      "execution_count": 77,
      "outputs": [
        {
          "output_type": "display_data",
          "data": {
            "text/html": [
              "<!doctype html>\n",
              "<html>\n",
              "\t<head>\n",
              "\t\t<meta charset=\"utf-8\">\n",
              "\t\t<script title=\"tabwid\" src=\"data:application/javascript;base64,ZG9jdW1lbnQuYWRkRXZlbnRMaXN0ZW5lcigiRE9NQ29udGVudExvYWRlZCIsIGZ1bmN0aW9uKGV2ZW50KSB7CiAgdmFyIGVscyA9IGRvY3VtZW50LnF1ZXJ5U2VsZWN0b3JBbGwoIi50YWJ3aWQiKTsKICB2YXIgdGFid2lkX2xpbmsgPSBkb2N1bWVudC5xdWVyeVNlbGVjdG9yKCdsaW5rW2hyZWYqPSJ0YWJ3aWQuY3NzIl0nKQogIGlmICh0YWJ3aWRfbGluayA9PT0gbnVsbCkgewogICAgY29uc3QgdGFid2lkX3N0eWxlcyA9IGRvY3VtZW50LmV2YWx1YXRlKCIvL3N0eWxlW2NvbnRhaW5zKC4sICd0YWJ3aWQnKV0iLCBkb2N1bWVudCwgbnVsbCwgWFBhdGhSZXN1bHQuQU5ZX1RZUEUsIG51bGwgKTsKICAgIHRhYndpZF9saW5rID0gdGFid2lkX3N0eWxlcy5pdGVyYXRlTmV4dCgpOwogIH0KCiAgQXJyYXkucHJvdG90eXBlLmZvckVhY2guY2FsbChlbHMsIGZ1bmN0aW9uKHRlbXBsYXRlKSB7CiAgICAgIGNvbnN0IGRlc3QgPSBkb2N1bWVudC5jcmVhdGVFbGVtZW50KCJkaXYiKTsKICAgICAgdGVtcGxhdGUucGFyZW50Tm9kZS5pbnNlcnRCZWZvcmUoZGVzdCwgdGVtcGxhdGUubmV4dFNpYmxpbmcpCiAgICAgIGRlc3Quc2V0QXR0cmlidXRlKCJjbGFzcyIsICJmbGV4dGFibGUtc2hhZG93LWhvc3QiKTsKICAgICAgY29uc3QgZmFudG9tZSA9IGRlc3QuYXR0YWNoU2hhZG93KHttb2RlOiAnb3Blbid9KTsKICAgICAgZmFudG9tZS5hcHBlbmRDaGlsZCh0ZW1wbGF0ZSk7CiAgICAgIGlmICh0YWJ3aWRfbGluayAhPT0gbnVsbCkgewogICAgICAgIGZhbnRvbWUuYXBwZW5kQ2hpbGQodGFid2lkX2xpbmsuY2xvbmVOb2RlKHRydWUpKTsKICAgICAgfQogIH0pOwoKICBjb25zdCBzaGFkb3dIb3N0cyA9IGRvY3VtZW50LnF1ZXJ5U2VsZWN0b3JBbGwoJy5mbGV4dGFibGUtc2hhZG93LWhvc3Q6bm90KDpoYXMoZGl2ID4gdGFibGUubm8tc2hhZG93LWRvbSkpJyk7CiAgc2hhZG93SG9zdHMuZm9yRWFjaChob3N0ID0+IHsKICAgIGlmIChob3N0LnNoYWRvd1Jvb3QpIHsKICAgICAgY29uc3Qgc3BhbkVsZW1lbnRzID0gaG9zdC5zaGFkb3dSb290LnF1ZXJ5U2VsZWN0b3IoJ2RpdiA+IHRhYmxlID4gY2FwdGlvbiA+IHNwYW5baWRdJyk7CiAgICAgIGlmIChzcGFuRWxlbWVudHMpIHsKICAgICAgICBjb25zdCBpZCA9IHNwYW5FbGVtZW50cy5nZXRBdHRyaWJ1dGUoImlkIik7CiAgICAgICAgaG9zdC5zZXRBdHRyaWJ1dGUoImlkIiwgaWQpOwogICAgICB9CiAgICB9CiAgfSk7Cgp9KTsK\"></script>\n",
              "<link href=\"data:text/css;charset-utf-8;base64,LnRhYndpZCB7CiAgZm9udC1zaXplOiBpbml0aWFsOwogIHBhZGRpbmctYm90dG9tOiAxZW07Cn0KCi50YWJ3aWQgdGFibGV7CiAgYm9yZGVyLXNwYWNpbmc6MHB4ICFpbXBvcnRhbnQ7CiAgYm9yZGVyLWNvbGxhcHNlOmNvbGxhcHNlOwogIGxpbmUtaGVpZ2h0OjE7CiAgbWFyZ2luLWxlZnQ6YXV0bzsKICBtYXJnaW4tcmlnaHQ6YXV0bzsKICBib3JkZXItd2lkdGg6IDA7CiAgYm9yZGVyLWNvbG9yOiB0cmFuc3BhcmVudDsKICBjYXB0aW9uLXNpZGU6IHRvcDsKfQoudGFid2lkLWNhcHRpb24tYm90dG9tIHRhYmxlewogIGNhcHRpb24tc2lkZTogYm90dG9tOwp9Ci50YWJ3aWRfbGVmdCB0YWJsZXsKICBtYXJnaW4tbGVmdDowOwp9Ci50YWJ3aWRfcmlnaHQgdGFibGV7CiAgbWFyZ2luLXJpZ2h0OjA7Cn0KLnRhYndpZCB0ZCwgLnRhYndpZCB0aCB7CiAgICBwYWRkaW5nOiAwOwp9Ci50YWJ3aWQgYSB7CiAgdGV4dC1kZWNvcmF0aW9uOiBub25lOwp9Ci50YWJ3aWQgdGhlYWQgewogICAgYmFja2dyb3VuZC1jb2xvcjogdHJhbnNwYXJlbnQ7Cn0KLnRhYndpZCB0Zm9vdCB7CiAgICBiYWNrZ3JvdW5kLWNvbG9yOiB0cmFuc3BhcmVudDsKfQoudGFid2lkIHRhYmxlIHRyIHsKYmFja2dyb3VuZC1jb2xvcjogdHJhbnNwYXJlbnQ7Cn0KLmthdGV4LWRpc3BsYXkgewogICAgbWFyZ2luOiAwIDAgIWltcG9ydGFudDsKfQo=\" rel=\"stylesheet\" />\n",
              "\t</head>\n",
              "\t<body>\n",
              "\t\t<style></style>\n",
              "<div class=\"tabwid\"><style>.cl-00aebf64{}.cl-00a44a66{font-family:'DejaVu Sans';font-size:11pt;font-weight:bold;font-style:normal;text-decoration:none;color:rgba(0, 0, 0, 1.00);background-color:transparent;}.cl-00a44a70{font-family:'DejaVu Sans';font-size:11pt;font-weight:normal;font-style:normal;text-decoration:none;color:rgba(0, 0, 0, 1.00);background-color:transparent;}.cl-00a44a7a{font-family:'DejaVu Sans';font-size:6.6pt;font-weight:normal;font-style:normal;text-decoration:none;color:rgba(0, 0, 0, 1.00);background-color:transparent;position: relative;bottom:3.3pt;}.cl-00a88798{margin:0;text-align:left;border-bottom: 0 solid rgba(0, 0, 0, 1.00);border-top: 0 solid rgba(0, 0, 0, 1.00);border-left: 0 solid rgba(0, 0, 0, 1.00);border-right: 0 solid rgba(0, 0, 0, 1.00);padding-bottom:2pt;padding-top:2pt;padding-left:5pt;padding-right:5pt;line-height: 1;background-color:transparent;}.cl-00a887ac{margin:0;text-align:center;border-bottom: 0 solid rgba(0, 0, 0, 1.00);border-top: 0 solid rgba(0, 0, 0, 1.00);border-left: 0 solid rgba(0, 0, 0, 1.00);border-right: 0 solid rgba(0, 0, 0, 1.00);padding-bottom:2pt;padding-top:2pt;padding-left:5pt;padding-right:5pt;line-height: 1;background-color:transparent;}.cl-00a887b6{margin:0;text-align:left;border-bottom: 0 solid rgba(0, 0, 0, 1.00);border-top: 0 solid rgba(0, 0, 0, 1.00);border-left: 0 solid rgba(0, 0, 0, 1.00);border-right: 0 solid rgba(0, 0, 0, 1.00);padding-bottom:5pt;padding-top:5pt;padding-left:5pt;padding-right:5pt;line-height: 1;background-color:transparent;}.cl-00a887b7{margin:0;text-align:center;border-bottom: 0 solid rgba(0, 0, 0, 1.00);border-top: 0 solid rgba(0, 0, 0, 1.00);border-left: 0 solid rgba(0, 0, 0, 1.00);border-right: 0 solid rgba(0, 0, 0, 1.00);padding-bottom:5pt;padding-top:5pt;padding-left:5pt;padding-right:5pt;line-height: 1;background-color:transparent;}.cl-00a887c0{margin:0;text-align:left;border-bottom: 0 solid rgba(0, 0, 0, 1.00);border-top: 0 solid rgba(0, 0, 0, 1.00);border-left: 0 solid rgba(0, 0, 0, 1.00);border-right: 0 solid rgba(0, 0, 0, 1.00);padding-bottom:5pt;padding-top:5pt;padding-left:15pt;padding-right:5pt;line-height: 1;background-color:transparent;}.cl-00a887c1{margin:0;text-align:left;border-bottom: 0 solid rgba(0, 0, 0, 1.00);border-top: 0 solid rgba(0, 0, 0, 1.00);border-left: 0 solid rgba(0, 0, 0, 1.00);border-right: 0 solid rgba(0, 0, 0, 1.00);padding-bottom:5pt;padding-top:5pt;padding-left:5pt;padding-right:5pt;line-height: 1;background-color:transparent;}.cl-00a8c7a8{width:2.119in;background-color:transparent;vertical-align: middle;border-bottom: 1pt solid rgba(0, 0, 0, 1.00);border-top: 1pt solid rgba(0, 0, 0, 1.00);border-left: 0 solid rgba(0, 0, 0, 1.00);border-right: 0 solid rgba(0, 0, 0, 1.00);margin-bottom:0;margin-top:0;margin-left:0;margin-right:0;}.cl-00a8c7bc{width:0.56in;background-color:transparent;vertical-align: middle;border-bottom: 1pt solid rgba(0, 0, 0, 1.00);border-top: 1pt solid rgba(0, 0, 0, 1.00);border-left: 0 solid rgba(0, 0, 0, 1.00);border-right: 0 solid rgba(0, 0, 0, 1.00);margin-bottom:0;margin-top:0;margin-left:0;margin-right:0;}.cl-00a8c7c6{width:1.11in;background-color:transparent;vertical-align: middle;border-bottom: 1pt solid rgba(0, 0, 0, 1.00);border-top: 1pt solid rgba(0, 0, 0, 1.00);border-left: 0 solid rgba(0, 0, 0, 1.00);border-right: 0 solid rgba(0, 0, 0, 1.00);margin-bottom:0;margin-top:0;margin-left:0;margin-right:0;}.cl-00a8c7d0{width:1.019in;background-color:transparent;vertical-align: middle;border-bottom: 1pt solid rgba(0, 0, 0, 1.00);border-top: 1pt solid rgba(0, 0, 0, 1.00);border-left: 0 solid rgba(0, 0, 0, 1.00);border-right: 0 solid rgba(0, 0, 0, 1.00);margin-bottom:0;margin-top:0;margin-left:0;margin-right:0;}.cl-00a8c7d1{width:0.927in;background-color:transparent;vertical-align: middle;border-bottom: 1pt solid rgba(0, 0, 0, 1.00);border-top: 1pt solid rgba(0, 0, 0, 1.00);border-left: 0 solid rgba(0, 0, 0, 1.00);border-right: 0 solid rgba(0, 0, 0, 1.00);margin-bottom:0;margin-top:0;margin-left:0;margin-right:0;}.cl-00a8c7da{width:2.119in;background-color:transparent;vertical-align: top;border-bottom: 0 solid rgba(0, 0, 0, 1.00);border-top: 0 solid rgba(0, 0, 0, 1.00);border-left: 0 solid rgba(0, 0, 0, 1.00);border-right: 0 solid rgba(0, 0, 0, 1.00);margin-bottom:0;margin-top:0;margin-left:0;margin-right:0;}.cl-00a8c7e4{width:0.56in;background-color:transparent;vertical-align: top;border-bottom: 0 solid rgba(0, 0, 0, 1.00);border-top: 0 solid rgba(0, 0, 0, 1.00);border-left: 0 solid rgba(0, 0, 0, 1.00);border-right: 0 solid rgba(0, 0, 0, 1.00);margin-bottom:0;margin-top:0;margin-left:0;margin-right:0;}.cl-00a8c7e5{width:1.11in;background-color:transparent;vertical-align: top;border-bottom: 0 solid rgba(0, 0, 0, 1.00);border-top: 0 solid rgba(0, 0, 0, 1.00);border-left: 0 solid rgba(0, 0, 0, 1.00);border-right: 0 solid rgba(0, 0, 0, 1.00);margin-bottom:0;margin-top:0;margin-left:0;margin-right:0;}.cl-00a8c7ee{width:1.019in;background-color:transparent;vertical-align: top;border-bottom: 0 solid rgba(0, 0, 0, 1.00);border-top: 0 solid rgba(0, 0, 0, 1.00);border-left: 0 solid rgba(0, 0, 0, 1.00);border-right: 0 solid rgba(0, 0, 0, 1.00);margin-bottom:0;margin-top:0;margin-left:0;margin-right:0;}.cl-00a8c7f8{width:0.927in;background-color:transparent;vertical-align: top;border-bottom: 0 solid rgba(0, 0, 0, 1.00);border-top: 0 solid rgba(0, 0, 0, 1.00);border-left: 0 solid rgba(0, 0, 0, 1.00);border-right: 0 solid rgba(0, 0, 0, 1.00);margin-bottom:0;margin-top:0;margin-left:0;margin-right:0;}.cl-00a8c7f9{width:2.119in;background-color:transparent;vertical-align: top;border-bottom: 1pt solid rgba(0, 0, 0, 1.00);border-top: 0 solid rgba(0, 0, 0, 1.00);border-left: 0 solid rgba(0, 0, 0, 1.00);border-right: 0 solid rgba(0, 0, 0, 1.00);margin-bottom:0;margin-top:0;margin-left:0;margin-right:0;}.cl-00a8c802{width:0.56in;background-color:transparent;vertical-align: top;border-bottom: 1pt solid rgba(0, 0, 0, 1.00);border-top: 0 solid rgba(0, 0, 0, 1.00);border-left: 0 solid rgba(0, 0, 0, 1.00);border-right: 0 solid rgba(0, 0, 0, 1.00);margin-bottom:0;margin-top:0;margin-left:0;margin-right:0;}.cl-00a8c80c{width:1.11in;background-color:transparent;vertical-align: top;border-bottom: 1pt solid rgba(0, 0, 0, 1.00);border-top: 0 solid rgba(0, 0, 0, 1.00);border-left: 0 solid rgba(0, 0, 0, 1.00);border-right: 0 solid rgba(0, 0, 0, 1.00);margin-bottom:0;margin-top:0;margin-left:0;margin-right:0;}.cl-00a8c80d{width:1.019in;background-color:transparent;vertical-align: top;border-bottom: 1pt solid rgba(0, 0, 0, 1.00);border-top: 0 solid rgba(0, 0, 0, 1.00);border-left: 0 solid rgba(0, 0, 0, 1.00);border-right: 0 solid rgba(0, 0, 0, 1.00);margin-bottom:0;margin-top:0;margin-left:0;margin-right:0;}.cl-00a8c816{width:0.927in;background-color:transparent;vertical-align: top;border-bottom: 1pt solid rgba(0, 0, 0, 1.00);border-top: 0 solid rgba(0, 0, 0, 1.00);border-left: 0 solid rgba(0, 0, 0, 1.00);border-right: 0 solid rgba(0, 0, 0, 1.00);margin-bottom:0;margin-top:0;margin-left:0;margin-right:0;}.cl-00a8c820{width:2.119in;background-color:transparent;vertical-align: middle;border-bottom: 0 solid rgba(255, 255, 255, 0.00);border-top: 0 solid rgba(255, 255, 255, 0.00);border-left: 0 solid rgba(255, 255, 255, 0.00);border-right: 0 solid rgba(255, 255, 255, 0.00);margin-bottom:0;margin-top:0;margin-left:0;margin-right:0;}.cl-00a8c82a{width:0.56in;background-color:transparent;vertical-align: middle;border-bottom: 0 solid rgba(255, 255, 255, 0.00);border-top: 0 solid rgba(255, 255, 255, 0.00);border-left: 0 solid rgba(255, 255, 255, 0.00);border-right: 0 solid rgba(255, 255, 255, 0.00);margin-bottom:0;margin-top:0;margin-left:0;margin-right:0;}.cl-00a8c834{width:1.11in;background-color:transparent;vertical-align: middle;border-bottom: 0 solid rgba(255, 255, 255, 0.00);border-top: 0 solid rgba(255, 255, 255, 0.00);border-left: 0 solid rgba(255, 255, 255, 0.00);border-right: 0 solid rgba(255, 255, 255, 0.00);margin-bottom:0;margin-top:0;margin-left:0;margin-right:0;}.cl-00a8c835{width:1.019in;background-color:transparent;vertical-align: middle;border-bottom: 0 solid rgba(255, 255, 255, 0.00);border-top: 0 solid rgba(255, 255, 255, 0.00);border-left: 0 solid rgba(255, 255, 255, 0.00);border-right: 0 solid rgba(255, 255, 255, 0.00);margin-bottom:0;margin-top:0;margin-left:0;margin-right:0;}.cl-00a8c83e{width:0.927in;background-color:transparent;vertical-align: middle;border-bottom: 0 solid rgba(255, 255, 255, 0.00);border-top: 0 solid rgba(255, 255, 255, 0.00);border-left: 0 solid rgba(255, 255, 255, 0.00);border-right: 0 solid rgba(255, 255, 255, 0.00);margin-bottom:0;margin-top:0;margin-left:0;margin-right:0;}</style><table data-quarto-disable-processing='true' class='cl-00aebf64'><thead><tr style=\"overflow-wrap:break-word;\"><th class=\"cl-00a8c7a8\"><p class=\"cl-00a88798\"><span class=\"cl-00a44a66\">Characteristic</span></p></th><th class=\"cl-00a8c7bc\"><p class=\"cl-00a887ac\"><span class=\"cl-00a44a66\">N</span></p></th><th class=\"cl-00a8c7c6\"><p class=\"cl-00a887ac\"><span class=\"cl-00a44a66\">Overall</span><span class=\"cl-00a44a70\">  </span><br><span class=\"cl-00a44a70\">N = 200</span><span class=\"cl-00a44a7a\">1</span></p></th><th class=\"cl-00a8c7d0\"><p class=\"cl-00a887ac\"><span class=\"cl-00a44a66\">Drug A</span><span class=\"cl-00a44a70\">  </span><br><span class=\"cl-00a44a70\">N = 98</span><span class=\"cl-00a44a7a\">1</span></p></th><th class=\"cl-00a8c7d0\"><p class=\"cl-00a887ac\"><span class=\"cl-00a44a66\">Drug B</span><span class=\"cl-00a44a70\">  </span><br><span class=\"cl-00a44a70\">N = 102</span><span class=\"cl-00a44a7a\">1</span></p></th><th class=\"cl-00a8c7d1\"><p class=\"cl-00a887ac\"><span class=\"cl-00a44a66\">p-value</span><span class=\"cl-00a44a7a\">2</span></p></th></tr></thead><tbody><tr style=\"overflow-wrap:break-word;\"><td class=\"cl-00a8c7da\"><p class=\"cl-00a887b6\"><span class=\"cl-00a44a66\">1.Patient  age group</span></p></td><td class=\"cl-00a8c7e4\"><p class=\"cl-00a887b7\"><span class=\"cl-00a44a70\">189</span></p></td><td class=\"cl-00a8c7e5\"><p class=\"cl-00a887b7\"><span class=\"cl-00a44a70\"></span></p></td><td class=\"cl-00a8c7ee\"><p class=\"cl-00a887b7\"><span class=\"cl-00a44a70\"></span></p></td><td class=\"cl-00a8c7ee\"><p class=\"cl-00a887b7\"><span class=\"cl-00a44a70\"></span></p></td><td class=\"cl-00a8c7f8\"><p class=\"cl-00a887b7\"><span class=\"cl-00a44a70\">0.6</span></p></td></tr><tr style=\"overflow-wrap:break-word;\"><td class=\"cl-00a8c7da\"><p class=\"cl-00a887c0\"><span class=\"cl-00a44a70\">0-10</span></p></td><td class=\"cl-00a8c7e4\"><p class=\"cl-00a887b7\"><span class=\"cl-00a44a70\"></span></p></td><td class=\"cl-00a8c7e5\"><p class=\"cl-00a887b7\"><span class=\"cl-00a44a70\">3 (1.6%)</span></p></td><td class=\"cl-00a8c7ee\"><p class=\"cl-00a887b7\"><span class=\"cl-00a44a70\">1 (1.1%)</span></p></td><td class=\"cl-00a8c7ee\"><p class=\"cl-00a887b7\"><span class=\"cl-00a44a70\">2 (2.0%)</span></p></td><td class=\"cl-00a8c7f8\"><p class=\"cl-00a887b7\"><span class=\"cl-00a44a70\"></span></p></td></tr><tr style=\"overflow-wrap:break-word;\"><td class=\"cl-00a8c7da\"><p class=\"cl-00a887c0\"><span class=\"cl-00a44a70\">11-20</span></p></td><td class=\"cl-00a8c7e4\"><p class=\"cl-00a887b7\"><span class=\"cl-00a44a70\"></span></p></td><td class=\"cl-00a8c7e5\"><p class=\"cl-00a887b7\"><span class=\"cl-00a44a70\">4 (2.1%)</span></p></td><td class=\"cl-00a8c7ee\"><p class=\"cl-00a887b7\"><span class=\"cl-00a44a70\">3 (3.3%)</span></p></td><td class=\"cl-00a8c7ee\"><p class=\"cl-00a887b7\"><span class=\"cl-00a44a70\">1 (1.0%)</span></p></td><td class=\"cl-00a8c7f8\"><p class=\"cl-00a887b7\"><span class=\"cl-00a44a70\"></span></p></td></tr><tr style=\"overflow-wrap:break-word;\"><td class=\"cl-00a8c7da\"><p class=\"cl-00a887c0\"><span class=\"cl-00a44a70\">21-30</span></p></td><td class=\"cl-00a8c7e4\"><p class=\"cl-00a887b7\"><span class=\"cl-00a44a70\"></span></p></td><td class=\"cl-00a8c7e5\"><p class=\"cl-00a887b7\"><span class=\"cl-00a44a70\">11 (5.8%)</span></p></td><td class=\"cl-00a8c7ee\"><p class=\"cl-00a887b7\"><span class=\"cl-00a44a70\">4 (4.4%)</span></p></td><td class=\"cl-00a8c7ee\"><p class=\"cl-00a887b7\"><span class=\"cl-00a44a70\">7 (7.1%)</span></p></td><td class=\"cl-00a8c7f8\"><p class=\"cl-00a887b7\"><span class=\"cl-00a44a70\"></span></p></td></tr><tr style=\"overflow-wrap:break-word;\"><td class=\"cl-00a8c7da\"><p class=\"cl-00a887c0\"><span class=\"cl-00a44a70\">31-40</span></p></td><td class=\"cl-00a8c7e4\"><p class=\"cl-00a887b7\"><span class=\"cl-00a44a70\"></span></p></td><td class=\"cl-00a8c7e5\"><p class=\"cl-00a887b7\"><span class=\"cl-00a44a70\">42 (22%)</span></p></td><td class=\"cl-00a8c7ee\"><p class=\"cl-00a887b7\"><span class=\"cl-00a44a70\">24 (26%)</span></p></td><td class=\"cl-00a8c7ee\"><p class=\"cl-00a887b7\"><span class=\"cl-00a44a70\">18 (18%)</span></p></td><td class=\"cl-00a8c7f8\"><p class=\"cl-00a887b7\"><span class=\"cl-00a44a70\"></span></p></td></tr><tr style=\"overflow-wrap:break-word;\"><td class=\"cl-00a8c7da\"><p class=\"cl-00a887c0\"><span class=\"cl-00a44a70\">41-50</span></p></td><td class=\"cl-00a8c7e4\"><p class=\"cl-00a887b7\"><span class=\"cl-00a44a70\"></span></p></td><td class=\"cl-00a8c7e5\"><p class=\"cl-00a887b7\"><span class=\"cl-00a44a70\">53 (28%)</span></p></td><td class=\"cl-00a8c7ee\"><p class=\"cl-00a887b7\"><span class=\"cl-00a44a70\">22 (24%)</span></p></td><td class=\"cl-00a8c7ee\"><p class=\"cl-00a887b7\"><span class=\"cl-00a44a70\">31 (32%)</span></p></td><td class=\"cl-00a8c7f8\"><p class=\"cl-00a887b7\"><span class=\"cl-00a44a70\"></span></p></td></tr><tr style=\"overflow-wrap:break-word;\"><td class=\"cl-00a8c7da\"><p class=\"cl-00a887c0\"><span class=\"cl-00a44a70\">51-60</span></p></td><td class=\"cl-00a8c7e4\"><p class=\"cl-00a887b7\"><span class=\"cl-00a44a70\"></span></p></td><td class=\"cl-00a8c7e5\"><p class=\"cl-00a887b7\"><span class=\"cl-00a44a70\">39 (21%)</span></p></td><td class=\"cl-00a8c7ee\"><p class=\"cl-00a887b7\"><span class=\"cl-00a44a70\">17 (19%)</span></p></td><td class=\"cl-00a8c7ee\"><p class=\"cl-00a887b7\"><span class=\"cl-00a44a70\">22 (22%)</span></p></td><td class=\"cl-00a8c7f8\"><p class=\"cl-00a887b7\"><span class=\"cl-00a44a70\"></span></p></td></tr><tr style=\"overflow-wrap:break-word;\"><td class=\"cl-00a8c7da\"><p class=\"cl-00a887c0\"><span class=\"cl-00a44a70\">61-70</span></p></td><td class=\"cl-00a8c7e4\"><p class=\"cl-00a887b7\"><span class=\"cl-00a44a70\"></span></p></td><td class=\"cl-00a8c7e5\"><p class=\"cl-00a887b7\"><span class=\"cl-00a44a70\">28 (15%)</span></p></td><td class=\"cl-00a8c7ee\"><p class=\"cl-00a887b7\"><span class=\"cl-00a44a70\">15 (16%)</span></p></td><td class=\"cl-00a8c7ee\"><p class=\"cl-00a887b7\"><span class=\"cl-00a44a70\">13 (13%)</span></p></td><td class=\"cl-00a8c7f8\"><p class=\"cl-00a887b7\"><span class=\"cl-00a44a70\"></span></p></td></tr><tr style=\"overflow-wrap:break-word;\"><td class=\"cl-00a8c7da\"><p class=\"cl-00a887c0\"><span class=\"cl-00a44a70\">71-80</span></p></td><td class=\"cl-00a8c7e4\"><p class=\"cl-00a887b7\"><span class=\"cl-00a44a70\"></span></p></td><td class=\"cl-00a8c7e5\"><p class=\"cl-00a887b7\"><span class=\"cl-00a44a70\">8 (4.2%)</span></p></td><td class=\"cl-00a8c7ee\"><p class=\"cl-00a887b7\"><span class=\"cl-00a44a70\">5 (5.5%)</span></p></td><td class=\"cl-00a8c7ee\"><p class=\"cl-00a887b7\"><span class=\"cl-00a44a70\">3 (3.1%)</span></p></td><td class=\"cl-00a8c7f8\"><p class=\"cl-00a887b7\"><span class=\"cl-00a44a70\"></span></p></td></tr><tr style=\"overflow-wrap:break-word;\"><td class=\"cl-00a8c7da\"><p class=\"cl-00a887c0\"><span class=\"cl-00a44a70\">80+</span></p></td><td class=\"cl-00a8c7e4\"><p class=\"cl-00a887b7\"><span class=\"cl-00a44a70\"></span></p></td><td class=\"cl-00a8c7e5\"><p class=\"cl-00a887b7\"><span class=\"cl-00a44a70\">1 (0.5%)</span></p></td><td class=\"cl-00a8c7ee\"><p class=\"cl-00a887b7\"><span class=\"cl-00a44a70\">0 (0%)</span></p></td><td class=\"cl-00a8c7ee\"><p class=\"cl-00a887b7\"><span class=\"cl-00a44a70\">1 (1.0%)</span></p></td><td class=\"cl-00a8c7f8\"><p class=\"cl-00a887b7\"><span class=\"cl-00a44a70\"></span></p></td></tr><tr style=\"overflow-wrap:break-word;\"><td class=\"cl-00a8c7f9\"><p class=\"cl-00a887c0\"><span class=\"cl-00a44a70\">Unknown</span></p></td><td class=\"cl-00a8c802\"><p class=\"cl-00a887b7\"><span class=\"cl-00a44a70\"></span></p></td><td class=\"cl-00a8c80c\"><p class=\"cl-00a887b7\"><span class=\"cl-00a44a70\">11</span></p></td><td class=\"cl-00a8c80d\"><p class=\"cl-00a887b7\"><span class=\"cl-00a44a70\">7</span></p></td><td class=\"cl-00a8c80d\"><p class=\"cl-00a887b7\"><span class=\"cl-00a44a70\">4</span></p></td><td class=\"cl-00a8c816\"><p class=\"cl-00a887b7\"><span class=\"cl-00a44a70\"></span></p></td></tr></tbody><tfoot><tr style=\"overflow-wrap:break-word;\"><td  colspan=\"6\"class=\"cl-00a8c820\"><p class=\"cl-00a887c1\"><span class=\"cl-00a44a7a\">1</span><span class=\"cl-00a44a70\">n (%)</span></p></td></tr><tr style=\"overflow-wrap:break-word;\"><td  colspan=\"6\"class=\"cl-00a8c820\"><p class=\"cl-00a887c1\"><span class=\"cl-00a44a7a\">2</span><span class=\"cl-00a44a70\">Fisher's exact test</span></p></td></tr></tfoot></table></div>\n",
              "\t</body>\n",
              "</html>\n"
            ],
            "text/plain": [
              "Shiny tags cannot be represented in plain text (need html)"
            ]
          },
          "metadata": {
            "text/html": {
              "isolated": true
            }
          }
        }
      ]
    },
    {
      "cell_type": "code",
      "source": [
        "df"
      ],
      "metadata": {
        "colab": {
          "base_uri": "https://localhost:8080/",
          "height": 1000
        },
        "id": "V28UF2zKMvM1",
        "outputId": "774083da-71c9-4192-f696-205a845e8d88"
      },
      "execution_count": 108,
      "outputs": [
        {
          "output_type": "display_data",
          "data": {
            "text/html": [
              "<table class=\"dataframe\">\n",
              "<caption>A tibble: 200 × 9</caption>\n",
              "<thead>\n",
              "\t<tr><th scope=col>trt</th><th scope=col>age</th><th scope=col>marker</th><th scope=col>stage</th><th scope=col>grade</th><th scope=col>response</th><th scope=col>death</th><th scope=col>ttdeath</th><th scope=col>AgeGroup</th></tr>\n",
              "\t<tr><th scope=col>&lt;chr&gt;</th><th scope=col>&lt;dbl&gt;</th><th scope=col>&lt;dbl&gt;</th><th scope=col>&lt;fct&gt;</th><th scope=col>&lt;fct&gt;</th><th scope=col>&lt;int&gt;</th><th scope=col>&lt;int&gt;</th><th scope=col>&lt;dbl&gt;</th><th scope=col>&lt;fct&gt;</th></tr>\n",
              "</thead>\n",
              "<tbody>\n",
              "\t<tr><td>Drug A</td><td>23</td><td>0.160</td><td>T1</td><td>II </td><td>0</td><td>0</td><td>24.00</td><td>21-30</td></tr>\n",
              "\t<tr><td>Drug B</td><td> 9</td><td>1.107</td><td>T2</td><td>I  </td><td>1</td><td>0</td><td>24.00</td><td>0-10 </td></tr>\n",
              "\t<tr><td>Drug A</td><td>31</td><td>0.277</td><td>T1</td><td>II </td><td>0</td><td>0</td><td>24.00</td><td>31-40</td></tr>\n",
              "\t<tr><td>Drug A</td><td>NA</td><td>2.067</td><td>T3</td><td>III</td><td>1</td><td>1</td><td>17.64</td><td>NA   </td></tr>\n",
              "\t<tr><td>Drug A</td><td>51</td><td>2.767</td><td>T4</td><td>III</td><td>1</td><td>1</td><td>16.43</td><td>51-60</td></tr>\n",
              "\t<tr><td>Drug B</td><td>39</td><td>0.613</td><td>T4</td><td>I  </td><td>0</td><td>1</td><td>15.64</td><td>31-40</td></tr>\n",
              "\t<tr><td>Drug A</td><td>37</td><td>0.354</td><td>T1</td><td>II </td><td>0</td><td>0</td><td>24.00</td><td>31-40</td></tr>\n",
              "\t<tr><td>Drug A</td><td>32</td><td>1.739</td><td>T1</td><td>I  </td><td>0</td><td>1</td><td>18.43</td><td>31-40</td></tr>\n",
              "\t<tr><td>Drug A</td><td>31</td><td>0.144</td><td>T1</td><td>II </td><td>0</td><td>0</td><td>24.00</td><td>31-40</td></tr>\n",
              "\t<tr><td>Drug B</td><td>34</td><td>0.205</td><td>T3</td><td>I  </td><td>0</td><td>1</td><td>10.53</td><td>31-40</td></tr>\n",
              "\t<tr><td>Drug B</td><td>42</td><td>0.513</td><td>T1</td><td>III</td><td>0</td><td>0</td><td>24.00</td><td>41-50</td></tr>\n",
              "\t<tr><td>Drug B</td><td>63</td><td>0.060</td><td>T3</td><td>I  </td><td>1</td><td>0</td><td>24.00</td><td>61-70</td></tr>\n",
              "\t<tr><td>Drug B</td><td>54</td><td>0.831</td><td>T4</td><td>III</td><td>0</td><td>1</td><td>14.34</td><td>51-60</td></tr>\n",
              "\t<tr><td>Drug B</td><td>21</td><td>0.258</td><td>T4</td><td>I  </td><td>0</td><td>1</td><td>12.89</td><td>21-30</td></tr>\n",
              "\t<tr><td>Drug B</td><td>48</td><td>0.128</td><td>T1</td><td>I  </td><td>0</td><td>1</td><td>22.68</td><td>41-50</td></tr>\n",
              "\t<tr><td>Drug B</td><td>71</td><td>0.445</td><td>T4</td><td>III</td><td>0</td><td>1</td><td> 8.71</td><td>71-80</td></tr>\n",
              "\t<tr><td>Drug A</td><td>38</td><td>2.083</td><td>T4</td><td>III</td><td>1</td><td>0</td><td>24.00</td><td>31-40</td></tr>\n",
              "\t<tr><td>Drug B</td><td>49</td><td>0.157</td><td>T2</td><td>II </td><td>0</td><td>1</td><td>15.21</td><td>41-50</td></tr>\n",
              "\t<tr><td>Drug A</td><td>57</td><td>0.066</td><td>T1</td><td>III</td><td>0</td><td>0</td><td>24.00</td><td>51-60</td></tr>\n",
              "\t<tr><td>Drug A</td><td>46</td><td>0.325</td><td>T1</td><td>II </td><td>0</td><td>0</td><td>24.00</td><td>41-50</td></tr>\n",
              "\t<tr><td>Drug A</td><td>47</td><td>0.266</td><td>T2</td><td>I  </td><td>0</td><td>0</td><td>24.00</td><td>41-50</td></tr>\n",
              "\t<tr><td>Drug A</td><td>52</td><td>0.719</td><td>T2</td><td>II </td><td>0</td><td>0</td><td>24.00</td><td>51-60</td></tr>\n",
              "\t<tr><td>Drug A</td><td>61</td><td>1.713</td><td>T4</td><td>I  </td><td>0</td><td>1</td><td>16.92</td><td>61-70</td></tr>\n",
              "\t<tr><td>Drug A</td><td>38</td><td>0.096</td><td>T4</td><td>I  </td><td>0</td><td>1</td><td>23.89</td><td>31-40</td></tr>\n",
              "\t<tr><td>Drug B</td><td>34</td><td>0.105</td><td>T4</td><td>II </td><td>0</td><td>1</td><td> 6.32</td><td>31-40</td></tr>\n",
              "\t<tr><td>Drug B</td><td>49</td><td>0.043</td><td>T2</td><td>III</td><td>0</td><td>1</td><td>15.77</td><td>41-50</td></tr>\n",
              "\t<tr><td>Drug A</td><td>63</td><td>0.981</td><td>T4</td><td>II </td><td>1</td><td>0</td><td>24.00</td><td>61-70</td></tr>\n",
              "\t<tr><td>Drug B</td><td>67</td><td>1.156</td><td>T1</td><td>II </td><td>0</td><td>0</td><td>24.00</td><td>61-70</td></tr>\n",
              "\t<tr><td>Drug B</td><td>68</td><td>0.105</td><td>T4</td><td>II </td><td>0</td><td>1</td><td>15.45</td><td>61-70</td></tr>\n",
              "\t<tr><td>Drug A</td><td>78</td><td>0.175</td><td>T3</td><td>I  </td><td>1</td><td>1</td><td>17.43</td><td>71-80</td></tr>\n",
              "\t<tr><td>⋮</td><td>⋮</td><td>⋮</td><td>⋮</td><td>⋮</td><td>⋮</td><td>⋮</td><td>⋮</td><td>⋮</td></tr>\n",
              "\t<tr><td>Drug B</td><td>41</td><td>0.250</td><td>T3</td><td>III</td><td> 0</td><td>1</td><td>16.57</td><td>41-50</td></tr>\n",
              "\t<tr><td>Drug A</td><td>41</td><td>0.816</td><td>T1</td><td>I  </td><td> 1</td><td>0</td><td>24.00</td><td>41-50</td></tr>\n",
              "\t<tr><td>Drug A</td><td>19</td><td>0.022</td><td>T1</td><td>III</td><td> 0</td><td>0</td><td>24.00</td><td>11-20</td></tr>\n",
              "\t<tr><td>Drug B</td><td>49</td><td>0.160</td><td>T2</td><td>II </td><td> 1</td><td>0</td><td>24.00</td><td>41-50</td></tr>\n",
              "\t<tr><td>Drug B</td><td>43</td><td>0.547</td><td>T4</td><td>I  </td><td> 1</td><td>1</td><td>21.91</td><td>41-50</td></tr>\n",
              "\t<tr><td>Drug B</td><td>43</td><td>3.642</td><td>T2</td><td>III</td><td> 1</td><td>0</td><td>24.00</td><td>41-50</td></tr>\n",
              "\t<tr><td>Drug A</td><td>75</td><td>0.092</td><td>T4</td><td>I  </td><td> 0</td><td>1</td><td>12.53</td><td>71-80</td></tr>\n",
              "\t<tr><td>Drug B</td><td>52</td><td>1.200</td><td>T4</td><td>II </td><td> 1</td><td>0</td><td>24.00</td><td>51-60</td></tr>\n",
              "\t<tr><td>Drug B</td><td>42</td><td>1.512</td><td>T2</td><td>I  </td><td>NA</td><td>1</td><td>18.63</td><td>41-50</td></tr>\n",
              "\t<tr><td>Drug A</td><td>37</td><td>2.124</td><td>T3</td><td>I  </td><td> 0</td><td>1</td><td>14.82</td><td>31-40</td></tr>\n",
              "\t<tr><td>Drug A</td><td>45</td><td>   NA</td><td>T4</td><td>III</td><td> 1</td><td>1</td><td>16.46</td><td>41-50</td></tr>\n",
              "\t<tr><td>Drug A</td><td>35</td><td>0.862</td><td>T3</td><td>I  </td><td> 0</td><td>0</td><td>24.00</td><td>31-40</td></tr>\n",
              "\t<tr><td>Drug B</td><td>67</td><td>0.182</td><td>T4</td><td>II </td><td> 0</td><td>1</td><td> 9.24</td><td>61-70</td></tr>\n",
              "\t<tr><td>Drug B</td><td>38</td><td>1.075</td><td>T4</td><td>I  </td><td> 1</td><td>1</td><td>17.77</td><td>31-40</td></tr>\n",
              "\t<tr><td>Drug B</td><td>44</td><td>0.021</td><td>T1</td><td>II </td><td> 0</td><td>0</td><td>24.00</td><td>41-50</td></tr>\n",
              "\t<tr><td>Drug B</td><td>45</td><td>0.402</td><td>T1</td><td>II </td><td> 1</td><td>0</td><td>24.00</td><td>41-50</td></tr>\n",
              "\t<tr><td>Drug B</td><td>39</td><td>0.063</td><td>T4</td><td>II </td><td> 0</td><td>1</td><td> 9.92</td><td>31-40</td></tr>\n",
              "\t<tr><td>Drug A</td><td>46</td><td>1.129</td><td>T4</td><td>III</td><td> 0</td><td>1</td><td>16.16</td><td>41-50</td></tr>\n",
              "\t<tr><td>Drug A</td><td>NA</td><td>0.610</td><td>T4</td><td>II </td><td> 0</td><td>1</td><td>10.51</td><td>NA   </td></tr>\n",
              "\t<tr><td>Drug A</td><td>42</td><td>   NA</td><td>T1</td><td>II </td><td> 0</td><td>1</td><td>20.81</td><td>41-50</td></tr>\n",
              "\t<tr><td>Drug A</td><td>60</td><td>0.717</td><td>T2</td><td>III</td><td> 0</td><td>0</td><td>24.00</td><td>51-60</td></tr>\n",
              "\t<tr><td>Drug A</td><td>31</td><td>0.205</td><td>T2</td><td>II </td><td> 0</td><td>1</td><td>16.44</td><td>31-40</td></tr>\n",
              "\t<tr><td>Drug A</td><td>45</td><td>0.946</td><td>T2</td><td>III</td><td> 0</td><td>0</td><td>24.00</td><td>41-50</td></tr>\n",
              "\t<tr><td>Drug B</td><td>38</td><td>0.386</td><td>T4</td><td>III</td><td> 0</td><td>1</td><td>22.40</td><td>31-40</td></tr>\n",
              "\t<tr><td>Drug A</td><td>NA</td><td>0.370</td><td>T3</td><td>II </td><td>NA</td><td>1</td><td>11.76</td><td>NA   </td></tr>\n",
              "\t<tr><td>Drug B</td><td>19</td><td>1.148</td><td>T3</td><td>I  </td><td> 0</td><td>0</td><td>24.00</td><td>11-20</td></tr>\n",
              "\t<tr><td>Drug A</td><td>69</td><td>   NA</td><td>T2</td><td>II </td><td> 1</td><td>1</td><td>21.60</td><td>61-70</td></tr>\n",
              "\t<tr><td>Drug A</td><td>66</td><td>0.136</td><td>T2</td><td>III</td><td> 1</td><td>0</td><td>24.00</td><td>61-70</td></tr>\n",
              "\t<tr><td>Drug A</td><td>NA</td><td>0.439</td><td>T4</td><td>III</td><td> 0</td><td>1</td><td>19.81</td><td>NA   </td></tr>\n",
              "\t<tr><td>Drug A</td><td>64</td><td>1.148</td><td>T3</td><td>I  </td><td> 0</td><td>0</td><td>24.00</td><td>61-70</td></tr>\n",
              "</tbody>\n",
              "</table>\n"
            ],
            "text/markdown": "\nA tibble: 200 × 9\n\n| trt &lt;chr&gt; | age &lt;dbl&gt; | marker &lt;dbl&gt; | stage &lt;fct&gt; | grade &lt;fct&gt; | response &lt;int&gt; | death &lt;int&gt; | ttdeath &lt;dbl&gt; | AgeGroup &lt;fct&gt; |\n|---|---|---|---|---|---|---|---|---|\n| Drug A | 23 | 0.160 | T1 | II  | 0 | 0 | 24.00 | 21-30 |\n| Drug B |  9 | 1.107 | T2 | I   | 1 | 0 | 24.00 | 0-10  |\n| Drug A | 31 | 0.277 | T1 | II  | 0 | 0 | 24.00 | 31-40 |\n| Drug A | NA | 2.067 | T3 | III | 1 | 1 | 17.64 | NA    |\n| Drug A | 51 | 2.767 | T4 | III | 1 | 1 | 16.43 | 51-60 |\n| Drug B | 39 | 0.613 | T4 | I   | 0 | 1 | 15.64 | 31-40 |\n| Drug A | 37 | 0.354 | T1 | II  | 0 | 0 | 24.00 | 31-40 |\n| Drug A | 32 | 1.739 | T1 | I   | 0 | 1 | 18.43 | 31-40 |\n| Drug A | 31 | 0.144 | T1 | II  | 0 | 0 | 24.00 | 31-40 |\n| Drug B | 34 | 0.205 | T3 | I   | 0 | 1 | 10.53 | 31-40 |\n| Drug B | 42 | 0.513 | T1 | III | 0 | 0 | 24.00 | 41-50 |\n| Drug B | 63 | 0.060 | T3 | I   | 1 | 0 | 24.00 | 61-70 |\n| Drug B | 54 | 0.831 | T4 | III | 0 | 1 | 14.34 | 51-60 |\n| Drug B | 21 | 0.258 | T4 | I   | 0 | 1 | 12.89 | 21-30 |\n| Drug B | 48 | 0.128 | T1 | I   | 0 | 1 | 22.68 | 41-50 |\n| Drug B | 71 | 0.445 | T4 | III | 0 | 1 |  8.71 | 71-80 |\n| Drug A | 38 | 2.083 | T4 | III | 1 | 0 | 24.00 | 31-40 |\n| Drug B | 49 | 0.157 | T2 | II  | 0 | 1 | 15.21 | 41-50 |\n| Drug A | 57 | 0.066 | T1 | III | 0 | 0 | 24.00 | 51-60 |\n| Drug A | 46 | 0.325 | T1 | II  | 0 | 0 | 24.00 | 41-50 |\n| Drug A | 47 | 0.266 | T2 | I   | 0 | 0 | 24.00 | 41-50 |\n| Drug A | 52 | 0.719 | T2 | II  | 0 | 0 | 24.00 | 51-60 |\n| Drug A | 61 | 1.713 | T4 | I   | 0 | 1 | 16.92 | 61-70 |\n| Drug A | 38 | 0.096 | T4 | I   | 0 | 1 | 23.89 | 31-40 |\n| Drug B | 34 | 0.105 | T4 | II  | 0 | 1 |  6.32 | 31-40 |\n| Drug B | 49 | 0.043 | T2 | III | 0 | 1 | 15.77 | 41-50 |\n| Drug A | 63 | 0.981 | T4 | II  | 1 | 0 | 24.00 | 61-70 |\n| Drug B | 67 | 1.156 | T1 | II  | 0 | 0 | 24.00 | 61-70 |\n| Drug B | 68 | 0.105 | T4 | II  | 0 | 1 | 15.45 | 61-70 |\n| Drug A | 78 | 0.175 | T3 | I   | 1 | 1 | 17.43 | 71-80 |\n| ⋮ | ⋮ | ⋮ | ⋮ | ⋮ | ⋮ | ⋮ | ⋮ | ⋮ |\n| Drug B | 41 | 0.250 | T3 | III |  0 | 1 | 16.57 | 41-50 |\n| Drug A | 41 | 0.816 | T1 | I   |  1 | 0 | 24.00 | 41-50 |\n| Drug A | 19 | 0.022 | T1 | III |  0 | 0 | 24.00 | 11-20 |\n| Drug B | 49 | 0.160 | T2 | II  |  1 | 0 | 24.00 | 41-50 |\n| Drug B | 43 | 0.547 | T4 | I   |  1 | 1 | 21.91 | 41-50 |\n| Drug B | 43 | 3.642 | T2 | III |  1 | 0 | 24.00 | 41-50 |\n| Drug A | 75 | 0.092 | T4 | I   |  0 | 1 | 12.53 | 71-80 |\n| Drug B | 52 | 1.200 | T4 | II  |  1 | 0 | 24.00 | 51-60 |\n| Drug B | 42 | 1.512 | T2 | I   | NA | 1 | 18.63 | 41-50 |\n| Drug A | 37 | 2.124 | T3 | I   |  0 | 1 | 14.82 | 31-40 |\n| Drug A | 45 |    NA | T4 | III |  1 | 1 | 16.46 | 41-50 |\n| Drug A | 35 | 0.862 | T3 | I   |  0 | 0 | 24.00 | 31-40 |\n| Drug B | 67 | 0.182 | T4 | II  |  0 | 1 |  9.24 | 61-70 |\n| Drug B | 38 | 1.075 | T4 | I   |  1 | 1 | 17.77 | 31-40 |\n| Drug B | 44 | 0.021 | T1 | II  |  0 | 0 | 24.00 | 41-50 |\n| Drug B | 45 | 0.402 | T1 | II  |  1 | 0 | 24.00 | 41-50 |\n| Drug B | 39 | 0.063 | T4 | II  |  0 | 1 |  9.92 | 31-40 |\n| Drug A | 46 | 1.129 | T4 | III |  0 | 1 | 16.16 | 41-50 |\n| Drug A | NA | 0.610 | T4 | II  |  0 | 1 | 10.51 | NA    |\n| Drug A | 42 |    NA | T1 | II  |  0 | 1 | 20.81 | 41-50 |\n| Drug A | 60 | 0.717 | T2 | III |  0 | 0 | 24.00 | 51-60 |\n| Drug A | 31 | 0.205 | T2 | II  |  0 | 1 | 16.44 | 31-40 |\n| Drug A | 45 | 0.946 | T2 | III |  0 | 0 | 24.00 | 41-50 |\n| Drug B | 38 | 0.386 | T4 | III |  0 | 1 | 22.40 | 31-40 |\n| Drug A | NA | 0.370 | T3 | II  | NA | 1 | 11.76 | NA    |\n| Drug B | 19 | 1.148 | T3 | I   |  0 | 0 | 24.00 | 11-20 |\n| Drug A | 69 |    NA | T2 | II  |  1 | 1 | 21.60 | 61-70 |\n| Drug A | 66 | 0.136 | T2 | III |  1 | 0 | 24.00 | 61-70 |\n| Drug A | NA | 0.439 | T4 | III |  0 | 1 | 19.81 | NA    |\n| Drug A | 64 | 1.148 | T3 | I   |  0 | 0 | 24.00 | 61-70 |\n\n",
            "text/latex": "A tibble: 200 × 9\n\\begin{tabular}{lllllllll}\n trt & age & marker & stage & grade & response & death & ttdeath & AgeGroup\\\\\n <chr> & <dbl> & <dbl> & <fct> & <fct> & <int> & <int> & <dbl> & <fct>\\\\\n\\hline\n\t Drug A & 23 & 0.160 & T1 & II  & 0 & 0 & 24.00 & 21-30\\\\\n\t Drug B &  9 & 1.107 & T2 & I   & 1 & 0 & 24.00 & 0-10 \\\\\n\t Drug A & 31 & 0.277 & T1 & II  & 0 & 0 & 24.00 & 31-40\\\\\n\t Drug A & NA & 2.067 & T3 & III & 1 & 1 & 17.64 & NA   \\\\\n\t Drug A & 51 & 2.767 & T4 & III & 1 & 1 & 16.43 & 51-60\\\\\n\t Drug B & 39 & 0.613 & T4 & I   & 0 & 1 & 15.64 & 31-40\\\\\n\t Drug A & 37 & 0.354 & T1 & II  & 0 & 0 & 24.00 & 31-40\\\\\n\t Drug A & 32 & 1.739 & T1 & I   & 0 & 1 & 18.43 & 31-40\\\\\n\t Drug A & 31 & 0.144 & T1 & II  & 0 & 0 & 24.00 & 31-40\\\\\n\t Drug B & 34 & 0.205 & T3 & I   & 0 & 1 & 10.53 & 31-40\\\\\n\t Drug B & 42 & 0.513 & T1 & III & 0 & 0 & 24.00 & 41-50\\\\\n\t Drug B & 63 & 0.060 & T3 & I   & 1 & 0 & 24.00 & 61-70\\\\\n\t Drug B & 54 & 0.831 & T4 & III & 0 & 1 & 14.34 & 51-60\\\\\n\t Drug B & 21 & 0.258 & T4 & I   & 0 & 1 & 12.89 & 21-30\\\\\n\t Drug B & 48 & 0.128 & T1 & I   & 0 & 1 & 22.68 & 41-50\\\\\n\t Drug B & 71 & 0.445 & T4 & III & 0 & 1 &  8.71 & 71-80\\\\\n\t Drug A & 38 & 2.083 & T4 & III & 1 & 0 & 24.00 & 31-40\\\\\n\t Drug B & 49 & 0.157 & T2 & II  & 0 & 1 & 15.21 & 41-50\\\\\n\t Drug A & 57 & 0.066 & T1 & III & 0 & 0 & 24.00 & 51-60\\\\\n\t Drug A & 46 & 0.325 & T1 & II  & 0 & 0 & 24.00 & 41-50\\\\\n\t Drug A & 47 & 0.266 & T2 & I   & 0 & 0 & 24.00 & 41-50\\\\\n\t Drug A & 52 & 0.719 & T2 & II  & 0 & 0 & 24.00 & 51-60\\\\\n\t Drug A & 61 & 1.713 & T4 & I   & 0 & 1 & 16.92 & 61-70\\\\\n\t Drug A & 38 & 0.096 & T4 & I   & 0 & 1 & 23.89 & 31-40\\\\\n\t Drug B & 34 & 0.105 & T4 & II  & 0 & 1 &  6.32 & 31-40\\\\\n\t Drug B & 49 & 0.043 & T2 & III & 0 & 1 & 15.77 & 41-50\\\\\n\t Drug A & 63 & 0.981 & T4 & II  & 1 & 0 & 24.00 & 61-70\\\\\n\t Drug B & 67 & 1.156 & T1 & II  & 0 & 0 & 24.00 & 61-70\\\\\n\t Drug B & 68 & 0.105 & T4 & II  & 0 & 1 & 15.45 & 61-70\\\\\n\t Drug A & 78 & 0.175 & T3 & I   & 1 & 1 & 17.43 & 71-80\\\\\n\t ⋮ & ⋮ & ⋮ & ⋮ & ⋮ & ⋮ & ⋮ & ⋮ & ⋮\\\\\n\t Drug B & 41 & 0.250 & T3 & III &  0 & 1 & 16.57 & 41-50\\\\\n\t Drug A & 41 & 0.816 & T1 & I   &  1 & 0 & 24.00 & 41-50\\\\\n\t Drug A & 19 & 0.022 & T1 & III &  0 & 0 & 24.00 & 11-20\\\\\n\t Drug B & 49 & 0.160 & T2 & II  &  1 & 0 & 24.00 & 41-50\\\\\n\t Drug B & 43 & 0.547 & T4 & I   &  1 & 1 & 21.91 & 41-50\\\\\n\t Drug B & 43 & 3.642 & T2 & III &  1 & 0 & 24.00 & 41-50\\\\\n\t Drug A & 75 & 0.092 & T4 & I   &  0 & 1 & 12.53 & 71-80\\\\\n\t Drug B & 52 & 1.200 & T4 & II  &  1 & 0 & 24.00 & 51-60\\\\\n\t Drug B & 42 & 1.512 & T2 & I   & NA & 1 & 18.63 & 41-50\\\\\n\t Drug A & 37 & 2.124 & T3 & I   &  0 & 1 & 14.82 & 31-40\\\\\n\t Drug A & 45 &    NA & T4 & III &  1 & 1 & 16.46 & 41-50\\\\\n\t Drug A & 35 & 0.862 & T3 & I   &  0 & 0 & 24.00 & 31-40\\\\\n\t Drug B & 67 & 0.182 & T4 & II  &  0 & 1 &  9.24 & 61-70\\\\\n\t Drug B & 38 & 1.075 & T4 & I   &  1 & 1 & 17.77 & 31-40\\\\\n\t Drug B & 44 & 0.021 & T1 & II  &  0 & 0 & 24.00 & 41-50\\\\\n\t Drug B & 45 & 0.402 & T1 & II  &  1 & 0 & 24.00 & 41-50\\\\\n\t Drug B & 39 & 0.063 & T4 & II  &  0 & 1 &  9.92 & 31-40\\\\\n\t Drug A & 46 & 1.129 & T4 & III &  0 & 1 & 16.16 & 41-50\\\\\n\t Drug A & NA & 0.610 & T4 & II  &  0 & 1 & 10.51 & NA   \\\\\n\t Drug A & 42 &    NA & T1 & II  &  0 & 1 & 20.81 & 41-50\\\\\n\t Drug A & 60 & 0.717 & T2 & III &  0 & 0 & 24.00 & 51-60\\\\\n\t Drug A & 31 & 0.205 & T2 & II  &  0 & 1 & 16.44 & 31-40\\\\\n\t Drug A & 45 & 0.946 & T2 & III &  0 & 0 & 24.00 & 41-50\\\\\n\t Drug B & 38 & 0.386 & T4 & III &  0 & 1 & 22.40 & 31-40\\\\\n\t Drug A & NA & 0.370 & T3 & II  & NA & 1 & 11.76 & NA   \\\\\n\t Drug B & 19 & 1.148 & T3 & I   &  0 & 0 & 24.00 & 11-20\\\\\n\t Drug A & 69 &    NA & T2 & II  &  1 & 1 & 21.60 & 61-70\\\\\n\t Drug A & 66 & 0.136 & T2 & III &  1 & 0 & 24.00 & 61-70\\\\\n\t Drug A & NA & 0.439 & T4 & III &  0 & 1 & 19.81 & NA   \\\\\n\t Drug A & 64 & 1.148 & T3 & I   &  0 & 0 & 24.00 & 61-70\\\\\n\\end{tabular}\n",
            "text/plain": [
              "    trt    age marker stage grade response death ttdeath AgeGroup\n",
              "1   Drug A 23  0.160  T1    II    0        0     24.00   21-30   \n",
              "2   Drug B  9  1.107  T2    I     1        0     24.00   0-10    \n",
              "3   Drug A 31  0.277  T1    II    0        0     24.00   31-40   \n",
              "4   Drug A NA  2.067  T3    III   1        1     17.64   NA      \n",
              "5   Drug A 51  2.767  T4    III   1        1     16.43   51-60   \n",
              "6   Drug B 39  0.613  T4    I     0        1     15.64   31-40   \n",
              "7   Drug A 37  0.354  T1    II    0        0     24.00   31-40   \n",
              "8   Drug A 32  1.739  T1    I     0        1     18.43   31-40   \n",
              "9   Drug A 31  0.144  T1    II    0        0     24.00   31-40   \n",
              "10  Drug B 34  0.205  T3    I     0        1     10.53   31-40   \n",
              "11  Drug B 42  0.513  T1    III   0        0     24.00   41-50   \n",
              "12  Drug B 63  0.060  T3    I     1        0     24.00   61-70   \n",
              "13  Drug B 54  0.831  T4    III   0        1     14.34   51-60   \n",
              "14  Drug B 21  0.258  T4    I     0        1     12.89   21-30   \n",
              "15  Drug B 48  0.128  T1    I     0        1     22.68   41-50   \n",
              "16  Drug B 71  0.445  T4    III   0        1      8.71   71-80   \n",
              "17  Drug A 38  2.083  T4    III   1        0     24.00   31-40   \n",
              "18  Drug B 49  0.157  T2    II    0        1     15.21   41-50   \n",
              "19  Drug A 57  0.066  T1    III   0        0     24.00   51-60   \n",
              "20  Drug A 46  0.325  T1    II    0        0     24.00   41-50   \n",
              "21  Drug A 47  0.266  T2    I     0        0     24.00   41-50   \n",
              "22  Drug A 52  0.719  T2    II    0        0     24.00   51-60   \n",
              "23  Drug A 61  1.713  T4    I     0        1     16.92   61-70   \n",
              "24  Drug A 38  0.096  T4    I     0        1     23.89   31-40   \n",
              "25  Drug B 34  0.105  T4    II    0        1      6.32   31-40   \n",
              "26  Drug B 49  0.043  T2    III   0        1     15.77   41-50   \n",
              "27  Drug A 63  0.981  T4    II    1        0     24.00   61-70   \n",
              "28  Drug B 67  1.156  T1    II    0        0     24.00   61-70   \n",
              "29  Drug B 68  0.105  T4    II    0        1     15.45   61-70   \n",
              "30  Drug A 78  0.175  T3    I     1        1     17.43   71-80   \n",
              "⋮   ⋮      ⋮   ⋮      ⋮     ⋮     ⋮        ⋮     ⋮       ⋮       \n",
              "171 Drug B 41  0.250  T3    III    0       1     16.57   41-50   \n",
              "172 Drug A 41  0.816  T1    I      1       0     24.00   41-50   \n",
              "173 Drug A 19  0.022  T1    III    0       0     24.00   11-20   \n",
              "174 Drug B 49  0.160  T2    II     1       0     24.00   41-50   \n",
              "175 Drug B 43  0.547  T4    I      1       1     21.91   41-50   \n",
              "176 Drug B 43  3.642  T2    III    1       0     24.00   41-50   \n",
              "177 Drug A 75  0.092  T4    I      0       1     12.53   71-80   \n",
              "178 Drug B 52  1.200  T4    II     1       0     24.00   51-60   \n",
              "179 Drug B 42  1.512  T2    I     NA       1     18.63   41-50   \n",
              "180 Drug A 37  2.124  T3    I      0       1     14.82   31-40   \n",
              "181 Drug A 45     NA  T4    III    1       1     16.46   41-50   \n",
              "182 Drug A 35  0.862  T3    I      0       0     24.00   31-40   \n",
              "183 Drug B 67  0.182  T4    II     0       1      9.24   61-70   \n",
              "184 Drug B 38  1.075  T4    I      1       1     17.77   31-40   \n",
              "185 Drug B 44  0.021  T1    II     0       0     24.00   41-50   \n",
              "186 Drug B 45  0.402  T1    II     1       0     24.00   41-50   \n",
              "187 Drug B 39  0.063  T4    II     0       1      9.92   31-40   \n",
              "188 Drug A 46  1.129  T4    III    0       1     16.16   41-50   \n",
              "189 Drug A NA  0.610  T4    II     0       1     10.51   NA      \n",
              "190 Drug A 42     NA  T1    II     0       1     20.81   41-50   \n",
              "191 Drug A 60  0.717  T2    III    0       0     24.00   51-60   \n",
              "192 Drug A 31  0.205  T2    II     0       1     16.44   31-40   \n",
              "193 Drug A 45  0.946  T2    III    0       0     24.00   41-50   \n",
              "194 Drug B 38  0.386  T4    III    0       1     22.40   31-40   \n",
              "195 Drug A NA  0.370  T3    II    NA       1     11.76   NA      \n",
              "196 Drug B 19  1.148  T3    I      0       0     24.00   11-20   \n",
              "197 Drug A 69     NA  T2    II     1       1     21.60   61-70   \n",
              "198 Drug A 66  0.136  T2    III    1       0     24.00   61-70   \n",
              "199 Drug A NA  0.439  T4    III    0       1     19.81   NA      \n",
              "200 Drug A 64  1.148  T3    I      0       0     24.00   61-70   "
            ]
          },
          "metadata": {}
        }
      ]
    },
    {
      "cell_type": "code",
      "source": [
        "t2 <- df%>%\n",
        "  tbl_summary(include = c(trt,age)\n",
        ", by = trt\n",
        ", type = all_continuous() ~ \"continuous2\"\n",
        ", statistic = all_continuous() ~ c(\"{min} - {max}\"\n",
        ", \"{median}({p25}, {p75})\",\"{mean}({sd})\"))%>%\n",
        "  add_overall()%>%\n",
        "  add_p()%>%\n",
        "  bold_labels()%>%\n",
        "  add_n()"
      ],
      "metadata": {
        "id": "fnaE5ZmKFVKo"
      },
      "execution_count": 141,
      "outputs": []
    },
    {
      "cell_type": "code",
      "source": [],
      "metadata": {
        "id": "UysVpWumN4u5"
      },
      "execution_count": null,
      "outputs": []
    },
    {
      "cell_type": "code",
      "source": [
        "t2 %>% as_flex_table()%>%\n",
        "  flextable::htmltools_value()"
      ],
      "metadata": {
        "colab": {
          "base_uri": "https://localhost:8080/",
          "height": 256
        },
        "id": "gMqbNiPmF2-B",
        "outputId": "e8666d28-5593-4e4b-bee9-cc663d8215e0"
      },
      "execution_count": 142,
      "outputs": [
        {
          "output_type": "display_data",
          "data": {
            "text/html": [
              "<!doctype html>\n",
              "<html>\n",
              "\t<head>\n",
              "\t\t<meta charset=\"utf-8\">\n",
              "\t\t<script title=\"tabwid\" src=\"data:application/javascript;base64,ZG9jdW1lbnQuYWRkRXZlbnRMaXN0ZW5lcigiRE9NQ29udGVudExvYWRlZCIsIGZ1bmN0aW9uKGV2ZW50KSB7CiAgdmFyIGVscyA9IGRvY3VtZW50LnF1ZXJ5U2VsZWN0b3JBbGwoIi50YWJ3aWQiKTsKICB2YXIgdGFid2lkX2xpbmsgPSBkb2N1bWVudC5xdWVyeVNlbGVjdG9yKCdsaW5rW2hyZWYqPSJ0YWJ3aWQuY3NzIl0nKQogIGlmICh0YWJ3aWRfbGluayA9PT0gbnVsbCkgewogICAgY29uc3QgdGFid2lkX3N0eWxlcyA9IGRvY3VtZW50LmV2YWx1YXRlKCIvL3N0eWxlW2NvbnRhaW5zKC4sICd0YWJ3aWQnKV0iLCBkb2N1bWVudCwgbnVsbCwgWFBhdGhSZXN1bHQuQU5ZX1RZUEUsIG51bGwgKTsKICAgIHRhYndpZF9saW5rID0gdGFid2lkX3N0eWxlcy5pdGVyYXRlTmV4dCgpOwogIH0KCiAgQXJyYXkucHJvdG90eXBlLmZvckVhY2guY2FsbChlbHMsIGZ1bmN0aW9uKHRlbXBsYXRlKSB7CiAgICAgIGNvbnN0IGRlc3QgPSBkb2N1bWVudC5jcmVhdGVFbGVtZW50KCJkaXYiKTsKICAgICAgdGVtcGxhdGUucGFyZW50Tm9kZS5pbnNlcnRCZWZvcmUoZGVzdCwgdGVtcGxhdGUubmV4dFNpYmxpbmcpCiAgICAgIGRlc3Quc2V0QXR0cmlidXRlKCJjbGFzcyIsICJmbGV4dGFibGUtc2hhZG93LWhvc3QiKTsKICAgICAgY29uc3QgZmFudG9tZSA9IGRlc3QuYXR0YWNoU2hhZG93KHttb2RlOiAnb3Blbid9KTsKICAgICAgZmFudG9tZS5hcHBlbmRDaGlsZCh0ZW1wbGF0ZSk7CiAgICAgIGlmICh0YWJ3aWRfbGluayAhPT0gbnVsbCkgewogICAgICAgIGZhbnRvbWUuYXBwZW5kQ2hpbGQodGFid2lkX2xpbmsuY2xvbmVOb2RlKHRydWUpKTsKICAgICAgfQogIH0pOwoKICBjb25zdCBzaGFkb3dIb3N0cyA9IGRvY3VtZW50LnF1ZXJ5U2VsZWN0b3JBbGwoJy5mbGV4dGFibGUtc2hhZG93LWhvc3Q6bm90KDpoYXMoZGl2ID4gdGFibGUubm8tc2hhZG93LWRvbSkpJyk7CiAgc2hhZG93SG9zdHMuZm9yRWFjaChob3N0ID0+IHsKICAgIGlmIChob3N0LnNoYWRvd1Jvb3QpIHsKICAgICAgY29uc3Qgc3BhbkVsZW1lbnRzID0gaG9zdC5zaGFkb3dSb290LnF1ZXJ5U2VsZWN0b3IoJ2RpdiA+IHRhYmxlID4gY2FwdGlvbiA+IHNwYW5baWRdJyk7CiAgICAgIGlmIChzcGFuRWxlbWVudHMpIHsKICAgICAgICBjb25zdCBpZCA9IHNwYW5FbGVtZW50cy5nZXRBdHRyaWJ1dGUoImlkIik7CiAgICAgICAgaG9zdC5zZXRBdHRyaWJ1dGUoImlkIiwgaWQpOwogICAgICB9CiAgICB9CiAgfSk7Cgp9KTsK\"></script>\n",
              "<link href=\"data:text/css;charset-utf-8;base64,LnRhYndpZCB7CiAgZm9udC1zaXplOiBpbml0aWFsOwogIHBhZGRpbmctYm90dG9tOiAxZW07Cn0KCi50YWJ3aWQgdGFibGV7CiAgYm9yZGVyLXNwYWNpbmc6MHB4ICFpbXBvcnRhbnQ7CiAgYm9yZGVyLWNvbGxhcHNlOmNvbGxhcHNlOwogIGxpbmUtaGVpZ2h0OjE7CiAgbWFyZ2luLWxlZnQ6YXV0bzsKICBtYXJnaW4tcmlnaHQ6YXV0bzsKICBib3JkZXItd2lkdGg6IDA7CiAgYm9yZGVyLWNvbG9yOiB0cmFuc3BhcmVudDsKICBjYXB0aW9uLXNpZGU6IHRvcDsKfQoudGFid2lkLWNhcHRpb24tYm90dG9tIHRhYmxlewogIGNhcHRpb24tc2lkZTogYm90dG9tOwp9Ci50YWJ3aWRfbGVmdCB0YWJsZXsKICBtYXJnaW4tbGVmdDowOwp9Ci50YWJ3aWRfcmlnaHQgdGFibGV7CiAgbWFyZ2luLXJpZ2h0OjA7Cn0KLnRhYndpZCB0ZCwgLnRhYndpZCB0aCB7CiAgICBwYWRkaW5nOiAwOwp9Ci50YWJ3aWQgYSB7CiAgdGV4dC1kZWNvcmF0aW9uOiBub25lOwp9Ci50YWJ3aWQgdGhlYWQgewogICAgYmFja2dyb3VuZC1jb2xvcjogdHJhbnNwYXJlbnQ7Cn0KLnRhYndpZCB0Zm9vdCB7CiAgICBiYWNrZ3JvdW5kLWNvbG9yOiB0cmFuc3BhcmVudDsKfQoudGFid2lkIHRhYmxlIHRyIHsKYmFja2dyb3VuZC1jb2xvcjogdHJhbnNwYXJlbnQ7Cn0KLmthdGV4LWRpc3BsYXkgewogICAgbWFyZ2luOiAwIDAgIWltcG9ydGFudDsKfQo=\" rel=\"stylesheet\" />\n",
              "\t</head>\n",
              "\t<body>\n",
              "\t\t<style></style>\n",
              "<div class=\"tabwid\"><style>.cl-5c62953a{}.cl-5c577740{font-family:'DejaVu Sans';font-size:11pt;font-weight:bold;font-style:normal;text-decoration:none;color:rgba(0, 0, 0, 1.00);background-color:transparent;}.cl-5c577754{font-family:'DejaVu Sans';font-size:11pt;font-weight:normal;font-style:normal;text-decoration:none;color:rgba(0, 0, 0, 1.00);background-color:transparent;}.cl-5c57775e{font-family:'DejaVu Sans';font-size:6.6pt;font-weight:normal;font-style:normal;text-decoration:none;color:rgba(0, 0, 0, 1.00);background-color:transparent;position: relative;bottom:3.3pt;}.cl-5c5cdcf8{margin:0;text-align:left;border-bottom: 0 solid rgba(0, 0, 0, 1.00);border-top: 0 solid rgba(0, 0, 0, 1.00);border-left: 0 solid rgba(0, 0, 0, 1.00);border-right: 0 solid rgba(0, 0, 0, 1.00);padding-bottom:2pt;padding-top:2pt;padding-left:5pt;padding-right:5pt;line-height: 1;background-color:transparent;}.cl-5c5cdd0c{margin:0;text-align:center;border-bottom: 0 solid rgba(0, 0, 0, 1.00);border-top: 0 solid rgba(0, 0, 0, 1.00);border-left: 0 solid rgba(0, 0, 0, 1.00);border-right: 0 solid rgba(0, 0, 0, 1.00);padding-bottom:2pt;padding-top:2pt;padding-left:5pt;padding-right:5pt;line-height: 1;background-color:transparent;}.cl-5c5cdd0d{margin:0;text-align:left;border-bottom: 0 solid rgba(0, 0, 0, 1.00);border-top: 0 solid rgba(0, 0, 0, 1.00);border-left: 0 solid rgba(0, 0, 0, 1.00);border-right: 0 solid rgba(0, 0, 0, 1.00);padding-bottom:5pt;padding-top:5pt;padding-left:5pt;padding-right:5pt;line-height: 1;background-color:transparent;}.cl-5c5cdd16{margin:0;text-align:center;border-bottom: 0 solid rgba(0, 0, 0, 1.00);border-top: 0 solid rgba(0, 0, 0, 1.00);border-left: 0 solid rgba(0, 0, 0, 1.00);border-right: 0 solid rgba(0, 0, 0, 1.00);padding-bottom:5pt;padding-top:5pt;padding-left:5pt;padding-right:5pt;line-height: 1;background-color:transparent;}.cl-5c5cdd17{margin:0;text-align:left;border-bottom: 0 solid rgba(0, 0, 0, 1.00);border-top: 0 solid rgba(0, 0, 0, 1.00);border-left: 0 solid rgba(0, 0, 0, 1.00);border-right: 0 solid rgba(0, 0, 0, 1.00);padding-bottom:5pt;padding-top:5pt;padding-left:15pt;padding-right:5pt;line-height: 1;background-color:transparent;}.cl-5c5cdd18{margin:0;text-align:left;border-bottom: 0 solid rgba(0, 0, 0, 1.00);border-top: 0 solid rgba(0, 0, 0, 1.00);border-left: 0 solid rgba(0, 0, 0, 1.00);border-right: 0 solid rgba(0, 0, 0, 1.00);padding-bottom:5pt;padding-top:5pt;padding-left:5pt;padding-right:5pt;line-height: 1;background-color:transparent;}.cl-5c5d0962{width:1.754in;background-color:transparent;vertical-align: middle;border-bottom: 1pt solid rgba(0, 0, 0, 1.00);border-top: 1pt solid rgba(0, 0, 0, 1.00);border-left: 0 solid rgba(0, 0, 0, 1.00);border-right: 0 solid rgba(0, 0, 0, 1.00);margin-bottom:0;margin-top:0;margin-left:0;margin-right:0;}.cl-5c5d096c{width:0.56in;background-color:transparent;vertical-align: middle;border-bottom: 1pt solid rgba(0, 0, 0, 1.00);border-top: 1pt solid rgba(0, 0, 0, 1.00);border-left: 0 solid rgba(0, 0, 0, 1.00);border-right: 0 solid rgba(0, 0, 0, 1.00);margin-bottom:0;margin-top:0;margin-left:0;margin-right:0;}.cl-5c5d0976{width:1.202in;background-color:transparent;vertical-align: middle;border-bottom: 1pt solid rgba(0, 0, 0, 1.00);border-top: 1pt solid rgba(0, 0, 0, 1.00);border-left: 0 solid rgba(0, 0, 0, 1.00);border-right: 0 solid rgba(0, 0, 0, 1.00);margin-bottom:0;margin-top:0;margin-left:0;margin-right:0;}.cl-5c5d0980{width:0.927in;background-color:transparent;vertical-align: middle;border-bottom: 1pt solid rgba(0, 0, 0, 1.00);border-top: 1pt solid rgba(0, 0, 0, 1.00);border-left: 0 solid rgba(0, 0, 0, 1.00);border-right: 0 solid rgba(0, 0, 0, 1.00);margin-bottom:0;margin-top:0;margin-left:0;margin-right:0;}.cl-5c5d0981{width:1.754in;background-color:transparent;vertical-align: top;border-bottom: 0 solid rgba(0, 0, 0, 1.00);border-top: 0 solid rgba(0, 0, 0, 1.00);border-left: 0 solid rgba(0, 0, 0, 1.00);border-right: 0 solid rgba(0, 0, 0, 1.00);margin-bottom:0;margin-top:0;margin-left:0;margin-right:0;}.cl-5c5d0982{width:0.56in;background-color:transparent;vertical-align: top;border-bottom: 0 solid rgba(0, 0, 0, 1.00);border-top: 0 solid rgba(0, 0, 0, 1.00);border-left: 0 solid rgba(0, 0, 0, 1.00);border-right: 0 solid rgba(0, 0, 0, 1.00);margin-bottom:0;margin-top:0;margin-left:0;margin-right:0;}.cl-5c5d098a{width:1.202in;background-color:transparent;vertical-align: top;border-bottom: 0 solid rgba(0, 0, 0, 1.00);border-top: 0 solid rgba(0, 0, 0, 1.00);border-left: 0 solid rgba(0, 0, 0, 1.00);border-right: 0 solid rgba(0, 0, 0, 1.00);margin-bottom:0;margin-top:0;margin-left:0;margin-right:0;}.cl-5c5d098b{width:0.927in;background-color:transparent;vertical-align: top;border-bottom: 0 solid rgba(0, 0, 0, 1.00);border-top: 0 solid rgba(0, 0, 0, 1.00);border-left: 0 solid rgba(0, 0, 0, 1.00);border-right: 0 solid rgba(0, 0, 0, 1.00);margin-bottom:0;margin-top:0;margin-left:0;margin-right:0;}.cl-5c5d0994{width:1.754in;background-color:transparent;vertical-align: top;border-bottom: 0 solid rgba(0, 0, 0, 1.00);border-top: 0 solid rgba(0, 0, 0, 1.00);border-left: 0 solid rgba(0, 0, 0, 1.00);border-right: 0 solid rgba(0, 0, 0, 1.00);margin-bottom:0;margin-top:0;margin-left:0;margin-right:0;}.cl-5c5d0995{width:0.56in;background-color:transparent;vertical-align: top;border-bottom: 0 solid rgba(0, 0, 0, 1.00);border-top: 0 solid rgba(0, 0, 0, 1.00);border-left: 0 solid rgba(0, 0, 0, 1.00);border-right: 0 solid rgba(0, 0, 0, 1.00);margin-bottom:0;margin-top:0;margin-left:0;margin-right:0;}.cl-5c5d099e{width:1.202in;background-color:transparent;vertical-align: top;border-bottom: 0 solid rgba(0, 0, 0, 1.00);border-top: 0 solid rgba(0, 0, 0, 1.00);border-left: 0 solid rgba(0, 0, 0, 1.00);border-right: 0 solid rgba(0, 0, 0, 1.00);margin-bottom:0;margin-top:0;margin-left:0;margin-right:0;}.cl-5c5d09a8{width:0.927in;background-color:transparent;vertical-align: top;border-bottom: 0 solid rgba(0, 0, 0, 1.00);border-top: 0 solid rgba(0, 0, 0, 1.00);border-left: 0 solid rgba(0, 0, 0, 1.00);border-right: 0 solid rgba(0, 0, 0, 1.00);margin-bottom:0;margin-top:0;margin-left:0;margin-right:0;}.cl-5c5d09b2{width:1.754in;background-color:transparent;vertical-align: top;border-bottom: 0 solid rgba(0, 0, 0, 1.00);border-top: 0 solid rgba(0, 0, 0, 1.00);border-left: 0 solid rgba(0, 0, 0, 1.00);border-right: 0 solid rgba(0, 0, 0, 1.00);margin-bottom:0;margin-top:0;margin-left:0;margin-right:0;}.cl-5c5d09b3{width:0.56in;background-color:transparent;vertical-align: top;border-bottom: 0 solid rgba(0, 0, 0, 1.00);border-top: 0 solid rgba(0, 0, 0, 1.00);border-left: 0 solid rgba(0, 0, 0, 1.00);border-right: 0 solid rgba(0, 0, 0, 1.00);margin-bottom:0;margin-top:0;margin-left:0;margin-right:0;}.cl-5c5d09b4{width:1.202in;background-color:transparent;vertical-align: top;border-bottom: 0 solid rgba(0, 0, 0, 1.00);border-top: 0 solid rgba(0, 0, 0, 1.00);border-left: 0 solid rgba(0, 0, 0, 1.00);border-right: 0 solid rgba(0, 0, 0, 1.00);margin-bottom:0;margin-top:0;margin-left:0;margin-right:0;}.cl-5c5d09bc{width:0.927in;background-color:transparent;vertical-align: top;border-bottom: 0 solid rgba(0, 0, 0, 1.00);border-top: 0 solid rgba(0, 0, 0, 1.00);border-left: 0 solid rgba(0, 0, 0, 1.00);border-right: 0 solid rgba(0, 0, 0, 1.00);margin-bottom:0;margin-top:0;margin-left:0;margin-right:0;}.cl-5c5d09bd{width:1.754in;background-color:transparent;vertical-align: top;border-bottom: 1pt solid rgba(0, 0, 0, 1.00);border-top: 0 solid rgba(0, 0, 0, 1.00);border-left: 0 solid rgba(0, 0, 0, 1.00);border-right: 0 solid rgba(0, 0, 0, 1.00);margin-bottom:0;margin-top:0;margin-left:0;margin-right:0;}.cl-5c5d09c6{width:0.56in;background-color:transparent;vertical-align: top;border-bottom: 1pt solid rgba(0, 0, 0, 1.00);border-top: 0 solid rgba(0, 0, 0, 1.00);border-left: 0 solid rgba(0, 0, 0, 1.00);border-right: 0 solid rgba(0, 0, 0, 1.00);margin-bottom:0;margin-top:0;margin-left:0;margin-right:0;}.cl-5c5d09c7{width:1.202in;background-color:transparent;vertical-align: top;border-bottom: 1pt solid rgba(0, 0, 0, 1.00);border-top: 0 solid rgba(0, 0, 0, 1.00);border-left: 0 solid rgba(0, 0, 0, 1.00);border-right: 0 solid rgba(0, 0, 0, 1.00);margin-bottom:0;margin-top:0;margin-left:0;margin-right:0;}.cl-5c5d09d0{width:0.927in;background-color:transparent;vertical-align: top;border-bottom: 1pt solid rgba(0, 0, 0, 1.00);border-top: 0 solid rgba(0, 0, 0, 1.00);border-left: 0 solid rgba(0, 0, 0, 1.00);border-right: 0 solid rgba(0, 0, 0, 1.00);margin-bottom:0;margin-top:0;margin-left:0;margin-right:0;}.cl-5c5d09d1{width:1.754in;background-color:transparent;vertical-align: middle;border-bottom: 0 solid rgba(255, 255, 255, 0.00);border-top: 0 solid rgba(255, 255, 255, 0.00);border-left: 0 solid rgba(255, 255, 255, 0.00);border-right: 0 solid rgba(255, 255, 255, 0.00);margin-bottom:0;margin-top:0;margin-left:0;margin-right:0;}.cl-5c5d09da{width:0.56in;background-color:transparent;vertical-align: middle;border-bottom: 0 solid rgba(255, 255, 255, 0.00);border-top: 0 solid rgba(255, 255, 255, 0.00);border-left: 0 solid rgba(255, 255, 255, 0.00);border-right: 0 solid rgba(255, 255, 255, 0.00);margin-bottom:0;margin-top:0;margin-left:0;margin-right:0;}.cl-5c5d09db{width:1.202in;background-color:transparent;vertical-align: middle;border-bottom: 0 solid rgba(255, 255, 255, 0.00);border-top: 0 solid rgba(255, 255, 255, 0.00);border-left: 0 solid rgba(255, 255, 255, 0.00);border-right: 0 solid rgba(255, 255, 255, 0.00);margin-bottom:0;margin-top:0;margin-left:0;margin-right:0;}.cl-5c5d09dc{width:0.927in;background-color:transparent;vertical-align: middle;border-bottom: 0 solid rgba(255, 255, 255, 0.00);border-top: 0 solid rgba(255, 255, 255, 0.00);border-left: 0 solid rgba(255, 255, 255, 0.00);border-right: 0 solid rgba(255, 255, 255, 0.00);margin-bottom:0;margin-top:0;margin-left:0;margin-right:0;}</style><table data-quarto-disable-processing='true' class='cl-5c62953a'><thead><tr style=\"overflow-wrap:break-word;\"><th class=\"cl-5c5d0962\"><p class=\"cl-5c5cdcf8\"><span class=\"cl-5c577740\">Characteristic</span></p></th><th class=\"cl-5c5d096c\"><p class=\"cl-5c5cdd0c\"><span class=\"cl-5c577740\">N</span></p></th><th class=\"cl-5c5d0976\"><p class=\"cl-5c5cdd0c\"><span class=\"cl-5c577740\">Overall</span><span class=\"cl-5c577754\">  </span><br><span class=\"cl-5c577754\">N = 200</span></p></th><th class=\"cl-5c5d0976\"><p class=\"cl-5c5cdd0c\"><span class=\"cl-5c577740\">Drug A</span><span class=\"cl-5c577754\">  </span><br><span class=\"cl-5c577754\">N = 98</span></p></th><th class=\"cl-5c5d0976\"><p class=\"cl-5c5cdd0c\"><span class=\"cl-5c577740\">Drug B</span><span class=\"cl-5c577754\">  </span><br><span class=\"cl-5c577754\">N = 102</span></p></th><th class=\"cl-5c5d0980\"><p class=\"cl-5c5cdd0c\"><span class=\"cl-5c577740\">p-value</span><span class=\"cl-5c57775e\">1</span></p></th></tr></thead><tbody><tr style=\"overflow-wrap:break-word;\"><td class=\"cl-5c5d0981\"><p class=\"cl-5c5cdd0d\"><span class=\"cl-5c577740\">Age</span></p></td><td class=\"cl-5c5d0982\"><p class=\"cl-5c5cdd16\"><span class=\"cl-5c577754\">189</span></p></td><td class=\"cl-5c5d098a\"><p class=\"cl-5c5cdd16\"><span class=\"cl-5c577754\"></span></p></td><td class=\"cl-5c5d098a\"><p class=\"cl-5c5cdd16\"><span class=\"cl-5c577754\"></span></p></td><td class=\"cl-5c5d098a\"><p class=\"cl-5c5cdd16\"><span class=\"cl-5c577754\"></span></p></td><td class=\"cl-5c5d098b\"><p class=\"cl-5c5cdd16\"><span class=\"cl-5c577754\">0.7</span></p></td></tr><tr style=\"overflow-wrap:break-word;\"><td class=\"cl-5c5d0994\"><p class=\"cl-5c5cdd17\"><span class=\"cl-5c577754\">Min - Max</span></p></td><td class=\"cl-5c5d0995\"><p class=\"cl-5c5cdd16\"><span class=\"cl-5c577754\"></span></p></td><td class=\"cl-5c5d099e\"><p class=\"cl-5c5cdd16\"><span class=\"cl-5c577754\">6 - 83</span></p></td><td class=\"cl-5c5d099e\"><p class=\"cl-5c5cdd16\"><span class=\"cl-5c577754\">6 - 78</span></p></td><td class=\"cl-5c5d099e\"><p class=\"cl-5c5cdd16\"><span class=\"cl-5c577754\">9 - 83</span></p></td><td class=\"cl-5c5d09a8\"><p class=\"cl-5c5cdd16\"><span class=\"cl-5c577754\"></span></p></td></tr><tr style=\"overflow-wrap:break-word;\"><td class=\"cl-5c5d09b2\"><p class=\"cl-5c5cdd17\"><span class=\"cl-5c577754\">Median(Q1, Q3)</span></p></td><td class=\"cl-5c5d09b3\"><p class=\"cl-5c5cdd16\"><span class=\"cl-5c577754\"></span></p></td><td class=\"cl-5c5d09b4\"><p class=\"cl-5c5cdd16\"><span class=\"cl-5c577754\">47(38, 57)</span></p></td><td class=\"cl-5c5d09b4\"><p class=\"cl-5c5cdd16\"><span class=\"cl-5c577754\">46(37, 60)</span></p></td><td class=\"cl-5c5d09b4\"><p class=\"cl-5c5cdd16\"><span class=\"cl-5c577754\">48(39, 56)</span></p></td><td class=\"cl-5c5d09bc\"><p class=\"cl-5c5cdd16\"><span class=\"cl-5c577754\"></span></p></td></tr><tr style=\"overflow-wrap:break-word;\"><td class=\"cl-5c5d09b2\"><p class=\"cl-5c5cdd17\"><span class=\"cl-5c577754\">Mean(SD)</span></p></td><td class=\"cl-5c5d09b3\"><p class=\"cl-5c5cdd16\"><span class=\"cl-5c577754\"></span></p></td><td class=\"cl-5c5d09b4\"><p class=\"cl-5c5cdd16\"><span class=\"cl-5c577754\">47(14)</span></p></td><td class=\"cl-5c5d09b4\"><p class=\"cl-5c5cdd16\"><span class=\"cl-5c577754\">47(15)</span></p></td><td class=\"cl-5c5d09b4\"><p class=\"cl-5c5cdd16\"><span class=\"cl-5c577754\">47(14)</span></p></td><td class=\"cl-5c5d09bc\"><p class=\"cl-5c5cdd16\"><span class=\"cl-5c577754\"></span></p></td></tr><tr style=\"overflow-wrap:break-word;\"><td class=\"cl-5c5d09bd\"><p class=\"cl-5c5cdd17\"><span class=\"cl-5c577754\">Unknown</span></p></td><td class=\"cl-5c5d09c6\"><p class=\"cl-5c5cdd16\"><span class=\"cl-5c577754\"></span></p></td><td class=\"cl-5c5d09c7\"><p class=\"cl-5c5cdd16\"><span class=\"cl-5c577754\">11</span></p></td><td class=\"cl-5c5d09c7\"><p class=\"cl-5c5cdd16\"><span class=\"cl-5c577754\">7</span></p></td><td class=\"cl-5c5d09c7\"><p class=\"cl-5c5cdd16\"><span class=\"cl-5c577754\">4</span></p></td><td class=\"cl-5c5d09d0\"><p class=\"cl-5c5cdd16\"><span class=\"cl-5c577754\"></span></p></td></tr></tbody><tfoot><tr style=\"overflow-wrap:break-word;\"><td  colspan=\"6\"class=\"cl-5c5d09d1\"><p class=\"cl-5c5cdd18\"><span class=\"cl-5c57775e\">1</span><span class=\"cl-5c577754\">Wilcoxon rank sum test</span></p></td></tr></tfoot></table></div>\n",
              "\t</body>\n",
              "</html>\n"
            ],
            "text/plain": [
              "Shiny tags cannot be represented in plain text (need html)"
            ]
          },
          "metadata": {
            "text/html": {
              "isolated": true
            }
          }
        }
      ]
    },
    {
      "cell_type": "code",
      "source": [
        "t3 <- df%>%\n",
        "  tbl_summary( include = c(trt,grade)\n",
        ", by = trt\n",
        ", label = list(grade = \"3.Tumour grade\"))%>%\n",
        "  add_overall()%>%\n",
        "    add_p()%>%\n",
        "    bold_labels()%>%\n",
        "    add_n()"
      ],
      "metadata": {
        "id": "vQ8lSh5HN6Gz"
      },
      "execution_count": 137,
      "outputs": []
    },
    {
      "cell_type": "code",
      "source": [
        "t3 %>% as_flex_table()%>%\n",
        "  flextable::htmltools_value()"
      ],
      "metadata": {
        "colab": {
          "base_uri": "https://localhost:8080/",
          "height": 256
        },
        "id": "N_nfWdthOyMA",
        "outputId": "0376dcb1-6aa3-4dec-cc6f-ee9d21a100df"
      },
      "execution_count": 138,
      "outputs": [
        {
          "output_type": "display_data",
          "data": {
            "text/html": [
              "<!doctype html>\n",
              "<html>\n",
              "\t<head>\n",
              "\t\t<meta charset=\"utf-8\">\n",
              "\t\t<script title=\"tabwid\" src=\"data:application/javascript;base64,ZG9jdW1lbnQuYWRkRXZlbnRMaXN0ZW5lcigiRE9NQ29udGVudExvYWRlZCIsIGZ1bmN0aW9uKGV2ZW50KSB7CiAgdmFyIGVscyA9IGRvY3VtZW50LnF1ZXJ5U2VsZWN0b3JBbGwoIi50YWJ3aWQiKTsKICB2YXIgdGFid2lkX2xpbmsgPSBkb2N1bWVudC5xdWVyeVNlbGVjdG9yKCdsaW5rW2hyZWYqPSJ0YWJ3aWQuY3NzIl0nKQogIGlmICh0YWJ3aWRfbGluayA9PT0gbnVsbCkgewogICAgY29uc3QgdGFid2lkX3N0eWxlcyA9IGRvY3VtZW50LmV2YWx1YXRlKCIvL3N0eWxlW2NvbnRhaW5zKC4sICd0YWJ3aWQnKV0iLCBkb2N1bWVudCwgbnVsbCwgWFBhdGhSZXN1bHQuQU5ZX1RZUEUsIG51bGwgKTsKICAgIHRhYndpZF9saW5rID0gdGFid2lkX3N0eWxlcy5pdGVyYXRlTmV4dCgpOwogIH0KCiAgQXJyYXkucHJvdG90eXBlLmZvckVhY2guY2FsbChlbHMsIGZ1bmN0aW9uKHRlbXBsYXRlKSB7CiAgICAgIGNvbnN0IGRlc3QgPSBkb2N1bWVudC5jcmVhdGVFbGVtZW50KCJkaXYiKTsKICAgICAgdGVtcGxhdGUucGFyZW50Tm9kZS5pbnNlcnRCZWZvcmUoZGVzdCwgdGVtcGxhdGUubmV4dFNpYmxpbmcpCiAgICAgIGRlc3Quc2V0QXR0cmlidXRlKCJjbGFzcyIsICJmbGV4dGFibGUtc2hhZG93LWhvc3QiKTsKICAgICAgY29uc3QgZmFudG9tZSA9IGRlc3QuYXR0YWNoU2hhZG93KHttb2RlOiAnb3Blbid9KTsKICAgICAgZmFudG9tZS5hcHBlbmRDaGlsZCh0ZW1wbGF0ZSk7CiAgICAgIGlmICh0YWJ3aWRfbGluayAhPT0gbnVsbCkgewogICAgICAgIGZhbnRvbWUuYXBwZW5kQ2hpbGQodGFid2lkX2xpbmsuY2xvbmVOb2RlKHRydWUpKTsKICAgICAgfQogIH0pOwoKICBjb25zdCBzaGFkb3dIb3N0cyA9IGRvY3VtZW50LnF1ZXJ5U2VsZWN0b3JBbGwoJy5mbGV4dGFibGUtc2hhZG93LWhvc3Q6bm90KDpoYXMoZGl2ID4gdGFibGUubm8tc2hhZG93LWRvbSkpJyk7CiAgc2hhZG93SG9zdHMuZm9yRWFjaChob3N0ID0+IHsKICAgIGlmIChob3N0LnNoYWRvd1Jvb3QpIHsKICAgICAgY29uc3Qgc3BhbkVsZW1lbnRzID0gaG9zdC5zaGFkb3dSb290LnF1ZXJ5U2VsZWN0b3IoJ2RpdiA+IHRhYmxlID4gY2FwdGlvbiA+IHNwYW5baWRdJyk7CiAgICAgIGlmIChzcGFuRWxlbWVudHMpIHsKICAgICAgICBjb25zdCBpZCA9IHNwYW5FbGVtZW50cy5nZXRBdHRyaWJ1dGUoImlkIik7CiAgICAgICAgaG9zdC5zZXRBdHRyaWJ1dGUoImlkIiwgaWQpOwogICAgICB9CiAgICB9CiAgfSk7Cgp9KTsK\"></script>\n",
              "<link href=\"data:text/css;charset-utf-8;base64,LnRhYndpZCB7CiAgZm9udC1zaXplOiBpbml0aWFsOwogIHBhZGRpbmctYm90dG9tOiAxZW07Cn0KCi50YWJ3aWQgdGFibGV7CiAgYm9yZGVyLXNwYWNpbmc6MHB4ICFpbXBvcnRhbnQ7CiAgYm9yZGVyLWNvbGxhcHNlOmNvbGxhcHNlOwogIGxpbmUtaGVpZ2h0OjE7CiAgbWFyZ2luLWxlZnQ6YXV0bzsKICBtYXJnaW4tcmlnaHQ6YXV0bzsKICBib3JkZXItd2lkdGg6IDA7CiAgYm9yZGVyLWNvbG9yOiB0cmFuc3BhcmVudDsKICBjYXB0aW9uLXNpZGU6IHRvcDsKfQoudGFid2lkLWNhcHRpb24tYm90dG9tIHRhYmxlewogIGNhcHRpb24tc2lkZTogYm90dG9tOwp9Ci50YWJ3aWRfbGVmdCB0YWJsZXsKICBtYXJnaW4tbGVmdDowOwp9Ci50YWJ3aWRfcmlnaHQgdGFibGV7CiAgbWFyZ2luLXJpZ2h0OjA7Cn0KLnRhYndpZCB0ZCwgLnRhYndpZCB0aCB7CiAgICBwYWRkaW5nOiAwOwp9Ci50YWJ3aWQgYSB7CiAgdGV4dC1kZWNvcmF0aW9uOiBub25lOwp9Ci50YWJ3aWQgdGhlYWQgewogICAgYmFja2dyb3VuZC1jb2xvcjogdHJhbnNwYXJlbnQ7Cn0KLnRhYndpZCB0Zm9vdCB7CiAgICBiYWNrZ3JvdW5kLWNvbG9yOiB0cmFuc3BhcmVudDsKfQoudGFid2lkIHRhYmxlIHRyIHsKYmFja2dyb3VuZC1jb2xvcjogdHJhbnNwYXJlbnQ7Cn0KLmthdGV4LWRpc3BsYXkgewogICAgbWFyZ2luOiAwIDAgIWltcG9ydGFudDsKfQo=\" rel=\"stylesheet\" />\n",
              "\t</head>\n",
              "\t<body>\n",
              "\t\t<style></style>\n",
              "<div class=\"tabwid\"><style>.cl-0fa30860{}.cl-0f969d50{font-family:'DejaVu Sans';font-size:11pt;font-weight:bold;font-style:normal;text-decoration:none;color:rgba(0, 0, 0, 1.00);background-color:transparent;}.cl-0f969d5a{font-family:'DejaVu Sans';font-size:11pt;font-weight:normal;font-style:normal;text-decoration:none;color:rgba(0, 0, 0, 1.00);background-color:transparent;}.cl-0f969d64{font-family:'DejaVu Sans';font-size:6.6pt;font-weight:normal;font-style:normal;text-decoration:none;color:rgba(0, 0, 0, 1.00);background-color:transparent;position: relative;bottom:3.3pt;}.cl-0f9ccf72{margin:0;text-align:left;border-bottom: 0 solid rgba(0, 0, 0, 1.00);border-top: 0 solid rgba(0, 0, 0, 1.00);border-left: 0 solid rgba(0, 0, 0, 1.00);border-right: 0 solid rgba(0, 0, 0, 1.00);padding-bottom:2pt;padding-top:2pt;padding-left:5pt;padding-right:5pt;line-height: 1;background-color:transparent;}.cl-0f9ccf86{margin:0;text-align:center;border-bottom: 0 solid rgba(0, 0, 0, 1.00);border-top: 0 solid rgba(0, 0, 0, 1.00);border-left: 0 solid rgba(0, 0, 0, 1.00);border-right: 0 solid rgba(0, 0, 0, 1.00);padding-bottom:2pt;padding-top:2pt;padding-left:5pt;padding-right:5pt;line-height: 1;background-color:transparent;}.cl-0f9ccf87{margin:0;text-align:left;border-bottom: 0 solid rgba(0, 0, 0, 1.00);border-top: 0 solid rgba(0, 0, 0, 1.00);border-left: 0 solid rgba(0, 0, 0, 1.00);border-right: 0 solid rgba(0, 0, 0, 1.00);padding-bottom:5pt;padding-top:5pt;padding-left:5pt;padding-right:5pt;line-height: 1;background-color:transparent;}.cl-0f9ccf90{margin:0;text-align:center;border-bottom: 0 solid rgba(0, 0, 0, 1.00);border-top: 0 solid rgba(0, 0, 0, 1.00);border-left: 0 solid rgba(0, 0, 0, 1.00);border-right: 0 solid rgba(0, 0, 0, 1.00);padding-bottom:5pt;padding-top:5pt;padding-left:5pt;padding-right:5pt;line-height: 1;background-color:transparent;}.cl-0f9ccf91{margin:0;text-align:left;border-bottom: 0 solid rgba(0, 0, 0, 1.00);border-top: 0 solid rgba(0, 0, 0, 1.00);border-left: 0 solid rgba(0, 0, 0, 1.00);border-right: 0 solid rgba(0, 0, 0, 1.00);padding-bottom:5pt;padding-top:5pt;padding-left:15pt;padding-right:5pt;line-height: 1;background-color:transparent;}.cl-0f9ccf9a{margin:0;text-align:left;border-bottom: 0 solid rgba(0, 0, 0, 1.00);border-top: 0 solid rgba(0, 0, 0, 1.00);border-left: 0 solid rgba(0, 0, 0, 1.00);border-right: 0 solid rgba(0, 0, 0, 1.00);padding-bottom:5pt;padding-top:5pt;padding-left:5pt;padding-right:5pt;line-height: 1;background-color:transparent;}.cl-0f9cfea2{width:1.569in;background-color:transparent;vertical-align: middle;border-bottom: 1pt solid rgba(0, 0, 0, 1.00);border-top: 1pt solid rgba(0, 0, 0, 1.00);border-left: 0 solid rgba(0, 0, 0, 1.00);border-right: 0 solid rgba(0, 0, 0, 1.00);margin-bottom:0;margin-top:0;margin-left:0;margin-right:0;}.cl-0f9cfeac{width:0.56in;background-color:transparent;vertical-align: middle;border-bottom: 1pt solid rgba(0, 0, 0, 1.00);border-top: 1pt solid rgba(0, 0, 0, 1.00);border-left: 0 solid rgba(0, 0, 0, 1.00);border-right: 0 solid rgba(0, 0, 0, 1.00);margin-bottom:0;margin-top:0;margin-left:0;margin-right:0;}.cl-0f9cfeb6{width:1.11in;background-color:transparent;vertical-align: middle;border-bottom: 1pt solid rgba(0, 0, 0, 1.00);border-top: 1pt solid rgba(0, 0, 0, 1.00);border-left: 0 solid rgba(0, 0, 0, 1.00);border-right: 0 solid rgba(0, 0, 0, 1.00);margin-bottom:0;margin-top:0;margin-left:0;margin-right:0;}.cl-0f9cfec0{width:1.019in;background-color:transparent;vertical-align: middle;border-bottom: 1pt solid rgba(0, 0, 0, 1.00);border-top: 1pt solid rgba(0, 0, 0, 1.00);border-left: 0 solid rgba(0, 0, 0, 1.00);border-right: 0 solid rgba(0, 0, 0, 1.00);margin-bottom:0;margin-top:0;margin-left:0;margin-right:0;}.cl-0f9cfec1{width:0.927in;background-color:transparent;vertical-align: middle;border-bottom: 1pt solid rgba(0, 0, 0, 1.00);border-top: 1pt solid rgba(0, 0, 0, 1.00);border-left: 0 solid rgba(0, 0, 0, 1.00);border-right: 0 solid rgba(0, 0, 0, 1.00);margin-bottom:0;margin-top:0;margin-left:0;margin-right:0;}.cl-0f9cfeca{width:1.569in;background-color:transparent;vertical-align: top;border-bottom: 0 solid rgba(0, 0, 0, 1.00);border-top: 0 solid rgba(0, 0, 0, 1.00);border-left: 0 solid rgba(0, 0, 0, 1.00);border-right: 0 solid rgba(0, 0, 0, 1.00);margin-bottom:0;margin-top:0;margin-left:0;margin-right:0;}.cl-0f9cfecb{width:0.56in;background-color:transparent;vertical-align: top;border-bottom: 0 solid rgba(0, 0, 0, 1.00);border-top: 0 solid rgba(0, 0, 0, 1.00);border-left: 0 solid rgba(0, 0, 0, 1.00);border-right: 0 solid rgba(0, 0, 0, 1.00);margin-bottom:0;margin-top:0;margin-left:0;margin-right:0;}.cl-0f9cfed4{width:1.11in;background-color:transparent;vertical-align: top;border-bottom: 0 solid rgba(0, 0, 0, 1.00);border-top: 0 solid rgba(0, 0, 0, 1.00);border-left: 0 solid rgba(0, 0, 0, 1.00);border-right: 0 solid rgba(0, 0, 0, 1.00);margin-bottom:0;margin-top:0;margin-left:0;margin-right:0;}.cl-0f9cfede{width:1.019in;background-color:transparent;vertical-align: top;border-bottom: 0 solid rgba(0, 0, 0, 1.00);border-top: 0 solid rgba(0, 0, 0, 1.00);border-left: 0 solid rgba(0, 0, 0, 1.00);border-right: 0 solid rgba(0, 0, 0, 1.00);margin-bottom:0;margin-top:0;margin-left:0;margin-right:0;}.cl-0f9cfedf{width:0.927in;background-color:transparent;vertical-align: top;border-bottom: 0 solid rgba(0, 0, 0, 1.00);border-top: 0 solid rgba(0, 0, 0, 1.00);border-left: 0 solid rgba(0, 0, 0, 1.00);border-right: 0 solid rgba(0, 0, 0, 1.00);margin-bottom:0;margin-top:0;margin-left:0;margin-right:0;}.cl-0f9cfee0{width:1.569in;background-color:transparent;vertical-align: top;border-bottom: 0 solid rgba(0, 0, 0, 1.00);border-top: 0 solid rgba(0, 0, 0, 1.00);border-left: 0 solid rgba(0, 0, 0, 1.00);border-right: 0 solid rgba(0, 0, 0, 1.00);margin-bottom:0;margin-top:0;margin-left:0;margin-right:0;}.cl-0f9cfee8{width:0.56in;background-color:transparent;vertical-align: top;border-bottom: 0 solid rgba(0, 0, 0, 1.00);border-top: 0 solid rgba(0, 0, 0, 1.00);border-left: 0 solid rgba(0, 0, 0, 1.00);border-right: 0 solid rgba(0, 0, 0, 1.00);margin-bottom:0;margin-top:0;margin-left:0;margin-right:0;}.cl-0f9cfee9{width:1.11in;background-color:transparent;vertical-align: top;border-bottom: 0 solid rgba(0, 0, 0, 1.00);border-top: 0 solid rgba(0, 0, 0, 1.00);border-left: 0 solid rgba(0, 0, 0, 1.00);border-right: 0 solid rgba(0, 0, 0, 1.00);margin-bottom:0;margin-top:0;margin-left:0;margin-right:0;}.cl-0f9cfef2{width:1.019in;background-color:transparent;vertical-align: top;border-bottom: 0 solid rgba(0, 0, 0, 1.00);border-top: 0 solid rgba(0, 0, 0, 1.00);border-left: 0 solid rgba(0, 0, 0, 1.00);border-right: 0 solid rgba(0, 0, 0, 1.00);margin-bottom:0;margin-top:0;margin-left:0;margin-right:0;}.cl-0f9cfef3{width:0.927in;background-color:transparent;vertical-align: top;border-bottom: 0 solid rgba(0, 0, 0, 1.00);border-top: 0 solid rgba(0, 0, 0, 1.00);border-left: 0 solid rgba(0, 0, 0, 1.00);border-right: 0 solid rgba(0, 0, 0, 1.00);margin-bottom:0;margin-top:0;margin-left:0;margin-right:0;}.cl-0f9cfef4{width:1.569in;background-color:transparent;vertical-align: top;border-bottom: 1pt solid rgba(0, 0, 0, 1.00);border-top: 0 solid rgba(0, 0, 0, 1.00);border-left: 0 solid rgba(0, 0, 0, 1.00);border-right: 0 solid rgba(0, 0, 0, 1.00);margin-bottom:0;margin-top:0;margin-left:0;margin-right:0;}.cl-0f9cfefc{width:0.56in;background-color:transparent;vertical-align: top;border-bottom: 1pt solid rgba(0, 0, 0, 1.00);border-top: 0 solid rgba(0, 0, 0, 1.00);border-left: 0 solid rgba(0, 0, 0, 1.00);border-right: 0 solid rgba(0, 0, 0, 1.00);margin-bottom:0;margin-top:0;margin-left:0;margin-right:0;}.cl-0f9cff06{width:1.11in;background-color:transparent;vertical-align: top;border-bottom: 1pt solid rgba(0, 0, 0, 1.00);border-top: 0 solid rgba(0, 0, 0, 1.00);border-left: 0 solid rgba(0, 0, 0, 1.00);border-right: 0 solid rgba(0, 0, 0, 1.00);margin-bottom:0;margin-top:0;margin-left:0;margin-right:0;}.cl-0f9cff07{width:1.019in;background-color:transparent;vertical-align: top;border-bottom: 1pt solid rgba(0, 0, 0, 1.00);border-top: 0 solid rgba(0, 0, 0, 1.00);border-left: 0 solid rgba(0, 0, 0, 1.00);border-right: 0 solid rgba(0, 0, 0, 1.00);margin-bottom:0;margin-top:0;margin-left:0;margin-right:0;}.cl-0f9cff10{width:0.927in;background-color:transparent;vertical-align: top;border-bottom: 1pt solid rgba(0, 0, 0, 1.00);border-top: 0 solid rgba(0, 0, 0, 1.00);border-left: 0 solid rgba(0, 0, 0, 1.00);border-right: 0 solid rgba(0, 0, 0, 1.00);margin-bottom:0;margin-top:0;margin-left:0;margin-right:0;}.cl-0f9cff11{width:1.569in;background-color:transparent;vertical-align: middle;border-bottom: 0 solid rgba(255, 255, 255, 0.00);border-top: 0 solid rgba(255, 255, 255, 0.00);border-left: 0 solid rgba(255, 255, 255, 0.00);border-right: 0 solid rgba(255, 255, 255, 0.00);margin-bottom:0;margin-top:0;margin-left:0;margin-right:0;}.cl-0f9cff1a{width:0.56in;background-color:transparent;vertical-align: middle;border-bottom: 0 solid rgba(255, 255, 255, 0.00);border-top: 0 solid rgba(255, 255, 255, 0.00);border-left: 0 solid rgba(255, 255, 255, 0.00);border-right: 0 solid rgba(255, 255, 255, 0.00);margin-bottom:0;margin-top:0;margin-left:0;margin-right:0;}.cl-0f9cff24{width:1.11in;background-color:transparent;vertical-align: middle;border-bottom: 0 solid rgba(255, 255, 255, 0.00);border-top: 0 solid rgba(255, 255, 255, 0.00);border-left: 0 solid rgba(255, 255, 255, 0.00);border-right: 0 solid rgba(255, 255, 255, 0.00);margin-bottom:0;margin-top:0;margin-left:0;margin-right:0;}.cl-0f9cff25{width:1.019in;background-color:transparent;vertical-align: middle;border-bottom: 0 solid rgba(255, 255, 255, 0.00);border-top: 0 solid rgba(255, 255, 255, 0.00);border-left: 0 solid rgba(255, 255, 255, 0.00);border-right: 0 solid rgba(255, 255, 255, 0.00);margin-bottom:0;margin-top:0;margin-left:0;margin-right:0;}.cl-0f9cff2e{width:0.927in;background-color:transparent;vertical-align: middle;border-bottom: 0 solid rgba(255, 255, 255, 0.00);border-top: 0 solid rgba(255, 255, 255, 0.00);border-left: 0 solid rgba(255, 255, 255, 0.00);border-right: 0 solid rgba(255, 255, 255, 0.00);margin-bottom:0;margin-top:0;margin-left:0;margin-right:0;}</style><table data-quarto-disable-processing='true' class='cl-0fa30860'><thead><tr style=\"overflow-wrap:break-word;\"><th class=\"cl-0f9cfea2\"><p class=\"cl-0f9ccf72\"><span class=\"cl-0f969d50\">Characteristic</span></p></th><th class=\"cl-0f9cfeac\"><p class=\"cl-0f9ccf86\"><span class=\"cl-0f969d50\">N</span></p></th><th class=\"cl-0f9cfeb6\"><p class=\"cl-0f9ccf86\"><span class=\"cl-0f969d50\">Overall</span><span class=\"cl-0f969d5a\">  </span><br><span class=\"cl-0f969d5a\">N = 200</span><span class=\"cl-0f969d64\">1</span></p></th><th class=\"cl-0f9cfec0\"><p class=\"cl-0f9ccf86\"><span class=\"cl-0f969d50\">Drug A</span><span class=\"cl-0f969d5a\">  </span><br><span class=\"cl-0f969d5a\">N = 98</span><span class=\"cl-0f969d64\">1</span></p></th><th class=\"cl-0f9cfec0\"><p class=\"cl-0f9ccf86\"><span class=\"cl-0f969d50\">Drug B</span><span class=\"cl-0f969d5a\">  </span><br><span class=\"cl-0f969d5a\">N = 102</span><span class=\"cl-0f969d64\">1</span></p></th><th class=\"cl-0f9cfec1\"><p class=\"cl-0f9ccf86\"><span class=\"cl-0f969d50\">p-value</span><span class=\"cl-0f969d64\">2</span></p></th></tr></thead><tbody><tr style=\"overflow-wrap:break-word;\"><td class=\"cl-0f9cfeca\"><p class=\"cl-0f9ccf87\"><span class=\"cl-0f969d50\">3.Tumour grade</span></p></td><td class=\"cl-0f9cfecb\"><p class=\"cl-0f9ccf90\"><span class=\"cl-0f969d5a\">200</span></p></td><td class=\"cl-0f9cfed4\"><p class=\"cl-0f9ccf90\"><span class=\"cl-0f969d5a\"></span></p></td><td class=\"cl-0f9cfede\"><p class=\"cl-0f9ccf90\"><span class=\"cl-0f969d5a\"></span></p></td><td class=\"cl-0f9cfede\"><p class=\"cl-0f9ccf90\"><span class=\"cl-0f969d5a\"></span></p></td><td class=\"cl-0f9cfedf\"><p class=\"cl-0f9ccf90\"><span class=\"cl-0f969d5a\">0.9</span></p></td></tr><tr style=\"overflow-wrap:break-word;\"><td class=\"cl-0f9cfee0\"><p class=\"cl-0f9ccf91\"><span class=\"cl-0f969d5a\">I</span></p></td><td class=\"cl-0f9cfee8\"><p class=\"cl-0f9ccf90\"><span class=\"cl-0f969d5a\"></span></p></td><td class=\"cl-0f9cfee9\"><p class=\"cl-0f9ccf90\"><span class=\"cl-0f969d5a\">68 (34%)</span></p></td><td class=\"cl-0f9cfef2\"><p class=\"cl-0f9ccf90\"><span class=\"cl-0f969d5a\">35 (36%)</span></p></td><td class=\"cl-0f9cfef2\"><p class=\"cl-0f9ccf90\"><span class=\"cl-0f969d5a\">33 (32%)</span></p></td><td class=\"cl-0f9cfef3\"><p class=\"cl-0f9ccf90\"><span class=\"cl-0f969d5a\"></span></p></td></tr><tr style=\"overflow-wrap:break-word;\"><td class=\"cl-0f9cfee0\"><p class=\"cl-0f9ccf91\"><span class=\"cl-0f969d5a\">II</span></p></td><td class=\"cl-0f9cfee8\"><p class=\"cl-0f9ccf90\"><span class=\"cl-0f969d5a\"></span></p></td><td class=\"cl-0f9cfee9\"><p class=\"cl-0f9ccf90\"><span class=\"cl-0f969d5a\">68 (34%)</span></p></td><td class=\"cl-0f9cfef2\"><p class=\"cl-0f9ccf90\"><span class=\"cl-0f969d5a\">32 (33%)</span></p></td><td class=\"cl-0f9cfef2\"><p class=\"cl-0f9ccf90\"><span class=\"cl-0f969d5a\">36 (35%)</span></p></td><td class=\"cl-0f9cfef3\"><p class=\"cl-0f9ccf90\"><span class=\"cl-0f969d5a\"></span></p></td></tr><tr style=\"overflow-wrap:break-word;\"><td class=\"cl-0f9cfef4\"><p class=\"cl-0f9ccf91\"><span class=\"cl-0f969d5a\">III</span></p></td><td class=\"cl-0f9cfefc\"><p class=\"cl-0f9ccf90\"><span class=\"cl-0f969d5a\"></span></p></td><td class=\"cl-0f9cff06\"><p class=\"cl-0f9ccf90\"><span class=\"cl-0f969d5a\">64 (32%)</span></p></td><td class=\"cl-0f9cff07\"><p class=\"cl-0f9ccf90\"><span class=\"cl-0f969d5a\">31 (32%)</span></p></td><td class=\"cl-0f9cff07\"><p class=\"cl-0f9ccf90\"><span class=\"cl-0f969d5a\">33 (32%)</span></p></td><td class=\"cl-0f9cff10\"><p class=\"cl-0f9ccf90\"><span class=\"cl-0f969d5a\"></span></p></td></tr></tbody><tfoot><tr style=\"overflow-wrap:break-word;\"><td  colspan=\"6\"class=\"cl-0f9cff11\"><p class=\"cl-0f9ccf9a\"><span class=\"cl-0f969d64\">1</span><span class=\"cl-0f969d5a\">n (%)</span></p></td></tr><tr style=\"overflow-wrap:break-word;\"><td  colspan=\"6\"class=\"cl-0f9cff11\"><p class=\"cl-0f9ccf9a\"><span class=\"cl-0f969d64\">2</span><span class=\"cl-0f969d5a\">Pearson's Chi-squared test</span></p></td></tr></tfoot></table></div>\n",
              "\t</body>\n",
              "</html>\n"
            ],
            "text/plain": [
              "Shiny tags cannot be represented in plain text (need html)"
            ]
          },
          "metadata": {
            "text/html": {
              "isolated": true
            }
          }
        }
      ]
    },
    {
      "cell_type": "code",
      "source": [
        "t4 <- df%>%\n",
        "  tbl_summary(include = c(trt,stage)\n",
        ", by = trt\n",
        ", label = list(stage = \"4.stage of progression\"))%>%\n",
        "  add_overall()%>%\n",
        "  add_p%>%\n",
        "  bold_labels()%>%\n",
        "  add_n()"
      ],
      "metadata": {
        "id": "qjz-_6jgQOci"
      },
      "execution_count": 139,
      "outputs": []
    },
    {
      "cell_type": "code",
      "source": [
        "t4 %>% as_flex_table%>%\n",
        "  flextable::htmltools_value()"
      ],
      "metadata": {
        "colab": {
          "base_uri": "https://localhost:8080/",
          "height": 286
        },
        "id": "h1djhAxFQ6UK",
        "outputId": "b9001342-80ea-4551-aa59-8474936915bb"
      },
      "execution_count": 140,
      "outputs": [
        {
          "output_type": "display_data",
          "data": {
            "text/html": [
              "<!doctype html>\n",
              "<html>\n",
              "\t<head>\n",
              "\t\t<meta charset=\"utf-8\">\n",
              "\t\t<script title=\"tabwid\" src=\"data:application/javascript;base64,ZG9jdW1lbnQuYWRkRXZlbnRMaXN0ZW5lcigiRE9NQ29udGVudExvYWRlZCIsIGZ1bmN0aW9uKGV2ZW50KSB7CiAgdmFyIGVscyA9IGRvY3VtZW50LnF1ZXJ5U2VsZWN0b3JBbGwoIi50YWJ3aWQiKTsKICB2YXIgdGFid2lkX2xpbmsgPSBkb2N1bWVudC5xdWVyeVNlbGVjdG9yKCdsaW5rW2hyZWYqPSJ0YWJ3aWQuY3NzIl0nKQogIGlmICh0YWJ3aWRfbGluayA9PT0gbnVsbCkgewogICAgY29uc3QgdGFid2lkX3N0eWxlcyA9IGRvY3VtZW50LmV2YWx1YXRlKCIvL3N0eWxlW2NvbnRhaW5zKC4sICd0YWJ3aWQnKV0iLCBkb2N1bWVudCwgbnVsbCwgWFBhdGhSZXN1bHQuQU5ZX1RZUEUsIG51bGwgKTsKICAgIHRhYndpZF9saW5rID0gdGFid2lkX3N0eWxlcy5pdGVyYXRlTmV4dCgpOwogIH0KCiAgQXJyYXkucHJvdG90eXBlLmZvckVhY2guY2FsbChlbHMsIGZ1bmN0aW9uKHRlbXBsYXRlKSB7CiAgICAgIGNvbnN0IGRlc3QgPSBkb2N1bWVudC5jcmVhdGVFbGVtZW50KCJkaXYiKTsKICAgICAgdGVtcGxhdGUucGFyZW50Tm9kZS5pbnNlcnRCZWZvcmUoZGVzdCwgdGVtcGxhdGUubmV4dFNpYmxpbmcpCiAgICAgIGRlc3Quc2V0QXR0cmlidXRlKCJjbGFzcyIsICJmbGV4dGFibGUtc2hhZG93LWhvc3QiKTsKICAgICAgY29uc3QgZmFudG9tZSA9IGRlc3QuYXR0YWNoU2hhZG93KHttb2RlOiAnb3Blbid9KTsKICAgICAgZmFudG9tZS5hcHBlbmRDaGlsZCh0ZW1wbGF0ZSk7CiAgICAgIGlmICh0YWJ3aWRfbGluayAhPT0gbnVsbCkgewogICAgICAgIGZhbnRvbWUuYXBwZW5kQ2hpbGQodGFid2lkX2xpbmsuY2xvbmVOb2RlKHRydWUpKTsKICAgICAgfQogIH0pOwoKICBjb25zdCBzaGFkb3dIb3N0cyA9IGRvY3VtZW50LnF1ZXJ5U2VsZWN0b3JBbGwoJy5mbGV4dGFibGUtc2hhZG93LWhvc3Q6bm90KDpoYXMoZGl2ID4gdGFibGUubm8tc2hhZG93LWRvbSkpJyk7CiAgc2hhZG93SG9zdHMuZm9yRWFjaChob3N0ID0+IHsKICAgIGlmIChob3N0LnNoYWRvd1Jvb3QpIHsKICAgICAgY29uc3Qgc3BhbkVsZW1lbnRzID0gaG9zdC5zaGFkb3dSb290LnF1ZXJ5U2VsZWN0b3IoJ2RpdiA+IHRhYmxlID4gY2FwdGlvbiA+IHNwYW5baWRdJyk7CiAgICAgIGlmIChzcGFuRWxlbWVudHMpIHsKICAgICAgICBjb25zdCBpZCA9IHNwYW5FbGVtZW50cy5nZXRBdHRyaWJ1dGUoImlkIik7CiAgICAgICAgaG9zdC5zZXRBdHRyaWJ1dGUoImlkIiwgaWQpOwogICAgICB9CiAgICB9CiAgfSk7Cgp9KTsK\"></script>\n",
              "<link href=\"data:text/css;charset-utf-8;base64,LnRhYndpZCB7CiAgZm9udC1zaXplOiBpbml0aWFsOwogIHBhZGRpbmctYm90dG9tOiAxZW07Cn0KCi50YWJ3aWQgdGFibGV7CiAgYm9yZGVyLXNwYWNpbmc6MHB4ICFpbXBvcnRhbnQ7CiAgYm9yZGVyLWNvbGxhcHNlOmNvbGxhcHNlOwogIGxpbmUtaGVpZ2h0OjE7CiAgbWFyZ2luLWxlZnQ6YXV0bzsKICBtYXJnaW4tcmlnaHQ6YXV0bzsKICBib3JkZXItd2lkdGg6IDA7CiAgYm9yZGVyLWNvbG9yOiB0cmFuc3BhcmVudDsKICBjYXB0aW9uLXNpZGU6IHRvcDsKfQoudGFid2lkLWNhcHRpb24tYm90dG9tIHRhYmxlewogIGNhcHRpb24tc2lkZTogYm90dG9tOwp9Ci50YWJ3aWRfbGVmdCB0YWJsZXsKICBtYXJnaW4tbGVmdDowOwp9Ci50YWJ3aWRfcmlnaHQgdGFibGV7CiAgbWFyZ2luLXJpZ2h0OjA7Cn0KLnRhYndpZCB0ZCwgLnRhYndpZCB0aCB7CiAgICBwYWRkaW5nOiAwOwp9Ci50YWJ3aWQgYSB7CiAgdGV4dC1kZWNvcmF0aW9uOiBub25lOwp9Ci50YWJ3aWQgdGhlYWQgewogICAgYmFja2dyb3VuZC1jb2xvcjogdHJhbnNwYXJlbnQ7Cn0KLnRhYndpZCB0Zm9vdCB7CiAgICBiYWNrZ3JvdW5kLWNvbG9yOiB0cmFuc3BhcmVudDsKfQoudGFid2lkIHRhYmxlIHRyIHsKYmFja2dyb3VuZC1jb2xvcjogdHJhbnNwYXJlbnQ7Cn0KLmthdGV4LWRpc3BsYXkgewogICAgbWFyZ2luOiAwIDAgIWltcG9ydGFudDsKfQo=\" rel=\"stylesheet\" />\n",
              "\t</head>\n",
              "\t<body>\n",
              "\t\t<style></style>\n",
              "<div class=\"tabwid\"><style>.cl-3658b11c{}.cl-364deeee{font-family:'DejaVu Sans';font-size:11pt;font-weight:bold;font-style:normal;text-decoration:none;color:rgba(0, 0, 0, 1.00);background-color:transparent;}.cl-364deef8{font-family:'DejaVu Sans';font-size:11pt;font-weight:normal;font-style:normal;text-decoration:none;color:rgba(0, 0, 0, 1.00);background-color:transparent;}.cl-364def02{font-family:'DejaVu Sans';font-size:6.6pt;font-weight:normal;font-style:normal;text-decoration:none;color:rgba(0, 0, 0, 1.00);background-color:transparent;position: relative;bottom:3.3pt;}.cl-365272ac{margin:0;text-align:left;border-bottom: 0 solid rgba(0, 0, 0, 1.00);border-top: 0 solid rgba(0, 0, 0, 1.00);border-left: 0 solid rgba(0, 0, 0, 1.00);border-right: 0 solid rgba(0, 0, 0, 1.00);padding-bottom:2pt;padding-top:2pt;padding-left:5pt;padding-right:5pt;line-height: 1;background-color:transparent;}.cl-365272c0{margin:0;text-align:center;border-bottom: 0 solid rgba(0, 0, 0, 1.00);border-top: 0 solid rgba(0, 0, 0, 1.00);border-left: 0 solid rgba(0, 0, 0, 1.00);border-right: 0 solid rgba(0, 0, 0, 1.00);padding-bottom:2pt;padding-top:2pt;padding-left:5pt;padding-right:5pt;line-height: 1;background-color:transparent;}.cl-365272c1{margin:0;text-align:left;border-bottom: 0 solid rgba(0, 0, 0, 1.00);border-top: 0 solid rgba(0, 0, 0, 1.00);border-left: 0 solid rgba(0, 0, 0, 1.00);border-right: 0 solid rgba(0, 0, 0, 1.00);padding-bottom:5pt;padding-top:5pt;padding-left:5pt;padding-right:5pt;line-height: 1;background-color:transparent;}.cl-365272ca{margin:0;text-align:center;border-bottom: 0 solid rgba(0, 0, 0, 1.00);border-top: 0 solid rgba(0, 0, 0, 1.00);border-left: 0 solid rgba(0, 0, 0, 1.00);border-right: 0 solid rgba(0, 0, 0, 1.00);padding-bottom:5pt;padding-top:5pt;padding-left:5pt;padding-right:5pt;line-height: 1;background-color:transparent;}.cl-365272cb{margin:0;text-align:left;border-bottom: 0 solid rgba(0, 0, 0, 1.00);border-top: 0 solid rgba(0, 0, 0, 1.00);border-left: 0 solid rgba(0, 0, 0, 1.00);border-right: 0 solid rgba(0, 0, 0, 1.00);padding-bottom:5pt;padding-top:5pt;padding-left:15pt;padding-right:5pt;line-height: 1;background-color:transparent;}.cl-365272d4{margin:0;text-align:left;border-bottom: 0 solid rgba(0, 0, 0, 1.00);border-top: 0 solid rgba(0, 0, 0, 1.00);border-left: 0 solid rgba(0, 0, 0, 1.00);border-right: 0 solid rgba(0, 0, 0, 1.00);padding-bottom:5pt;padding-top:5pt;padding-left:5pt;padding-right:5pt;line-height: 1;background-color:transparent;}.cl-3652ba64{width:2.302in;background-color:transparent;vertical-align: middle;border-bottom: 1pt solid rgba(0, 0, 0, 1.00);border-top: 1pt solid rgba(0, 0, 0, 1.00);border-left: 0 solid rgba(0, 0, 0, 1.00);border-right: 0 solid rgba(0, 0, 0, 1.00);margin-bottom:0;margin-top:0;margin-left:0;margin-right:0;}.cl-3652ba78{width:0.56in;background-color:transparent;vertical-align: middle;border-bottom: 1pt solid rgba(0, 0, 0, 1.00);border-top: 1pt solid rgba(0, 0, 0, 1.00);border-left: 0 solid rgba(0, 0, 0, 1.00);border-right: 0 solid rgba(0, 0, 0, 1.00);margin-bottom:0;margin-top:0;margin-left:0;margin-right:0;}.cl-3652ba82{width:1.11in;background-color:transparent;vertical-align: middle;border-bottom: 1pt solid rgba(0, 0, 0, 1.00);border-top: 1pt solid rgba(0, 0, 0, 1.00);border-left: 0 solid rgba(0, 0, 0, 1.00);border-right: 0 solid rgba(0, 0, 0, 1.00);margin-bottom:0;margin-top:0;margin-left:0;margin-right:0;}.cl-3652ba83{width:1.019in;background-color:transparent;vertical-align: middle;border-bottom: 1pt solid rgba(0, 0, 0, 1.00);border-top: 1pt solid rgba(0, 0, 0, 1.00);border-left: 0 solid rgba(0, 0, 0, 1.00);border-right: 0 solid rgba(0, 0, 0, 1.00);margin-bottom:0;margin-top:0;margin-left:0;margin-right:0;}.cl-3652ba8c{width:0.927in;background-color:transparent;vertical-align: middle;border-bottom: 1pt solid rgba(0, 0, 0, 1.00);border-top: 1pt solid rgba(0, 0, 0, 1.00);border-left: 0 solid rgba(0, 0, 0, 1.00);border-right: 0 solid rgba(0, 0, 0, 1.00);margin-bottom:0;margin-top:0;margin-left:0;margin-right:0;}.cl-3652ba96{width:2.302in;background-color:transparent;vertical-align: top;border-bottom: 0 solid rgba(0, 0, 0, 1.00);border-top: 0 solid rgba(0, 0, 0, 1.00);border-left: 0 solid rgba(0, 0, 0, 1.00);border-right: 0 solid rgba(0, 0, 0, 1.00);margin-bottom:0;margin-top:0;margin-left:0;margin-right:0;}.cl-3652ba97{width:0.56in;background-color:transparent;vertical-align: top;border-bottom: 0 solid rgba(0, 0, 0, 1.00);border-top: 0 solid rgba(0, 0, 0, 1.00);border-left: 0 solid rgba(0, 0, 0, 1.00);border-right: 0 solid rgba(0, 0, 0, 1.00);margin-bottom:0;margin-top:0;margin-left:0;margin-right:0;}.cl-3652baa0{width:1.11in;background-color:transparent;vertical-align: top;border-bottom: 0 solid rgba(0, 0, 0, 1.00);border-top: 0 solid rgba(0, 0, 0, 1.00);border-left: 0 solid rgba(0, 0, 0, 1.00);border-right: 0 solid rgba(0, 0, 0, 1.00);margin-bottom:0;margin-top:0;margin-left:0;margin-right:0;}.cl-3652baaa{width:1.019in;background-color:transparent;vertical-align: top;border-bottom: 0 solid rgba(0, 0, 0, 1.00);border-top: 0 solid rgba(0, 0, 0, 1.00);border-left: 0 solid rgba(0, 0, 0, 1.00);border-right: 0 solid rgba(0, 0, 0, 1.00);margin-bottom:0;margin-top:0;margin-left:0;margin-right:0;}.cl-3652baab{width:0.927in;background-color:transparent;vertical-align: top;border-bottom: 0 solid rgba(0, 0, 0, 1.00);border-top: 0 solid rgba(0, 0, 0, 1.00);border-left: 0 solid rgba(0, 0, 0, 1.00);border-right: 0 solid rgba(0, 0, 0, 1.00);margin-bottom:0;margin-top:0;margin-left:0;margin-right:0;}.cl-3652bab4{width:2.302in;background-color:transparent;vertical-align: top;border-bottom: 1pt solid rgba(0, 0, 0, 1.00);border-top: 0 solid rgba(0, 0, 0, 1.00);border-left: 0 solid rgba(0, 0, 0, 1.00);border-right: 0 solid rgba(0, 0, 0, 1.00);margin-bottom:0;margin-top:0;margin-left:0;margin-right:0;}.cl-3652babe{width:0.56in;background-color:transparent;vertical-align: top;border-bottom: 1pt solid rgba(0, 0, 0, 1.00);border-top: 0 solid rgba(0, 0, 0, 1.00);border-left: 0 solid rgba(0, 0, 0, 1.00);border-right: 0 solid rgba(0, 0, 0, 1.00);margin-bottom:0;margin-top:0;margin-left:0;margin-right:0;}.cl-3652babf{width:1.11in;background-color:transparent;vertical-align: top;border-bottom: 1pt solid rgba(0, 0, 0, 1.00);border-top: 0 solid rgba(0, 0, 0, 1.00);border-left: 0 solid rgba(0, 0, 0, 1.00);border-right: 0 solid rgba(0, 0, 0, 1.00);margin-bottom:0;margin-top:0;margin-left:0;margin-right:0;}.cl-3652bac8{width:1.019in;background-color:transparent;vertical-align: top;border-bottom: 1pt solid rgba(0, 0, 0, 1.00);border-top: 0 solid rgba(0, 0, 0, 1.00);border-left: 0 solid rgba(0, 0, 0, 1.00);border-right: 0 solid rgba(0, 0, 0, 1.00);margin-bottom:0;margin-top:0;margin-left:0;margin-right:0;}.cl-3652bad2{width:0.927in;background-color:transparent;vertical-align: top;border-bottom: 1pt solid rgba(0, 0, 0, 1.00);border-top: 0 solid rgba(0, 0, 0, 1.00);border-left: 0 solid rgba(0, 0, 0, 1.00);border-right: 0 solid rgba(0, 0, 0, 1.00);margin-bottom:0;margin-top:0;margin-left:0;margin-right:0;}.cl-3652badc{width:2.302in;background-color:transparent;vertical-align: middle;border-bottom: 0 solid rgba(255, 255, 255, 0.00);border-top: 0 solid rgba(255, 255, 255, 0.00);border-left: 0 solid rgba(255, 255, 255, 0.00);border-right: 0 solid rgba(255, 255, 255, 0.00);margin-bottom:0;margin-top:0;margin-left:0;margin-right:0;}.cl-3652badd{width:0.56in;background-color:transparent;vertical-align: middle;border-bottom: 0 solid rgba(255, 255, 255, 0.00);border-top: 0 solid rgba(255, 255, 255, 0.00);border-left: 0 solid rgba(255, 255, 255, 0.00);border-right: 0 solid rgba(255, 255, 255, 0.00);margin-bottom:0;margin-top:0;margin-left:0;margin-right:0;}.cl-3652bae6{width:1.11in;background-color:transparent;vertical-align: middle;border-bottom: 0 solid rgba(255, 255, 255, 0.00);border-top: 0 solid rgba(255, 255, 255, 0.00);border-left: 0 solid rgba(255, 255, 255, 0.00);border-right: 0 solid rgba(255, 255, 255, 0.00);margin-bottom:0;margin-top:0;margin-left:0;margin-right:0;}.cl-3652baf0{width:1.019in;background-color:transparent;vertical-align: middle;border-bottom: 0 solid rgba(255, 255, 255, 0.00);border-top: 0 solid rgba(255, 255, 255, 0.00);border-left: 0 solid rgba(255, 255, 255, 0.00);border-right: 0 solid rgba(255, 255, 255, 0.00);margin-bottom:0;margin-top:0;margin-left:0;margin-right:0;}.cl-3652bafa{width:0.927in;background-color:transparent;vertical-align: middle;border-bottom: 0 solid rgba(255, 255, 255, 0.00);border-top: 0 solid rgba(255, 255, 255, 0.00);border-left: 0 solid rgba(255, 255, 255, 0.00);border-right: 0 solid rgba(255, 255, 255, 0.00);margin-bottom:0;margin-top:0;margin-left:0;margin-right:0;}</style><table data-quarto-disable-processing='true' class='cl-3658b11c'><thead><tr style=\"overflow-wrap:break-word;\"><th class=\"cl-3652ba64\"><p class=\"cl-365272ac\"><span class=\"cl-364deeee\">Characteristic</span></p></th><th class=\"cl-3652ba78\"><p class=\"cl-365272c0\"><span class=\"cl-364deeee\">N</span></p></th><th class=\"cl-3652ba82\"><p class=\"cl-365272c0\"><span class=\"cl-364deeee\">Overall</span><span class=\"cl-364deef8\">  </span><br><span class=\"cl-364deef8\">N = 200</span><span class=\"cl-364def02\">1</span></p></th><th class=\"cl-3652ba83\"><p class=\"cl-365272c0\"><span class=\"cl-364deeee\">Drug A</span><span class=\"cl-364deef8\">  </span><br><span class=\"cl-364deef8\">N = 98</span><span class=\"cl-364def02\">1</span></p></th><th class=\"cl-3652ba83\"><p class=\"cl-365272c0\"><span class=\"cl-364deeee\">Drug B</span><span class=\"cl-364deef8\">  </span><br><span class=\"cl-364deef8\">N = 102</span><span class=\"cl-364def02\">1</span></p></th><th class=\"cl-3652ba8c\"><p class=\"cl-365272c0\"><span class=\"cl-364deeee\">p-value</span><span class=\"cl-364def02\">2</span></p></th></tr></thead><tbody><tr style=\"overflow-wrap:break-word;\"><td class=\"cl-3652ba96\"><p class=\"cl-365272c1\"><span class=\"cl-364deeee\">4.stage of progression</span></p></td><td class=\"cl-3652ba97\"><p class=\"cl-365272ca\"><span class=\"cl-364deef8\">200</span></p></td><td class=\"cl-3652baa0\"><p class=\"cl-365272ca\"><span class=\"cl-364deef8\"></span></p></td><td class=\"cl-3652baaa\"><p class=\"cl-365272ca\"><span class=\"cl-364deef8\"></span></p></td><td class=\"cl-3652baaa\"><p class=\"cl-365272ca\"><span class=\"cl-364deef8\"></span></p></td><td class=\"cl-3652baab\"><p class=\"cl-365272ca\"><span class=\"cl-364deef8\">0.9</span></p></td></tr><tr style=\"overflow-wrap:break-word;\"><td class=\"cl-3652ba96\"><p class=\"cl-365272cb\"><span class=\"cl-364deef8\">T1</span></p></td><td class=\"cl-3652ba97\"><p class=\"cl-365272ca\"><span class=\"cl-364deef8\"></span></p></td><td class=\"cl-3652baa0\"><p class=\"cl-365272ca\"><span class=\"cl-364deef8\">53 (27%)</span></p></td><td class=\"cl-3652baaa\"><p class=\"cl-365272ca\"><span class=\"cl-364deef8\">28 (29%)</span></p></td><td class=\"cl-3652baaa\"><p class=\"cl-365272ca\"><span class=\"cl-364deef8\">25 (25%)</span></p></td><td class=\"cl-3652baab\"><p class=\"cl-365272ca\"><span class=\"cl-364deef8\"></span></p></td></tr><tr style=\"overflow-wrap:break-word;\"><td class=\"cl-3652ba96\"><p class=\"cl-365272cb\"><span class=\"cl-364deef8\">T2</span></p></td><td class=\"cl-3652ba97\"><p class=\"cl-365272ca\"><span class=\"cl-364deef8\"></span></p></td><td class=\"cl-3652baa0\"><p class=\"cl-365272ca\"><span class=\"cl-364deef8\">54 (27%)</span></p></td><td class=\"cl-3652baaa\"><p class=\"cl-365272ca\"><span class=\"cl-364deef8\">25 (26%)</span></p></td><td class=\"cl-3652baaa\"><p class=\"cl-365272ca\"><span class=\"cl-364deef8\">29 (28%)</span></p></td><td class=\"cl-3652baab\"><p class=\"cl-365272ca\"><span class=\"cl-364deef8\"></span></p></td></tr><tr style=\"overflow-wrap:break-word;\"><td class=\"cl-3652ba96\"><p class=\"cl-365272cb\"><span class=\"cl-364deef8\">T3</span></p></td><td class=\"cl-3652ba97\"><p class=\"cl-365272ca\"><span class=\"cl-364deef8\"></span></p></td><td class=\"cl-3652baa0\"><p class=\"cl-365272ca\"><span class=\"cl-364deef8\">43 (22%)</span></p></td><td class=\"cl-3652baaa\"><p class=\"cl-365272ca\"><span class=\"cl-364deef8\">22 (22%)</span></p></td><td class=\"cl-3652baaa\"><p class=\"cl-365272ca\"><span class=\"cl-364deef8\">21 (21%)</span></p></td><td class=\"cl-3652baab\"><p class=\"cl-365272ca\"><span class=\"cl-364deef8\"></span></p></td></tr><tr style=\"overflow-wrap:break-word;\"><td class=\"cl-3652bab4\"><p class=\"cl-365272cb\"><span class=\"cl-364deef8\">T4</span></p></td><td class=\"cl-3652babe\"><p class=\"cl-365272ca\"><span class=\"cl-364deef8\"></span></p></td><td class=\"cl-3652babf\"><p class=\"cl-365272ca\"><span class=\"cl-364deef8\">50 (25%)</span></p></td><td class=\"cl-3652bac8\"><p class=\"cl-365272ca\"><span class=\"cl-364deef8\">23 (23%)</span></p></td><td class=\"cl-3652bac8\"><p class=\"cl-365272ca\"><span class=\"cl-364deef8\">27 (26%)</span></p></td><td class=\"cl-3652bad2\"><p class=\"cl-365272ca\"><span class=\"cl-364deef8\"></span></p></td></tr></tbody><tfoot><tr style=\"overflow-wrap:break-word;\"><td  colspan=\"6\"class=\"cl-3652badc\"><p class=\"cl-365272d4\"><span class=\"cl-364def02\">1</span><span class=\"cl-364deef8\">n (%)</span></p></td></tr><tr style=\"overflow-wrap:break-word;\"><td  colspan=\"6\"class=\"cl-3652badc\"><p class=\"cl-365272d4\"><span class=\"cl-364def02\">2</span><span class=\"cl-364deef8\">Pearson's Chi-squared test</span></p></td></tr></tfoot></table></div>\n",
              "\t</body>\n",
              "</html>\n"
            ],
            "text/plain": [
              "Shiny tags cannot be represented in plain text (need html)"
            ]
          },
          "metadata": {
            "text/html": {
              "isolated": true
            }
          }
        }
      ]
    },
    {
      "cell_type": "code",
      "source": [
        "t5 <- df%>%\n",
        "  tbl_summary(include = c(trt,marker)\n",
        ", by = trt\n",
        ", type = all_continuous() ~ \"continuous2\"\n",
        ", statistic = all_continuous()\n",
        "~ c( \"{min},{max}\"\n",
        ",\"{median} ({p25},{p75})\"\n",
        ", \"{mean} ({sd})\")\n",
        ", label = list(marker = \"5.marker\"))%>%\n",
        "  add_overall()%>%\n",
        "  add_p()%>%\n",
        "  bold_labels()%>%\n",
        "  add_n()"
      ],
      "metadata": {
        "id": "cY8fIOPxSdOs"
      },
      "execution_count": 144,
      "outputs": []
    },
    {
      "cell_type": "code",
      "source": [
        "t5 %>% as_flex_table%>%\n",
        "  flextable::htmltools_value()"
      ],
      "metadata": {
        "colab": {
          "base_uri": "https://localhost:8080/",
          "height": 256
        },
        "id": "akp1i-yAUTJP",
        "outputId": "e3e2d093-0509-44fa-e414-ed30a478265f"
      },
      "execution_count": 145,
      "outputs": [
        {
          "output_type": "display_data",
          "data": {
            "text/html": [
              "<!doctype html>\n",
              "<html>\n",
              "\t<head>\n",
              "\t\t<meta charset=\"utf-8\">\n",
              "\t\t<script title=\"tabwid\" src=\"data:application/javascript;base64,ZG9jdW1lbnQuYWRkRXZlbnRMaXN0ZW5lcigiRE9NQ29udGVudExvYWRlZCIsIGZ1bmN0aW9uKGV2ZW50KSB7CiAgdmFyIGVscyA9IGRvY3VtZW50LnF1ZXJ5U2VsZWN0b3JBbGwoIi50YWJ3aWQiKTsKICB2YXIgdGFid2lkX2xpbmsgPSBkb2N1bWVudC5xdWVyeVNlbGVjdG9yKCdsaW5rW2hyZWYqPSJ0YWJ3aWQuY3NzIl0nKQogIGlmICh0YWJ3aWRfbGluayA9PT0gbnVsbCkgewogICAgY29uc3QgdGFid2lkX3N0eWxlcyA9IGRvY3VtZW50LmV2YWx1YXRlKCIvL3N0eWxlW2NvbnRhaW5zKC4sICd0YWJ3aWQnKV0iLCBkb2N1bWVudCwgbnVsbCwgWFBhdGhSZXN1bHQuQU5ZX1RZUEUsIG51bGwgKTsKICAgIHRhYndpZF9saW5rID0gdGFid2lkX3N0eWxlcy5pdGVyYXRlTmV4dCgpOwogIH0KCiAgQXJyYXkucHJvdG90eXBlLmZvckVhY2guY2FsbChlbHMsIGZ1bmN0aW9uKHRlbXBsYXRlKSB7CiAgICAgIGNvbnN0IGRlc3QgPSBkb2N1bWVudC5jcmVhdGVFbGVtZW50KCJkaXYiKTsKICAgICAgdGVtcGxhdGUucGFyZW50Tm9kZS5pbnNlcnRCZWZvcmUoZGVzdCwgdGVtcGxhdGUubmV4dFNpYmxpbmcpCiAgICAgIGRlc3Quc2V0QXR0cmlidXRlKCJjbGFzcyIsICJmbGV4dGFibGUtc2hhZG93LWhvc3QiKTsKICAgICAgY29uc3QgZmFudG9tZSA9IGRlc3QuYXR0YWNoU2hhZG93KHttb2RlOiAnb3Blbid9KTsKICAgICAgZmFudG9tZS5hcHBlbmRDaGlsZCh0ZW1wbGF0ZSk7CiAgICAgIGlmICh0YWJ3aWRfbGluayAhPT0gbnVsbCkgewogICAgICAgIGZhbnRvbWUuYXBwZW5kQ2hpbGQodGFid2lkX2xpbmsuY2xvbmVOb2RlKHRydWUpKTsKICAgICAgfQogIH0pOwoKICBjb25zdCBzaGFkb3dIb3N0cyA9IGRvY3VtZW50LnF1ZXJ5U2VsZWN0b3JBbGwoJy5mbGV4dGFibGUtc2hhZG93LWhvc3Q6bm90KDpoYXMoZGl2ID4gdGFibGUubm8tc2hhZG93LWRvbSkpJyk7CiAgc2hhZG93SG9zdHMuZm9yRWFjaChob3N0ID0+IHsKICAgIGlmIChob3N0LnNoYWRvd1Jvb3QpIHsKICAgICAgY29uc3Qgc3BhbkVsZW1lbnRzID0gaG9zdC5zaGFkb3dSb290LnF1ZXJ5U2VsZWN0b3IoJ2RpdiA+IHRhYmxlID4gY2FwdGlvbiA+IHNwYW5baWRdJyk7CiAgICAgIGlmIChzcGFuRWxlbWVudHMpIHsKICAgICAgICBjb25zdCBpZCA9IHNwYW5FbGVtZW50cy5nZXRBdHRyaWJ1dGUoImlkIik7CiAgICAgICAgaG9zdC5zZXRBdHRyaWJ1dGUoImlkIiwgaWQpOwogICAgICB9CiAgICB9CiAgfSk7Cgp9KTsK\"></script>\n",
              "<link href=\"data:text/css;charset-utf-8;base64,LnRhYndpZCB7CiAgZm9udC1zaXplOiBpbml0aWFsOwogIHBhZGRpbmctYm90dG9tOiAxZW07Cn0KCi50YWJ3aWQgdGFibGV7CiAgYm9yZGVyLXNwYWNpbmc6MHB4ICFpbXBvcnRhbnQ7CiAgYm9yZGVyLWNvbGxhcHNlOmNvbGxhcHNlOwogIGxpbmUtaGVpZ2h0OjE7CiAgbWFyZ2luLWxlZnQ6YXV0bzsKICBtYXJnaW4tcmlnaHQ6YXV0bzsKICBib3JkZXItd2lkdGg6IDA7CiAgYm9yZGVyLWNvbG9yOiB0cmFuc3BhcmVudDsKICBjYXB0aW9uLXNpZGU6IHRvcDsKfQoudGFid2lkLWNhcHRpb24tYm90dG9tIHRhYmxlewogIGNhcHRpb24tc2lkZTogYm90dG9tOwp9Ci50YWJ3aWRfbGVmdCB0YWJsZXsKICBtYXJnaW4tbGVmdDowOwp9Ci50YWJ3aWRfcmlnaHQgdGFibGV7CiAgbWFyZ2luLXJpZ2h0OjA7Cn0KLnRhYndpZCB0ZCwgLnRhYndpZCB0aCB7CiAgICBwYWRkaW5nOiAwOwp9Ci50YWJ3aWQgYSB7CiAgdGV4dC1kZWNvcmF0aW9uOiBub25lOwp9Ci50YWJ3aWQgdGhlYWQgewogICAgYmFja2dyb3VuZC1jb2xvcjogdHJhbnNwYXJlbnQ7Cn0KLnRhYndpZCB0Zm9vdCB7CiAgICBiYWNrZ3JvdW5kLWNvbG9yOiB0cmFuc3BhcmVudDsKfQoudGFid2lkIHRhYmxlIHRyIHsKYmFja2dyb3VuZC1jb2xvcjogdHJhbnNwYXJlbnQ7Cn0KLmthdGV4LWRpc3BsYXkgewogICAgbWFyZ2luOiAwIDAgIWltcG9ydGFudDsKfQo=\" rel=\"stylesheet\" />\n",
              "\t</head>\n",
              "\t<body>\n",
              "\t\t<style></style>\n",
              "<div class=\"tabwid\"><style>.cl-a0ac80ba{}.cl-a09b26bc{font-family:'DejaVu Sans';font-size:11pt;font-weight:bold;font-style:normal;text-decoration:none;color:rgba(0, 0, 0, 1.00);background-color:transparent;}.cl-a09b26d0{font-family:'DejaVu Sans';font-size:11pt;font-weight:normal;font-style:normal;text-decoration:none;color:rgba(0, 0, 0, 1.00);background-color:transparent;}.cl-a09b26da{font-family:'DejaVu Sans';font-size:6.6pt;font-weight:normal;font-style:normal;text-decoration:none;color:rgba(0, 0, 0, 1.00);background-color:transparent;position: relative;bottom:3.3pt;}.cl-a0a2e6e0{margin:0;text-align:left;border-bottom: 0 solid rgba(0, 0, 0, 1.00);border-top: 0 solid rgba(0, 0, 0, 1.00);border-left: 0 solid rgba(0, 0, 0, 1.00);border-right: 0 solid rgba(0, 0, 0, 1.00);padding-bottom:2pt;padding-top:2pt;padding-left:5pt;padding-right:5pt;line-height: 1;background-color:transparent;}.cl-a0a2e6f4{margin:0;text-align:center;border-bottom: 0 solid rgba(0, 0, 0, 1.00);border-top: 0 solid rgba(0, 0, 0, 1.00);border-left: 0 solid rgba(0, 0, 0, 1.00);border-right: 0 solid rgba(0, 0, 0, 1.00);padding-bottom:2pt;padding-top:2pt;padding-left:5pt;padding-right:5pt;line-height: 1;background-color:transparent;}.cl-a0a2e6fe{margin:0;text-align:left;border-bottom: 0 solid rgba(0, 0, 0, 1.00);border-top: 0 solid rgba(0, 0, 0, 1.00);border-left: 0 solid rgba(0, 0, 0, 1.00);border-right: 0 solid rgba(0, 0, 0, 1.00);padding-bottom:5pt;padding-top:5pt;padding-left:5pt;padding-right:5pt;line-height: 1;background-color:transparent;}.cl-a0a2e708{margin:0;text-align:center;border-bottom: 0 solid rgba(0, 0, 0, 1.00);border-top: 0 solid rgba(0, 0, 0, 1.00);border-left: 0 solid rgba(0, 0, 0, 1.00);border-right: 0 solid rgba(0, 0, 0, 1.00);padding-bottom:5pt;padding-top:5pt;padding-left:5pt;padding-right:5pt;line-height: 1;background-color:transparent;}.cl-a0a2e709{margin:0;text-align:left;border-bottom: 0 solid rgba(0, 0, 0, 1.00);border-top: 0 solid rgba(0, 0, 0, 1.00);border-left: 0 solid rgba(0, 0, 0, 1.00);border-right: 0 solid rgba(0, 0, 0, 1.00);padding-bottom:5pt;padding-top:5pt;padding-left:15pt;padding-right:5pt;line-height: 1;background-color:transparent;}.cl-a0a2e712{margin:0;text-align:left;border-bottom: 0 solid rgba(0, 0, 0, 1.00);border-top: 0 solid rgba(0, 0, 0, 1.00);border-left: 0 solid rgba(0, 0, 0, 1.00);border-right: 0 solid rgba(0, 0, 0, 1.00);padding-bottom:5pt;padding-top:5pt;padding-left:5pt;padding-right:5pt;line-height: 1;background-color:transparent;}.cl-a0a3367c{width:1.754in;background-color:transparent;vertical-align: middle;border-bottom: 1pt solid rgba(0, 0, 0, 1.00);border-top: 1pt solid rgba(0, 0, 0, 1.00);border-left: 0 solid rgba(0, 0, 0, 1.00);border-right: 0 solid rgba(0, 0, 0, 1.00);margin-bottom:0;margin-top:0;margin-left:0;margin-right:0;}.cl-a0a33690{width:0.56in;background-color:transparent;vertical-align: middle;border-bottom: 1pt solid rgba(0, 0, 0, 1.00);border-top: 1pt solid rgba(0, 0, 0, 1.00);border-left: 0 solid rgba(0, 0, 0, 1.00);border-right: 0 solid rgba(0, 0, 0, 1.00);margin-bottom:0;margin-top:0;margin-left:0;margin-right:0;}.cl-a0a33691{width:1.752in;background-color:transparent;vertical-align: middle;border-bottom: 1pt solid rgba(0, 0, 0, 1.00);border-top: 1pt solid rgba(0, 0, 0, 1.00);border-left: 0 solid rgba(0, 0, 0, 1.00);border-right: 0 solid rgba(0, 0, 0, 1.00);margin-bottom:0;margin-top:0;margin-left:0;margin-right:0;}.cl-a0a3369a{width:0.927in;background-color:transparent;vertical-align: middle;border-bottom: 1pt solid rgba(0, 0, 0, 1.00);border-top: 1pt solid rgba(0, 0, 0, 1.00);border-left: 0 solid rgba(0, 0, 0, 1.00);border-right: 0 solid rgba(0, 0, 0, 1.00);margin-bottom:0;margin-top:0;margin-left:0;margin-right:0;}.cl-a0a336a4{width:1.754in;background-color:transparent;vertical-align: top;border-bottom: 0 solid rgba(0, 0, 0, 1.00);border-top: 0 solid rgba(0, 0, 0, 1.00);border-left: 0 solid rgba(0, 0, 0, 1.00);border-right: 0 solid rgba(0, 0, 0, 1.00);margin-bottom:0;margin-top:0;margin-left:0;margin-right:0;}.cl-a0a336a5{width:0.56in;background-color:transparent;vertical-align: top;border-bottom: 0 solid rgba(0, 0, 0, 1.00);border-top: 0 solid rgba(0, 0, 0, 1.00);border-left: 0 solid rgba(0, 0, 0, 1.00);border-right: 0 solid rgba(0, 0, 0, 1.00);margin-bottom:0;margin-top:0;margin-left:0;margin-right:0;}.cl-a0a336ae{width:1.752in;background-color:transparent;vertical-align: top;border-bottom: 0 solid rgba(0, 0, 0, 1.00);border-top: 0 solid rgba(0, 0, 0, 1.00);border-left: 0 solid rgba(0, 0, 0, 1.00);border-right: 0 solid rgba(0, 0, 0, 1.00);margin-bottom:0;margin-top:0;margin-left:0;margin-right:0;}.cl-a0a336b8{width:0.927in;background-color:transparent;vertical-align: top;border-bottom: 0 solid rgba(0, 0, 0, 1.00);border-top: 0 solid rgba(0, 0, 0, 1.00);border-left: 0 solid rgba(0, 0, 0, 1.00);border-right: 0 solid rgba(0, 0, 0, 1.00);margin-bottom:0;margin-top:0;margin-left:0;margin-right:0;}.cl-a0a336c2{width:1.754in;background-color:transparent;vertical-align: top;border-bottom: 0 solid rgba(0, 0, 0, 1.00);border-top: 0 solid rgba(0, 0, 0, 1.00);border-left: 0 solid rgba(0, 0, 0, 1.00);border-right: 0 solid rgba(0, 0, 0, 1.00);margin-bottom:0;margin-top:0;margin-left:0;margin-right:0;}.cl-a0a336c3{width:0.56in;background-color:transparent;vertical-align: top;border-bottom: 0 solid rgba(0, 0, 0, 1.00);border-top: 0 solid rgba(0, 0, 0, 1.00);border-left: 0 solid rgba(0, 0, 0, 1.00);border-right: 0 solid rgba(0, 0, 0, 1.00);margin-bottom:0;margin-top:0;margin-left:0;margin-right:0;}.cl-a0a336cc{width:1.752in;background-color:transparent;vertical-align: top;border-bottom: 0 solid rgba(0, 0, 0, 1.00);border-top: 0 solid rgba(0, 0, 0, 1.00);border-left: 0 solid rgba(0, 0, 0, 1.00);border-right: 0 solid rgba(0, 0, 0, 1.00);margin-bottom:0;margin-top:0;margin-left:0;margin-right:0;}.cl-a0a336cd{width:0.927in;background-color:transparent;vertical-align: top;border-bottom: 0 solid rgba(0, 0, 0, 1.00);border-top: 0 solid rgba(0, 0, 0, 1.00);border-left: 0 solid rgba(0, 0, 0, 1.00);border-right: 0 solid rgba(0, 0, 0, 1.00);margin-bottom:0;margin-top:0;margin-left:0;margin-right:0;}.cl-a0a336d6{width:1.754in;background-color:transparent;vertical-align: top;border-bottom: 0 solid rgba(0, 0, 0, 1.00);border-top: 0 solid rgba(0, 0, 0, 1.00);border-left: 0 solid rgba(0, 0, 0, 1.00);border-right: 0 solid rgba(0, 0, 0, 1.00);margin-bottom:0;margin-top:0;margin-left:0;margin-right:0;}.cl-a0a336e0{width:0.56in;background-color:transparent;vertical-align: top;border-bottom: 0 solid rgba(0, 0, 0, 1.00);border-top: 0 solid rgba(0, 0, 0, 1.00);border-left: 0 solid rgba(0, 0, 0, 1.00);border-right: 0 solid rgba(0, 0, 0, 1.00);margin-bottom:0;margin-top:0;margin-left:0;margin-right:0;}.cl-a0a336ea{width:1.752in;background-color:transparent;vertical-align: top;border-bottom: 0 solid rgba(0, 0, 0, 1.00);border-top: 0 solid rgba(0, 0, 0, 1.00);border-left: 0 solid rgba(0, 0, 0, 1.00);border-right: 0 solid rgba(0, 0, 0, 1.00);margin-bottom:0;margin-top:0;margin-left:0;margin-right:0;}.cl-a0a336f4{width:0.927in;background-color:transparent;vertical-align: top;border-bottom: 0 solid rgba(0, 0, 0, 1.00);border-top: 0 solid rgba(0, 0, 0, 1.00);border-left: 0 solid rgba(0, 0, 0, 1.00);border-right: 0 solid rgba(0, 0, 0, 1.00);margin-bottom:0;margin-top:0;margin-left:0;margin-right:0;}.cl-a0a336fe{width:1.754in;background-color:transparent;vertical-align: top;border-bottom: 1pt solid rgba(0, 0, 0, 1.00);border-top: 0 solid rgba(0, 0, 0, 1.00);border-left: 0 solid rgba(0, 0, 0, 1.00);border-right: 0 solid rgba(0, 0, 0, 1.00);margin-bottom:0;margin-top:0;margin-left:0;margin-right:0;}.cl-a0a33708{width:0.56in;background-color:transparent;vertical-align: top;border-bottom: 1pt solid rgba(0, 0, 0, 1.00);border-top: 0 solid rgba(0, 0, 0, 1.00);border-left: 0 solid rgba(0, 0, 0, 1.00);border-right: 0 solid rgba(0, 0, 0, 1.00);margin-bottom:0;margin-top:0;margin-left:0;margin-right:0;}.cl-a0a33709{width:1.752in;background-color:transparent;vertical-align: top;border-bottom: 1pt solid rgba(0, 0, 0, 1.00);border-top: 0 solid rgba(0, 0, 0, 1.00);border-left: 0 solid rgba(0, 0, 0, 1.00);border-right: 0 solid rgba(0, 0, 0, 1.00);margin-bottom:0;margin-top:0;margin-left:0;margin-right:0;}.cl-a0a33712{width:0.927in;background-color:transparent;vertical-align: top;border-bottom: 1pt solid rgba(0, 0, 0, 1.00);border-top: 0 solid rgba(0, 0, 0, 1.00);border-left: 0 solid rgba(0, 0, 0, 1.00);border-right: 0 solid rgba(0, 0, 0, 1.00);margin-bottom:0;margin-top:0;margin-left:0;margin-right:0;}.cl-a0a33713{width:1.754in;background-color:transparent;vertical-align: middle;border-bottom: 0 solid rgba(255, 255, 255, 0.00);border-top: 0 solid rgba(255, 255, 255, 0.00);border-left: 0 solid rgba(255, 255, 255, 0.00);border-right: 0 solid rgba(255, 255, 255, 0.00);margin-bottom:0;margin-top:0;margin-left:0;margin-right:0;}.cl-a0a3371c{width:0.56in;background-color:transparent;vertical-align: middle;border-bottom: 0 solid rgba(255, 255, 255, 0.00);border-top: 0 solid rgba(255, 255, 255, 0.00);border-left: 0 solid rgba(255, 255, 255, 0.00);border-right: 0 solid rgba(255, 255, 255, 0.00);margin-bottom:0;margin-top:0;margin-left:0;margin-right:0;}.cl-a0a3371d{width:1.752in;background-color:transparent;vertical-align: middle;border-bottom: 0 solid rgba(255, 255, 255, 0.00);border-top: 0 solid rgba(255, 255, 255, 0.00);border-left: 0 solid rgba(255, 255, 255, 0.00);border-right: 0 solid rgba(255, 255, 255, 0.00);margin-bottom:0;margin-top:0;margin-left:0;margin-right:0;}.cl-a0a33726{width:0.927in;background-color:transparent;vertical-align: middle;border-bottom: 0 solid rgba(255, 255, 255, 0.00);border-top: 0 solid rgba(255, 255, 255, 0.00);border-left: 0 solid rgba(255, 255, 255, 0.00);border-right: 0 solid rgba(255, 255, 255, 0.00);margin-bottom:0;margin-top:0;margin-left:0;margin-right:0;}</style><table data-quarto-disable-processing='true' class='cl-a0ac80ba'><thead><tr style=\"overflow-wrap:break-word;\"><th class=\"cl-a0a3367c\"><p class=\"cl-a0a2e6e0\"><span class=\"cl-a09b26bc\">Characteristic</span></p></th><th class=\"cl-a0a33690\"><p class=\"cl-a0a2e6f4\"><span class=\"cl-a09b26bc\">N</span></p></th><th class=\"cl-a0a33691\"><p class=\"cl-a0a2e6f4\"><span class=\"cl-a09b26bc\">Overall</span><span class=\"cl-a09b26d0\">  </span><br><span class=\"cl-a09b26d0\">N = 200</span></p></th><th class=\"cl-a0a33691\"><p class=\"cl-a0a2e6f4\"><span class=\"cl-a09b26bc\">Drug A</span><span class=\"cl-a09b26d0\">  </span><br><span class=\"cl-a09b26d0\">N = 98</span></p></th><th class=\"cl-a0a33691\"><p class=\"cl-a0a2e6f4\"><span class=\"cl-a09b26bc\">Drug B</span><span class=\"cl-a09b26d0\">  </span><br><span class=\"cl-a09b26d0\">N = 102</span></p></th><th class=\"cl-a0a3369a\"><p class=\"cl-a0a2e6f4\"><span class=\"cl-a09b26bc\">p-value</span><span class=\"cl-a09b26da\">1</span></p></th></tr></thead><tbody><tr style=\"overflow-wrap:break-word;\"><td class=\"cl-a0a336a4\"><p class=\"cl-a0a2e6fe\"><span class=\"cl-a09b26bc\">5.marker</span></p></td><td class=\"cl-a0a336a5\"><p class=\"cl-a0a2e708\"><span class=\"cl-a09b26d0\">190</span></p></td><td class=\"cl-a0a336ae\"><p class=\"cl-a0a2e708\"><span class=\"cl-a09b26d0\"></span></p></td><td class=\"cl-a0a336ae\"><p class=\"cl-a0a2e708\"><span class=\"cl-a09b26d0\"></span></p></td><td class=\"cl-a0a336ae\"><p class=\"cl-a0a2e708\"><span class=\"cl-a09b26d0\"></span></p></td><td class=\"cl-a0a336b8\"><p class=\"cl-a0a2e708\"><span class=\"cl-a09b26d0\">0.085</span></p></td></tr><tr style=\"overflow-wrap:break-word;\"><td class=\"cl-a0a336c2\"><p class=\"cl-a0a2e709\"><span class=\"cl-a09b26d0\">Min,Max</span></p></td><td class=\"cl-a0a336c3\"><p class=\"cl-a0a2e708\"><span class=\"cl-a09b26d0\"></span></p></td><td class=\"cl-a0a336cc\"><p class=\"cl-a0a2e708\"><span class=\"cl-a09b26d0\">0.00,3.87</span></p></td><td class=\"cl-a0a336cc\"><p class=\"cl-a0a2e708\"><span class=\"cl-a09b26d0\">0.00,3.87</span></p></td><td class=\"cl-a0a336cc\"><p class=\"cl-a0a2e708\"><span class=\"cl-a09b26d0\">0.01,3.64</span></p></td><td class=\"cl-a0a336cd\"><p class=\"cl-a0a2e708\"><span class=\"cl-a09b26d0\"></span></p></td></tr><tr style=\"overflow-wrap:break-word;\"><td class=\"cl-a0a336d6\"><p class=\"cl-a0a2e709\"><span class=\"cl-a09b26d0\">Median (Q1,Q3)</span></p></td><td class=\"cl-a0a336e0\"><p class=\"cl-a0a2e708\"><span class=\"cl-a09b26d0\"></span></p></td><td class=\"cl-a0a336ea\"><p class=\"cl-a0a2e708\"><span class=\"cl-a09b26d0\">0.64 (0.22,1.41)</span></p></td><td class=\"cl-a0a336ea\"><p class=\"cl-a0a2e708\"><span class=\"cl-a09b26d0\">0.84 (0.23,1.60)</span></p></td><td class=\"cl-a0a336ea\"><p class=\"cl-a0a2e708\"><span class=\"cl-a09b26d0\">0.52 (0.18,1.21)</span></p></td><td class=\"cl-a0a336f4\"><p class=\"cl-a0a2e708\"><span class=\"cl-a09b26d0\"></span></p></td></tr><tr style=\"overflow-wrap:break-word;\"><td class=\"cl-a0a336d6\"><p class=\"cl-a0a2e709\"><span class=\"cl-a09b26d0\">Mean (SD)</span></p></td><td class=\"cl-a0a336e0\"><p class=\"cl-a0a2e708\"><span class=\"cl-a09b26d0\"></span></p></td><td class=\"cl-a0a336ea\"><p class=\"cl-a0a2e708\"><span class=\"cl-a09b26d0\">0.92 (0.86)</span></p></td><td class=\"cl-a0a336ea\"><p class=\"cl-a0a2e708\"><span class=\"cl-a09b26d0\">1.02 (0.89)</span></p></td><td class=\"cl-a0a336ea\"><p class=\"cl-a0a2e708\"><span class=\"cl-a09b26d0\">0.82 (0.83)</span></p></td><td class=\"cl-a0a336f4\"><p class=\"cl-a0a2e708\"><span class=\"cl-a09b26d0\"></span></p></td></tr><tr style=\"overflow-wrap:break-word;\"><td class=\"cl-a0a336fe\"><p class=\"cl-a0a2e709\"><span class=\"cl-a09b26d0\">Unknown</span></p></td><td class=\"cl-a0a33708\"><p class=\"cl-a0a2e708\"><span class=\"cl-a09b26d0\"></span></p></td><td class=\"cl-a0a33709\"><p class=\"cl-a0a2e708\"><span class=\"cl-a09b26d0\">10</span></p></td><td class=\"cl-a0a33709\"><p class=\"cl-a0a2e708\"><span class=\"cl-a09b26d0\">6</span></p></td><td class=\"cl-a0a33709\"><p class=\"cl-a0a2e708\"><span class=\"cl-a09b26d0\">4</span></p></td><td class=\"cl-a0a33712\"><p class=\"cl-a0a2e708\"><span class=\"cl-a09b26d0\"></span></p></td></tr></tbody><tfoot><tr style=\"overflow-wrap:break-word;\"><td  colspan=\"6\"class=\"cl-a0a33713\"><p class=\"cl-a0a2e712\"><span class=\"cl-a09b26da\">1</span><span class=\"cl-a09b26d0\">Wilcoxon rank sum test</span></p></td></tr></tfoot></table></div>\n",
              "\t</body>\n",
              "</html>\n"
            ],
            "text/plain": [
              "Shiny tags cannot be represented in plain text (need html)"
            ]
          },
          "metadata": {
            "text/html": {
              "isolated": true
            }
          }
        }
      ]
    },
    {
      "cell_type": "code",
      "source": [
        "tfull<- tbl_stack(tbls = list(t1,t2,t3,t4,t5))"
      ],
      "metadata": {
        "id": "NzVTAm5xVPPA"
      },
      "execution_count": 146,
      "outputs": []
    },
    {
      "cell_type": "code",
      "source": [
        "tfull%>%as_flex_table%>%\n",
        "  flextable::htmltools_value()"
      ],
      "metadata": {
        "colab": {
          "base_uri": "https://localhost:8080/",
          "height": 1000
        },
        "id": "x99iq4_pVgnN",
        "outputId": "89ca00ff-5e14-4f4a-9e35-4f58a6a9b0ea"
      },
      "execution_count": 147,
      "outputs": [
        {
          "output_type": "display_data",
          "data": {
            "text/html": [
              "<!doctype html>\n",
              "<html>\n",
              "\t<head>\n",
              "\t\t<meta charset=\"utf-8\">\n",
              "\t\t<script title=\"tabwid\" src=\"data:application/javascript;base64,ZG9jdW1lbnQuYWRkRXZlbnRMaXN0ZW5lcigiRE9NQ29udGVudExvYWRlZCIsIGZ1bmN0aW9uKGV2ZW50KSB7CiAgdmFyIGVscyA9IGRvY3VtZW50LnF1ZXJ5U2VsZWN0b3JBbGwoIi50YWJ3aWQiKTsKICB2YXIgdGFid2lkX2xpbmsgPSBkb2N1bWVudC5xdWVyeVNlbGVjdG9yKCdsaW5rW2hyZWYqPSJ0YWJ3aWQuY3NzIl0nKQogIGlmICh0YWJ3aWRfbGluayA9PT0gbnVsbCkgewogICAgY29uc3QgdGFid2lkX3N0eWxlcyA9IGRvY3VtZW50LmV2YWx1YXRlKCIvL3N0eWxlW2NvbnRhaW5zKC4sICd0YWJ3aWQnKV0iLCBkb2N1bWVudCwgbnVsbCwgWFBhdGhSZXN1bHQuQU5ZX1RZUEUsIG51bGwgKTsKICAgIHRhYndpZF9saW5rID0gdGFid2lkX3N0eWxlcy5pdGVyYXRlTmV4dCgpOwogIH0KCiAgQXJyYXkucHJvdG90eXBlLmZvckVhY2guY2FsbChlbHMsIGZ1bmN0aW9uKHRlbXBsYXRlKSB7CiAgICAgIGNvbnN0IGRlc3QgPSBkb2N1bWVudC5jcmVhdGVFbGVtZW50KCJkaXYiKTsKICAgICAgdGVtcGxhdGUucGFyZW50Tm9kZS5pbnNlcnRCZWZvcmUoZGVzdCwgdGVtcGxhdGUubmV4dFNpYmxpbmcpCiAgICAgIGRlc3Quc2V0QXR0cmlidXRlKCJjbGFzcyIsICJmbGV4dGFibGUtc2hhZG93LWhvc3QiKTsKICAgICAgY29uc3QgZmFudG9tZSA9IGRlc3QuYXR0YWNoU2hhZG93KHttb2RlOiAnb3Blbid9KTsKICAgICAgZmFudG9tZS5hcHBlbmRDaGlsZCh0ZW1wbGF0ZSk7CiAgICAgIGlmICh0YWJ3aWRfbGluayAhPT0gbnVsbCkgewogICAgICAgIGZhbnRvbWUuYXBwZW5kQ2hpbGQodGFid2lkX2xpbmsuY2xvbmVOb2RlKHRydWUpKTsKICAgICAgfQogIH0pOwoKICBjb25zdCBzaGFkb3dIb3N0cyA9IGRvY3VtZW50LnF1ZXJ5U2VsZWN0b3JBbGwoJy5mbGV4dGFibGUtc2hhZG93LWhvc3Q6bm90KDpoYXMoZGl2ID4gdGFibGUubm8tc2hhZG93LWRvbSkpJyk7CiAgc2hhZG93SG9zdHMuZm9yRWFjaChob3N0ID0+IHsKICAgIGlmIChob3N0LnNoYWRvd1Jvb3QpIHsKICAgICAgY29uc3Qgc3BhbkVsZW1lbnRzID0gaG9zdC5zaGFkb3dSb290LnF1ZXJ5U2VsZWN0b3IoJ2RpdiA+IHRhYmxlID4gY2FwdGlvbiA+IHNwYW5baWRdJyk7CiAgICAgIGlmIChzcGFuRWxlbWVudHMpIHsKICAgICAgICBjb25zdCBpZCA9IHNwYW5FbGVtZW50cy5nZXRBdHRyaWJ1dGUoImlkIik7CiAgICAgICAgaG9zdC5zZXRBdHRyaWJ1dGUoImlkIiwgaWQpOwogICAgICB9CiAgICB9CiAgfSk7Cgp9KTsK\"></script>\n",
              "<link href=\"data:text/css;charset-utf-8;base64,LnRhYndpZCB7CiAgZm9udC1zaXplOiBpbml0aWFsOwogIHBhZGRpbmctYm90dG9tOiAxZW07Cn0KCi50YWJ3aWQgdGFibGV7CiAgYm9yZGVyLXNwYWNpbmc6MHB4ICFpbXBvcnRhbnQ7CiAgYm9yZGVyLWNvbGxhcHNlOmNvbGxhcHNlOwogIGxpbmUtaGVpZ2h0OjE7CiAgbWFyZ2luLWxlZnQ6YXV0bzsKICBtYXJnaW4tcmlnaHQ6YXV0bzsKICBib3JkZXItd2lkdGg6IDA7CiAgYm9yZGVyLWNvbG9yOiB0cmFuc3BhcmVudDsKICBjYXB0aW9uLXNpZGU6IHRvcDsKfQoudGFid2lkLWNhcHRpb24tYm90dG9tIHRhYmxlewogIGNhcHRpb24tc2lkZTogYm90dG9tOwp9Ci50YWJ3aWRfbGVmdCB0YWJsZXsKICBtYXJnaW4tbGVmdDowOwp9Ci50YWJ3aWRfcmlnaHQgdGFibGV7CiAgbWFyZ2luLXJpZ2h0OjA7Cn0KLnRhYndpZCB0ZCwgLnRhYndpZCB0aCB7CiAgICBwYWRkaW5nOiAwOwp9Ci50YWJ3aWQgYSB7CiAgdGV4dC1kZWNvcmF0aW9uOiBub25lOwp9Ci50YWJ3aWQgdGhlYWQgewogICAgYmFja2dyb3VuZC1jb2xvcjogdHJhbnNwYXJlbnQ7Cn0KLnRhYndpZCB0Zm9vdCB7CiAgICBiYWNrZ3JvdW5kLWNvbG9yOiB0cmFuc3BhcmVudDsKfQoudGFid2lkIHRhYmxlIHRyIHsKYmFja2dyb3VuZC1jb2xvcjogdHJhbnNwYXJlbnQ7Cn0KLmthdGV4LWRpc3BsYXkgewogICAgbWFyZ2luOiAwIDAgIWltcG9ydGFudDsKfQo=\" rel=\"stylesheet\" />\n",
              "\t</head>\n",
              "\t<body>\n",
              "\t\t<style></style>\n",
              "<div class=\"tabwid\"><style>.cl-58938f3e{}.cl-58878d42{font-family:'DejaVu Sans';font-size:11pt;font-weight:bold;font-style:normal;text-decoration:none;color:rgba(0, 0, 0, 1.00);background-color:transparent;}.cl-58878d60{font-family:'DejaVu Sans';font-size:11pt;font-weight:normal;font-style:normal;text-decoration:none;color:rgba(0, 0, 0, 1.00);background-color:transparent;}.cl-58878d6a{font-family:'DejaVu Sans';font-size:6.6pt;font-weight:normal;font-style:normal;text-decoration:none;color:rgba(0, 0, 0, 1.00);background-color:transparent;position: relative;bottom:3.3pt;}.cl-588c4abc{margin:0;text-align:left;border-bottom: 0 solid rgba(0, 0, 0, 1.00);border-top: 0 solid rgba(0, 0, 0, 1.00);border-left: 0 solid rgba(0, 0, 0, 1.00);border-right: 0 solid rgba(0, 0, 0, 1.00);padding-bottom:2pt;padding-top:2pt;padding-left:5pt;padding-right:5pt;line-height: 1;background-color:transparent;}.cl-588c4ada{margin:0;text-align:center;border-bottom: 0 solid rgba(0, 0, 0, 1.00);border-top: 0 solid rgba(0, 0, 0, 1.00);border-left: 0 solid rgba(0, 0, 0, 1.00);border-right: 0 solid rgba(0, 0, 0, 1.00);padding-bottom:2pt;padding-top:2pt;padding-left:5pt;padding-right:5pt;line-height: 1;background-color:transparent;}.cl-588c4adb{margin:0;text-align:left;border-bottom: 0 solid rgba(0, 0, 0, 1.00);border-top: 0 solid rgba(0, 0, 0, 1.00);border-left: 0 solid rgba(0, 0, 0, 1.00);border-right: 0 solid rgba(0, 0, 0, 1.00);padding-bottom:5pt;padding-top:5pt;padding-left:5pt;padding-right:5pt;line-height: 1;background-color:transparent;}.cl-588c4ae4{margin:0;text-align:center;border-bottom: 0 solid rgba(0, 0, 0, 1.00);border-top: 0 solid rgba(0, 0, 0, 1.00);border-left: 0 solid rgba(0, 0, 0, 1.00);border-right: 0 solid rgba(0, 0, 0, 1.00);padding-bottom:5pt;padding-top:5pt;padding-left:5pt;padding-right:5pt;line-height: 1;background-color:transparent;}.cl-588c4ae5{margin:0;text-align:left;border-bottom: 0 solid rgba(0, 0, 0, 1.00);border-top: 0 solid rgba(0, 0, 0, 1.00);border-left: 0 solid rgba(0, 0, 0, 1.00);border-right: 0 solid rgba(0, 0, 0, 1.00);padding-bottom:5pt;padding-top:5pt;padding-left:15pt;padding-right:5pt;line-height: 1;background-color:transparent;}.cl-588c4aee{margin:0;text-align:left;border-bottom: 0 solid rgba(0, 0, 0, 1.00);border-top: 0 solid rgba(0, 0, 0, 1.00);border-left: 0 solid rgba(0, 0, 0, 1.00);border-right: 0 solid rgba(0, 0, 0, 1.00);padding-bottom:5pt;padding-top:5pt;padding-left:5pt;padding-right:5pt;line-height: 1;background-color:transparent;}.cl-588c7afa{width:2.302in;background-color:transparent;vertical-align: middle;border-bottom: 1pt solid rgba(0, 0, 0, 1.00);border-top: 1pt solid rgba(0, 0, 0, 1.00);border-left: 0 solid rgba(0, 0, 0, 1.00);border-right: 0 solid rgba(0, 0, 0, 1.00);margin-bottom:0;margin-top:0;margin-left:0;margin-right:0;}.cl-588c7b0e{width:0.56in;background-color:transparent;vertical-align: middle;border-bottom: 1pt solid rgba(0, 0, 0, 1.00);border-top: 1pt solid rgba(0, 0, 0, 1.00);border-left: 0 solid rgba(0, 0, 0, 1.00);border-right: 0 solid rgba(0, 0, 0, 1.00);margin-bottom:0;margin-top:0;margin-left:0;margin-right:0;}.cl-588c7b0f{width:1.752in;background-color:transparent;vertical-align: middle;border-bottom: 1pt solid rgba(0, 0, 0, 1.00);border-top: 1pt solid rgba(0, 0, 0, 1.00);border-left: 0 solid rgba(0, 0, 0, 1.00);border-right: 0 solid rgba(0, 0, 0, 1.00);margin-bottom:0;margin-top:0;margin-left:0;margin-right:0;}.cl-588c7b18{width:0.927in;background-color:transparent;vertical-align: middle;border-bottom: 1pt solid rgba(0, 0, 0, 1.00);border-top: 1pt solid rgba(0, 0, 0, 1.00);border-left: 0 solid rgba(0, 0, 0, 1.00);border-right: 0 solid rgba(0, 0, 0, 1.00);margin-bottom:0;margin-top:0;margin-left:0;margin-right:0;}.cl-588c7b22{width:2.302in;background-color:transparent;vertical-align: top;border-bottom: 0 solid rgba(0, 0, 0, 1.00);border-top: 0 solid rgba(0, 0, 0, 1.00);border-left: 0 solid rgba(0, 0, 0, 1.00);border-right: 0 solid rgba(0, 0, 0, 1.00);margin-bottom:0;margin-top:0;margin-left:0;margin-right:0;}.cl-588c7b2c{width:0.56in;background-color:transparent;vertical-align: top;border-bottom: 0 solid rgba(0, 0, 0, 1.00);border-top: 0 solid rgba(0, 0, 0, 1.00);border-left: 0 solid rgba(0, 0, 0, 1.00);border-right: 0 solid rgba(0, 0, 0, 1.00);margin-bottom:0;margin-top:0;margin-left:0;margin-right:0;}.cl-588c7b2d{width:1.752in;background-color:transparent;vertical-align: top;border-bottom: 0 solid rgba(0, 0, 0, 1.00);border-top: 0 solid rgba(0, 0, 0, 1.00);border-left: 0 solid rgba(0, 0, 0, 1.00);border-right: 0 solid rgba(0, 0, 0, 1.00);margin-bottom:0;margin-top:0;margin-left:0;margin-right:0;}.cl-588c7b36{width:0.927in;background-color:transparent;vertical-align: top;border-bottom: 0 solid rgba(0, 0, 0, 1.00);border-top: 0 solid rgba(0, 0, 0, 1.00);border-left: 0 solid rgba(0, 0, 0, 1.00);border-right: 0 solid rgba(0, 0, 0, 1.00);margin-bottom:0;margin-top:0;margin-left:0;margin-right:0;}.cl-588c7b40{width:2.302in;background-color:transparent;vertical-align: top;border-bottom: 0 solid rgba(0, 0, 0, 1.00);border-top: 0 solid rgba(0, 0, 0, 1.00);border-left: 0 solid rgba(0, 0, 0, 1.00);border-right: 0 solid rgba(0, 0, 0, 1.00);margin-bottom:0;margin-top:0;margin-left:0;margin-right:0;}.cl-588c7b41{width:0.56in;background-color:transparent;vertical-align: top;border-bottom: 0 solid rgba(0, 0, 0, 1.00);border-top: 0 solid rgba(0, 0, 0, 1.00);border-left: 0 solid rgba(0, 0, 0, 1.00);border-right: 0 solid rgba(0, 0, 0, 1.00);margin-bottom:0;margin-top:0;margin-left:0;margin-right:0;}.cl-588c7b42{width:1.752in;background-color:transparent;vertical-align: top;border-bottom: 0 solid rgba(0, 0, 0, 1.00);border-top: 0 solid rgba(0, 0, 0, 1.00);border-left: 0 solid rgba(0, 0, 0, 1.00);border-right: 0 solid rgba(0, 0, 0, 1.00);margin-bottom:0;margin-top:0;margin-left:0;margin-right:0;}.cl-588c7b4a{width:0.927in;background-color:transparent;vertical-align: top;border-bottom: 0 solid rgba(0, 0, 0, 1.00);border-top: 0 solid rgba(0, 0, 0, 1.00);border-left: 0 solid rgba(0, 0, 0, 1.00);border-right: 0 solid rgba(0, 0, 0, 1.00);margin-bottom:0;margin-top:0;margin-left:0;margin-right:0;}.cl-588c7b4b{width:2.302in;background-color:transparent;vertical-align: top;border-bottom: 0 solid rgba(0, 0, 0, 1.00);border-top: 0 solid rgba(0, 0, 0, 1.00);border-left: 0 solid rgba(0, 0, 0, 1.00);border-right: 0 solid rgba(0, 0, 0, 1.00);margin-bottom:0;margin-top:0;margin-left:0;margin-right:0;}.cl-588c7b54{width:0.56in;background-color:transparent;vertical-align: top;border-bottom: 0 solid rgba(0, 0, 0, 1.00);border-top: 0 solid rgba(0, 0, 0, 1.00);border-left: 0 solid rgba(0, 0, 0, 1.00);border-right: 0 solid rgba(0, 0, 0, 1.00);margin-bottom:0;margin-top:0;margin-left:0;margin-right:0;}.cl-588c7b55{width:1.752in;background-color:transparent;vertical-align: top;border-bottom: 0 solid rgba(0, 0, 0, 1.00);border-top: 0 solid rgba(0, 0, 0, 1.00);border-left: 0 solid rgba(0, 0, 0, 1.00);border-right: 0 solid rgba(0, 0, 0, 1.00);margin-bottom:0;margin-top:0;margin-left:0;margin-right:0;}.cl-588c7b5e{width:0.927in;background-color:transparent;vertical-align: top;border-bottom: 0 solid rgba(0, 0, 0, 1.00);border-top: 0 solid rgba(0, 0, 0, 1.00);border-left: 0 solid rgba(0, 0, 0, 1.00);border-right: 0 solid rgba(0, 0, 0, 1.00);margin-bottom:0;margin-top:0;margin-left:0;margin-right:0;}.cl-588c7b5f{width:2.302in;background-color:transparent;vertical-align: top;border-bottom: 0 solid rgba(0, 0, 0, 1.00);border-top: 0 solid rgba(0, 0, 0, 1.00);border-left: 0 solid rgba(0, 0, 0, 1.00);border-right: 0 solid rgba(0, 0, 0, 1.00);margin-bottom:0;margin-top:0;margin-left:0;margin-right:0;}.cl-588c7b68{width:0.56in;background-color:transparent;vertical-align: top;border-bottom: 0 solid rgba(0, 0, 0, 1.00);border-top: 0 solid rgba(0, 0, 0, 1.00);border-left: 0 solid rgba(0, 0, 0, 1.00);border-right: 0 solid rgba(0, 0, 0, 1.00);margin-bottom:0;margin-top:0;margin-left:0;margin-right:0;}.cl-588c7b69{width:1.752in;background-color:transparent;vertical-align: top;border-bottom: 0 solid rgba(0, 0, 0, 1.00);border-top: 0 solid rgba(0, 0, 0, 1.00);border-left: 0 solid rgba(0, 0, 0, 1.00);border-right: 0 solid rgba(0, 0, 0, 1.00);margin-bottom:0;margin-top:0;margin-left:0;margin-right:0;}.cl-588c7b6a{width:0.927in;background-color:transparent;vertical-align: top;border-bottom: 0 solid rgba(0, 0, 0, 1.00);border-top: 0 solid rgba(0, 0, 0, 1.00);border-left: 0 solid rgba(0, 0, 0, 1.00);border-right: 0 solid rgba(0, 0, 0, 1.00);margin-bottom:0;margin-top:0;margin-left:0;margin-right:0;}.cl-588c7b72{width:2.302in;background-color:transparent;vertical-align: top;border-bottom: 0 solid rgba(0, 0, 0, 1.00);border-top: 0 solid rgba(0, 0, 0, 1.00);border-left: 0 solid rgba(0, 0, 0, 1.00);border-right: 0 solid rgba(0, 0, 0, 1.00);margin-bottom:0;margin-top:0;margin-left:0;margin-right:0;}.cl-588c7b73{width:0.56in;background-color:transparent;vertical-align: top;border-bottom: 0 solid rgba(0, 0, 0, 1.00);border-top: 0 solid rgba(0, 0, 0, 1.00);border-left: 0 solid rgba(0, 0, 0, 1.00);border-right: 0 solid rgba(0, 0, 0, 1.00);margin-bottom:0;margin-top:0;margin-left:0;margin-right:0;}.cl-588c7b7c{width:1.752in;background-color:transparent;vertical-align: top;border-bottom: 0 solid rgba(0, 0, 0, 1.00);border-top: 0 solid rgba(0, 0, 0, 1.00);border-left: 0 solid rgba(0, 0, 0, 1.00);border-right: 0 solid rgba(0, 0, 0, 1.00);margin-bottom:0;margin-top:0;margin-left:0;margin-right:0;}.cl-588c7b7d{width:0.927in;background-color:transparent;vertical-align: top;border-bottom: 0 solid rgba(0, 0, 0, 1.00);border-top: 0 solid rgba(0, 0, 0, 1.00);border-left: 0 solid rgba(0, 0, 0, 1.00);border-right: 0 solid rgba(0, 0, 0, 1.00);margin-bottom:0;margin-top:0;margin-left:0;margin-right:0;}.cl-588c7b86{width:2.302in;background-color:transparent;vertical-align: top;border-bottom: 1pt solid rgba(0, 0, 0, 1.00);border-top: 0 solid rgba(0, 0, 0, 1.00);border-left: 0 solid rgba(0, 0, 0, 1.00);border-right: 0 solid rgba(0, 0, 0, 1.00);margin-bottom:0;margin-top:0;margin-left:0;margin-right:0;}.cl-588c7b87{width:0.56in;background-color:transparent;vertical-align: top;border-bottom: 1pt solid rgba(0, 0, 0, 1.00);border-top: 0 solid rgba(0, 0, 0, 1.00);border-left: 0 solid rgba(0, 0, 0, 1.00);border-right: 0 solid rgba(0, 0, 0, 1.00);margin-bottom:0;margin-top:0;margin-left:0;margin-right:0;}.cl-588c7b90{width:1.752in;background-color:transparent;vertical-align: top;border-bottom: 1pt solid rgba(0, 0, 0, 1.00);border-top: 0 solid rgba(0, 0, 0, 1.00);border-left: 0 solid rgba(0, 0, 0, 1.00);border-right: 0 solid rgba(0, 0, 0, 1.00);margin-bottom:0;margin-top:0;margin-left:0;margin-right:0;}.cl-588c7b91{width:0.927in;background-color:transparent;vertical-align: top;border-bottom: 1pt solid rgba(0, 0, 0, 1.00);border-top: 0 solid rgba(0, 0, 0, 1.00);border-left: 0 solid rgba(0, 0, 0, 1.00);border-right: 0 solid rgba(0, 0, 0, 1.00);margin-bottom:0;margin-top:0;margin-left:0;margin-right:0;}.cl-588c7b9a{width:2.302in;background-color:transparent;vertical-align: middle;border-bottom: 0 solid rgba(255, 255, 255, 0.00);border-top: 0 solid rgba(255, 255, 255, 0.00);border-left: 0 solid rgba(255, 255, 255, 0.00);border-right: 0 solid rgba(255, 255, 255, 0.00);margin-bottom:0;margin-top:0;margin-left:0;margin-right:0;}.cl-588c7b9b{width:0.56in;background-color:transparent;vertical-align: middle;border-bottom: 0 solid rgba(255, 255, 255, 0.00);border-top: 0 solid rgba(255, 255, 255, 0.00);border-left: 0 solid rgba(255, 255, 255, 0.00);border-right: 0 solid rgba(255, 255, 255, 0.00);margin-bottom:0;margin-top:0;margin-left:0;margin-right:0;}.cl-588c7ba4{width:1.752in;background-color:transparent;vertical-align: middle;border-bottom: 0 solid rgba(255, 255, 255, 0.00);border-top: 0 solid rgba(255, 255, 255, 0.00);border-left: 0 solid rgba(255, 255, 255, 0.00);border-right: 0 solid rgba(255, 255, 255, 0.00);margin-bottom:0;margin-top:0;margin-left:0;margin-right:0;}.cl-588c7bae{width:0.927in;background-color:transparent;vertical-align: middle;border-bottom: 0 solid rgba(255, 255, 255, 0.00);border-top: 0 solid rgba(255, 255, 255, 0.00);border-left: 0 solid rgba(255, 255, 255, 0.00);border-right: 0 solid rgba(255, 255, 255, 0.00);margin-bottom:0;margin-top:0;margin-left:0;margin-right:0;}</style><table data-quarto-disable-processing='true' class='cl-58938f3e'><thead><tr style=\"overflow-wrap:break-word;\"><th class=\"cl-588c7afa\"><p class=\"cl-588c4abc\"><span class=\"cl-58878d42\">Characteristic</span></p></th><th class=\"cl-588c7b0e\"><p class=\"cl-588c4ada\"><span class=\"cl-58878d42\">N</span></p></th><th class=\"cl-588c7b0f\"><p class=\"cl-588c4ada\"><span class=\"cl-58878d42\">Overall</span><span class=\"cl-58878d60\">  </span><br><span class=\"cl-58878d60\">N = 200</span><span class=\"cl-58878d6a\">1</span></p></th><th class=\"cl-588c7b0f\"><p class=\"cl-588c4ada\"><span class=\"cl-58878d42\">Drug A</span><span class=\"cl-58878d60\">  </span><br><span class=\"cl-58878d60\">N = 98</span><span class=\"cl-58878d6a\">1</span></p></th><th class=\"cl-588c7b0f\"><p class=\"cl-588c4ada\"><span class=\"cl-58878d42\">Drug B</span><span class=\"cl-58878d60\">  </span><br><span class=\"cl-58878d60\">N = 102</span><span class=\"cl-58878d6a\">1</span></p></th><th class=\"cl-588c7b18\"><p class=\"cl-588c4ada\"><span class=\"cl-58878d42\">p-value</span><span class=\"cl-58878d6a\">2</span></p></th></tr></thead><tbody><tr style=\"overflow-wrap:break-word;\"><td class=\"cl-588c7b22\"><p class=\"cl-588c4adb\"><span class=\"cl-58878d42\">1.Patient  age group</span></p></td><td class=\"cl-588c7b2c\"><p class=\"cl-588c4ae4\"><span class=\"cl-58878d60\">189</span></p></td><td class=\"cl-588c7b2d\"><p class=\"cl-588c4ae4\"><span class=\"cl-58878d60\"></span></p></td><td class=\"cl-588c7b2d\"><p class=\"cl-588c4ae4\"><span class=\"cl-58878d60\"></span></p></td><td class=\"cl-588c7b2d\"><p class=\"cl-588c4ae4\"><span class=\"cl-58878d60\"></span></p></td><td class=\"cl-588c7b36\"><p class=\"cl-588c4ae4\"><span class=\"cl-58878d60\">0.6</span></p></td></tr><tr style=\"overflow-wrap:break-word;\"><td class=\"cl-588c7b22\"><p class=\"cl-588c4ae5\"><span class=\"cl-58878d60\">0-10</span></p></td><td class=\"cl-588c7b2c\"><p class=\"cl-588c4ae4\"><span class=\"cl-58878d60\"></span></p></td><td class=\"cl-588c7b2d\"><p class=\"cl-588c4ae4\"><span class=\"cl-58878d60\">3 (1.6%)</span></p></td><td class=\"cl-588c7b2d\"><p class=\"cl-588c4ae4\"><span class=\"cl-58878d60\">1 (1.1%)</span></p></td><td class=\"cl-588c7b2d\"><p class=\"cl-588c4ae4\"><span class=\"cl-58878d60\">2 (2.0%)</span></p></td><td class=\"cl-588c7b36\"><p class=\"cl-588c4ae4\"><span class=\"cl-58878d60\"></span></p></td></tr><tr style=\"overflow-wrap:break-word;\"><td class=\"cl-588c7b22\"><p class=\"cl-588c4ae5\"><span class=\"cl-58878d60\">11-20</span></p></td><td class=\"cl-588c7b2c\"><p class=\"cl-588c4ae4\"><span class=\"cl-58878d60\"></span></p></td><td class=\"cl-588c7b2d\"><p class=\"cl-588c4ae4\"><span class=\"cl-58878d60\">4 (2.1%)</span></p></td><td class=\"cl-588c7b2d\"><p class=\"cl-588c4ae4\"><span class=\"cl-58878d60\">3 (3.3%)</span></p></td><td class=\"cl-588c7b2d\"><p class=\"cl-588c4ae4\"><span class=\"cl-58878d60\">1 (1.0%)</span></p></td><td class=\"cl-588c7b36\"><p class=\"cl-588c4ae4\"><span class=\"cl-58878d60\"></span></p></td></tr><tr style=\"overflow-wrap:break-word;\"><td class=\"cl-588c7b22\"><p class=\"cl-588c4ae5\"><span class=\"cl-58878d60\">21-30</span></p></td><td class=\"cl-588c7b2c\"><p class=\"cl-588c4ae4\"><span class=\"cl-58878d60\"></span></p></td><td class=\"cl-588c7b2d\"><p class=\"cl-588c4ae4\"><span class=\"cl-58878d60\">11 (5.8%)</span></p></td><td class=\"cl-588c7b2d\"><p class=\"cl-588c4ae4\"><span class=\"cl-58878d60\">4 (4.4%)</span></p></td><td class=\"cl-588c7b2d\"><p class=\"cl-588c4ae4\"><span class=\"cl-58878d60\">7 (7.1%)</span></p></td><td class=\"cl-588c7b36\"><p class=\"cl-588c4ae4\"><span class=\"cl-58878d60\"></span></p></td></tr><tr style=\"overflow-wrap:break-word;\"><td class=\"cl-588c7b22\"><p class=\"cl-588c4ae5\"><span class=\"cl-58878d60\">31-40</span></p></td><td class=\"cl-588c7b2c\"><p class=\"cl-588c4ae4\"><span class=\"cl-58878d60\"></span></p></td><td class=\"cl-588c7b2d\"><p class=\"cl-588c4ae4\"><span class=\"cl-58878d60\">42 (22%)</span></p></td><td class=\"cl-588c7b2d\"><p class=\"cl-588c4ae4\"><span class=\"cl-58878d60\">24 (26%)</span></p></td><td class=\"cl-588c7b2d\"><p class=\"cl-588c4ae4\"><span class=\"cl-58878d60\">18 (18%)</span></p></td><td class=\"cl-588c7b36\"><p class=\"cl-588c4ae4\"><span class=\"cl-58878d60\"></span></p></td></tr><tr style=\"overflow-wrap:break-word;\"><td class=\"cl-588c7b22\"><p class=\"cl-588c4ae5\"><span class=\"cl-58878d60\">41-50</span></p></td><td class=\"cl-588c7b2c\"><p class=\"cl-588c4ae4\"><span class=\"cl-58878d60\"></span></p></td><td class=\"cl-588c7b2d\"><p class=\"cl-588c4ae4\"><span class=\"cl-58878d60\">53 (28%)</span></p></td><td class=\"cl-588c7b2d\"><p class=\"cl-588c4ae4\"><span class=\"cl-58878d60\">22 (24%)</span></p></td><td class=\"cl-588c7b2d\"><p class=\"cl-588c4ae4\"><span class=\"cl-58878d60\">31 (32%)</span></p></td><td class=\"cl-588c7b36\"><p class=\"cl-588c4ae4\"><span class=\"cl-58878d60\"></span></p></td></tr><tr style=\"overflow-wrap:break-word;\"><td class=\"cl-588c7b22\"><p class=\"cl-588c4ae5\"><span class=\"cl-58878d60\">51-60</span></p></td><td class=\"cl-588c7b2c\"><p class=\"cl-588c4ae4\"><span class=\"cl-58878d60\"></span></p></td><td class=\"cl-588c7b2d\"><p class=\"cl-588c4ae4\"><span class=\"cl-58878d60\">39 (21%)</span></p></td><td class=\"cl-588c7b2d\"><p class=\"cl-588c4ae4\"><span class=\"cl-58878d60\">17 (19%)</span></p></td><td class=\"cl-588c7b2d\"><p class=\"cl-588c4ae4\"><span class=\"cl-58878d60\">22 (22%)</span></p></td><td class=\"cl-588c7b36\"><p class=\"cl-588c4ae4\"><span class=\"cl-58878d60\"></span></p></td></tr><tr style=\"overflow-wrap:break-word;\"><td class=\"cl-588c7b22\"><p class=\"cl-588c4ae5\"><span class=\"cl-58878d60\">61-70</span></p></td><td class=\"cl-588c7b2c\"><p class=\"cl-588c4ae4\"><span class=\"cl-58878d60\"></span></p></td><td class=\"cl-588c7b2d\"><p class=\"cl-588c4ae4\"><span class=\"cl-58878d60\">28 (15%)</span></p></td><td class=\"cl-588c7b2d\"><p class=\"cl-588c4ae4\"><span class=\"cl-58878d60\">15 (16%)</span></p></td><td class=\"cl-588c7b2d\"><p class=\"cl-588c4ae4\"><span class=\"cl-58878d60\">13 (13%)</span></p></td><td class=\"cl-588c7b36\"><p class=\"cl-588c4ae4\"><span class=\"cl-58878d60\"></span></p></td></tr><tr style=\"overflow-wrap:break-word;\"><td class=\"cl-588c7b22\"><p class=\"cl-588c4ae5\"><span class=\"cl-58878d60\">71-80</span></p></td><td class=\"cl-588c7b2c\"><p class=\"cl-588c4ae4\"><span class=\"cl-58878d60\"></span></p></td><td class=\"cl-588c7b2d\"><p class=\"cl-588c4ae4\"><span class=\"cl-58878d60\">8 (4.2%)</span></p></td><td class=\"cl-588c7b2d\"><p class=\"cl-588c4ae4\"><span class=\"cl-58878d60\">5 (5.5%)</span></p></td><td class=\"cl-588c7b2d\"><p class=\"cl-588c4ae4\"><span class=\"cl-58878d60\">3 (3.1%)</span></p></td><td class=\"cl-588c7b36\"><p class=\"cl-588c4ae4\"><span class=\"cl-58878d60\"></span></p></td></tr><tr style=\"overflow-wrap:break-word;\"><td class=\"cl-588c7b22\"><p class=\"cl-588c4ae5\"><span class=\"cl-58878d60\">80+</span></p></td><td class=\"cl-588c7b2c\"><p class=\"cl-588c4ae4\"><span class=\"cl-58878d60\"></span></p></td><td class=\"cl-588c7b2d\"><p class=\"cl-588c4ae4\"><span class=\"cl-58878d60\">1 (0.5%)</span></p></td><td class=\"cl-588c7b2d\"><p class=\"cl-588c4ae4\"><span class=\"cl-58878d60\">0 (0%)</span></p></td><td class=\"cl-588c7b2d\"><p class=\"cl-588c4ae4\"><span class=\"cl-58878d60\">1 (1.0%)</span></p></td><td class=\"cl-588c7b36\"><p class=\"cl-588c4ae4\"><span class=\"cl-58878d60\"></span></p></td></tr><tr style=\"overflow-wrap:break-word;\"><td class=\"cl-588c7b40\"><p class=\"cl-588c4ae5\"><span class=\"cl-58878d60\">Unknown</span></p></td><td class=\"cl-588c7b41\"><p class=\"cl-588c4ae4\"><span class=\"cl-58878d60\"></span></p></td><td class=\"cl-588c7b42\"><p class=\"cl-588c4ae4\"><span class=\"cl-58878d60\">11</span></p></td><td class=\"cl-588c7b42\"><p class=\"cl-588c4ae4\"><span class=\"cl-58878d60\">7</span></p></td><td class=\"cl-588c7b42\"><p class=\"cl-588c4ae4\"><span class=\"cl-58878d60\">4</span></p></td><td class=\"cl-588c7b4a\"><p class=\"cl-588c4ae4\"><span class=\"cl-58878d60\"></span></p></td></tr><tr style=\"overflow-wrap:break-word;\"><td class=\"cl-588c7b4b\"><p class=\"cl-588c4adb\"><span class=\"cl-58878d42\">Age</span></p></td><td class=\"cl-588c7b54\"><p class=\"cl-588c4ae4\"><span class=\"cl-58878d60\">189</span></p></td><td class=\"cl-588c7b55\"><p class=\"cl-588c4ae4\"><span class=\"cl-58878d60\"></span></p></td><td class=\"cl-588c7b55\"><p class=\"cl-588c4ae4\"><span class=\"cl-58878d60\"></span></p></td><td class=\"cl-588c7b55\"><p class=\"cl-588c4ae4\"><span class=\"cl-58878d60\"></span></p></td><td class=\"cl-588c7b5e\"><p class=\"cl-588c4ae4\"><span class=\"cl-58878d60\">0.7</span></p></td></tr><tr style=\"overflow-wrap:break-word;\"><td class=\"cl-588c7b40\"><p class=\"cl-588c4ae5\"><span class=\"cl-58878d60\">Min - Max</span></p></td><td class=\"cl-588c7b41\"><p class=\"cl-588c4ae4\"><span class=\"cl-58878d60\"></span></p></td><td class=\"cl-588c7b42\"><p class=\"cl-588c4ae4\"><span class=\"cl-58878d60\">6 - 83</span></p></td><td class=\"cl-588c7b42\"><p class=\"cl-588c4ae4\"><span class=\"cl-58878d60\">6 - 78</span></p></td><td class=\"cl-588c7b42\"><p class=\"cl-588c4ae4\"><span class=\"cl-58878d60\">9 - 83</span></p></td><td class=\"cl-588c7b4a\"><p class=\"cl-588c4ae4\"><span class=\"cl-58878d60\"></span></p></td></tr><tr style=\"overflow-wrap:break-word;\"><td class=\"cl-588c7b22\"><p class=\"cl-588c4ae5\"><span class=\"cl-58878d60\">Median(Q1, Q3)</span></p></td><td class=\"cl-588c7b2c\"><p class=\"cl-588c4ae4\"><span class=\"cl-58878d60\"></span></p></td><td class=\"cl-588c7b2d\"><p class=\"cl-588c4ae4\"><span class=\"cl-58878d60\">47(38, 57)</span></p></td><td class=\"cl-588c7b2d\"><p class=\"cl-588c4ae4\"><span class=\"cl-58878d60\">46(37, 60)</span></p></td><td class=\"cl-588c7b2d\"><p class=\"cl-588c4ae4\"><span class=\"cl-58878d60\">48(39, 56)</span></p></td><td class=\"cl-588c7b36\"><p class=\"cl-588c4ae4\"><span class=\"cl-58878d60\"></span></p></td></tr><tr style=\"overflow-wrap:break-word;\"><td class=\"cl-588c7b22\"><p class=\"cl-588c4ae5\"><span class=\"cl-58878d60\">Mean(SD)</span></p></td><td class=\"cl-588c7b2c\"><p class=\"cl-588c4ae4\"><span class=\"cl-58878d60\"></span></p></td><td class=\"cl-588c7b2d\"><p class=\"cl-588c4ae4\"><span class=\"cl-58878d60\">47(14)</span></p></td><td class=\"cl-588c7b2d\"><p class=\"cl-588c4ae4\"><span class=\"cl-58878d60\">47(15)</span></p></td><td class=\"cl-588c7b2d\"><p class=\"cl-588c4ae4\"><span class=\"cl-58878d60\">47(14)</span></p></td><td class=\"cl-588c7b36\"><p class=\"cl-588c4ae4\"><span class=\"cl-58878d60\"></span></p></td></tr><tr style=\"overflow-wrap:break-word;\"><td class=\"cl-588c7b40\"><p class=\"cl-588c4ae5\"><span class=\"cl-58878d60\">Unknown</span></p></td><td class=\"cl-588c7b41\"><p class=\"cl-588c4ae4\"><span class=\"cl-58878d60\"></span></p></td><td class=\"cl-588c7b42\"><p class=\"cl-588c4ae4\"><span class=\"cl-58878d60\">11</span></p></td><td class=\"cl-588c7b42\"><p class=\"cl-588c4ae4\"><span class=\"cl-58878d60\">7</span></p></td><td class=\"cl-588c7b42\"><p class=\"cl-588c4ae4\"><span class=\"cl-58878d60\">4</span></p></td><td class=\"cl-588c7b4a\"><p class=\"cl-588c4ae4\"><span class=\"cl-58878d60\"></span></p></td></tr><tr style=\"overflow-wrap:break-word;\"><td class=\"cl-588c7b5f\"><p class=\"cl-588c4adb\"><span class=\"cl-58878d42\">3.Tumour grade</span></p></td><td class=\"cl-588c7b68\"><p class=\"cl-588c4ae4\"><span class=\"cl-58878d60\">200</span></p></td><td class=\"cl-588c7b69\"><p class=\"cl-588c4ae4\"><span class=\"cl-58878d60\"></span></p></td><td class=\"cl-588c7b69\"><p class=\"cl-588c4ae4\"><span class=\"cl-58878d60\"></span></p></td><td class=\"cl-588c7b69\"><p class=\"cl-588c4ae4\"><span class=\"cl-58878d60\"></span></p></td><td class=\"cl-588c7b6a\"><p class=\"cl-588c4ae4\"><span class=\"cl-58878d60\">0.9</span></p></td></tr><tr style=\"overflow-wrap:break-word;\"><td class=\"cl-588c7b22\"><p class=\"cl-588c4ae5\"><span class=\"cl-58878d60\">I</span></p></td><td class=\"cl-588c7b2c\"><p class=\"cl-588c4ae4\"><span class=\"cl-58878d60\"></span></p></td><td class=\"cl-588c7b2d\"><p class=\"cl-588c4ae4\"><span class=\"cl-58878d60\">68 (34%)</span></p></td><td class=\"cl-588c7b2d\"><p class=\"cl-588c4ae4\"><span class=\"cl-58878d60\">35 (36%)</span></p></td><td class=\"cl-588c7b2d\"><p class=\"cl-588c4ae4\"><span class=\"cl-58878d60\">33 (32%)</span></p></td><td class=\"cl-588c7b36\"><p class=\"cl-588c4ae4\"><span class=\"cl-58878d60\"></span></p></td></tr><tr style=\"overflow-wrap:break-word;\"><td class=\"cl-588c7b22\"><p class=\"cl-588c4ae5\"><span class=\"cl-58878d60\">II</span></p></td><td class=\"cl-588c7b2c\"><p class=\"cl-588c4ae4\"><span class=\"cl-58878d60\"></span></p></td><td class=\"cl-588c7b2d\"><p class=\"cl-588c4ae4\"><span class=\"cl-58878d60\">68 (34%)</span></p></td><td class=\"cl-588c7b2d\"><p class=\"cl-588c4ae4\"><span class=\"cl-58878d60\">32 (33%)</span></p></td><td class=\"cl-588c7b2d\"><p class=\"cl-588c4ae4\"><span class=\"cl-58878d60\">36 (35%)</span></p></td><td class=\"cl-588c7b36\"><p class=\"cl-588c4ae4\"><span class=\"cl-58878d60\"></span></p></td></tr><tr style=\"overflow-wrap:break-word;\"><td class=\"cl-588c7b22\"><p class=\"cl-588c4ae5\"><span class=\"cl-58878d60\">III</span></p></td><td class=\"cl-588c7b2c\"><p class=\"cl-588c4ae4\"><span class=\"cl-58878d60\"></span></p></td><td class=\"cl-588c7b2d\"><p class=\"cl-588c4ae4\"><span class=\"cl-58878d60\">64 (32%)</span></p></td><td class=\"cl-588c7b2d\"><p class=\"cl-588c4ae4\"><span class=\"cl-58878d60\">31 (32%)</span></p></td><td class=\"cl-588c7b2d\"><p class=\"cl-588c4ae4\"><span class=\"cl-58878d60\">33 (32%)</span></p></td><td class=\"cl-588c7b36\"><p class=\"cl-588c4ae4\"><span class=\"cl-58878d60\"></span></p></td></tr><tr style=\"overflow-wrap:break-word;\"><td class=\"cl-588c7b22\"><p class=\"cl-588c4adb\"><span class=\"cl-58878d42\">4.stage of progression</span></p></td><td class=\"cl-588c7b2c\"><p class=\"cl-588c4ae4\"><span class=\"cl-58878d60\">200</span></p></td><td class=\"cl-588c7b2d\"><p class=\"cl-588c4ae4\"><span class=\"cl-58878d60\"></span></p></td><td class=\"cl-588c7b2d\"><p class=\"cl-588c4ae4\"><span class=\"cl-58878d60\"></span></p></td><td class=\"cl-588c7b2d\"><p class=\"cl-588c4ae4\"><span class=\"cl-58878d60\"></span></p></td><td class=\"cl-588c7b36\"><p class=\"cl-588c4ae4\"><span class=\"cl-58878d60\">0.9</span></p></td></tr><tr style=\"overflow-wrap:break-word;\"><td class=\"cl-588c7b22\"><p class=\"cl-588c4ae5\"><span class=\"cl-58878d60\">T1</span></p></td><td class=\"cl-588c7b2c\"><p class=\"cl-588c4ae4\"><span class=\"cl-58878d60\"></span></p></td><td class=\"cl-588c7b2d\"><p class=\"cl-588c4ae4\"><span class=\"cl-58878d60\">53 (27%)</span></p></td><td class=\"cl-588c7b2d\"><p class=\"cl-588c4ae4\"><span class=\"cl-58878d60\">28 (29%)</span></p></td><td class=\"cl-588c7b2d\"><p class=\"cl-588c4ae4\"><span class=\"cl-58878d60\">25 (25%)</span></p></td><td class=\"cl-588c7b36\"><p class=\"cl-588c4ae4\"><span class=\"cl-58878d60\"></span></p></td></tr><tr style=\"overflow-wrap:break-word;\"><td class=\"cl-588c7b22\"><p class=\"cl-588c4ae5\"><span class=\"cl-58878d60\">T2</span></p></td><td class=\"cl-588c7b2c\"><p class=\"cl-588c4ae4\"><span class=\"cl-58878d60\"></span></p></td><td class=\"cl-588c7b2d\"><p class=\"cl-588c4ae4\"><span class=\"cl-58878d60\">54 (27%)</span></p></td><td class=\"cl-588c7b2d\"><p class=\"cl-588c4ae4\"><span class=\"cl-58878d60\">25 (26%)</span></p></td><td class=\"cl-588c7b2d\"><p class=\"cl-588c4ae4\"><span class=\"cl-58878d60\">29 (28%)</span></p></td><td class=\"cl-588c7b36\"><p class=\"cl-588c4ae4\"><span class=\"cl-58878d60\"></span></p></td></tr><tr style=\"overflow-wrap:break-word;\"><td class=\"cl-588c7b22\"><p class=\"cl-588c4ae5\"><span class=\"cl-58878d60\">T3</span></p></td><td class=\"cl-588c7b2c\"><p class=\"cl-588c4ae4\"><span class=\"cl-58878d60\"></span></p></td><td class=\"cl-588c7b2d\"><p class=\"cl-588c4ae4\"><span class=\"cl-58878d60\">43 (22%)</span></p></td><td class=\"cl-588c7b2d\"><p class=\"cl-588c4ae4\"><span class=\"cl-58878d60\">22 (22%)</span></p></td><td class=\"cl-588c7b2d\"><p class=\"cl-588c4ae4\"><span class=\"cl-58878d60\">21 (21%)</span></p></td><td class=\"cl-588c7b36\"><p class=\"cl-588c4ae4\"><span class=\"cl-58878d60\"></span></p></td></tr><tr style=\"overflow-wrap:break-word;\"><td class=\"cl-588c7b22\"><p class=\"cl-588c4ae5\"><span class=\"cl-58878d60\">T4</span></p></td><td class=\"cl-588c7b2c\"><p class=\"cl-588c4ae4\"><span class=\"cl-58878d60\"></span></p></td><td class=\"cl-588c7b2d\"><p class=\"cl-588c4ae4\"><span class=\"cl-58878d60\">50 (25%)</span></p></td><td class=\"cl-588c7b2d\"><p class=\"cl-588c4ae4\"><span class=\"cl-58878d60\">23 (23%)</span></p></td><td class=\"cl-588c7b2d\"><p class=\"cl-588c4ae4\"><span class=\"cl-58878d60\">27 (26%)</span></p></td><td class=\"cl-588c7b36\"><p class=\"cl-588c4ae4\"><span class=\"cl-58878d60\"></span></p></td></tr><tr style=\"overflow-wrap:break-word;\"><td class=\"cl-588c7b40\"><p class=\"cl-588c4adb\"><span class=\"cl-58878d42\">5.marker</span></p></td><td class=\"cl-588c7b41\"><p class=\"cl-588c4ae4\"><span class=\"cl-58878d60\">190</span></p></td><td class=\"cl-588c7b42\"><p class=\"cl-588c4ae4\"><span class=\"cl-58878d60\"></span></p></td><td class=\"cl-588c7b42\"><p class=\"cl-588c4ae4\"><span class=\"cl-58878d60\"></span></p></td><td class=\"cl-588c7b42\"><p class=\"cl-588c4ae4\"><span class=\"cl-58878d60\"></span></p></td><td class=\"cl-588c7b4a\"><p class=\"cl-588c4ae4\"><span class=\"cl-58878d60\">0.085</span></p></td></tr><tr style=\"overflow-wrap:break-word;\"><td class=\"cl-588c7b72\"><p class=\"cl-588c4ae5\"><span class=\"cl-58878d60\">Min,Max</span></p></td><td class=\"cl-588c7b73\"><p class=\"cl-588c4ae4\"><span class=\"cl-58878d60\"></span></p></td><td class=\"cl-588c7b7c\"><p class=\"cl-588c4ae4\"><span class=\"cl-58878d60\">0.00,3.87</span></p></td><td class=\"cl-588c7b7c\"><p class=\"cl-588c4ae4\"><span class=\"cl-58878d60\">0.00,3.87</span></p></td><td class=\"cl-588c7b7c\"><p class=\"cl-588c4ae4\"><span class=\"cl-58878d60\">0.01,3.64</span></p></td><td class=\"cl-588c7b7d\"><p class=\"cl-588c4ae4\"><span class=\"cl-58878d60\"></span></p></td></tr><tr style=\"overflow-wrap:break-word;\"><td class=\"cl-588c7b22\"><p class=\"cl-588c4ae5\"><span class=\"cl-58878d60\">Median (Q1,Q3)</span></p></td><td class=\"cl-588c7b2c\"><p class=\"cl-588c4ae4\"><span class=\"cl-58878d60\"></span></p></td><td class=\"cl-588c7b2d\"><p class=\"cl-588c4ae4\"><span class=\"cl-58878d60\">0.64 (0.22,1.41)</span></p></td><td class=\"cl-588c7b2d\"><p class=\"cl-588c4ae4\"><span class=\"cl-58878d60\">0.84 (0.23,1.60)</span></p></td><td class=\"cl-588c7b2d\"><p class=\"cl-588c4ae4\"><span class=\"cl-58878d60\">0.52 (0.18,1.21)</span></p></td><td class=\"cl-588c7b36\"><p class=\"cl-588c4ae4\"><span class=\"cl-58878d60\"></span></p></td></tr><tr style=\"overflow-wrap:break-word;\"><td class=\"cl-588c7b22\"><p class=\"cl-588c4ae5\"><span class=\"cl-58878d60\">Mean (SD)</span></p></td><td class=\"cl-588c7b2c\"><p class=\"cl-588c4ae4\"><span class=\"cl-58878d60\"></span></p></td><td class=\"cl-588c7b2d\"><p class=\"cl-588c4ae4\"><span class=\"cl-58878d60\">0.92 (0.86)</span></p></td><td class=\"cl-588c7b2d\"><p class=\"cl-588c4ae4\"><span class=\"cl-58878d60\">1.02 (0.89)</span></p></td><td class=\"cl-588c7b2d\"><p class=\"cl-588c4ae4\"><span class=\"cl-58878d60\">0.82 (0.83)</span></p></td><td class=\"cl-588c7b36\"><p class=\"cl-588c4ae4\"><span class=\"cl-58878d60\"></span></p></td></tr><tr style=\"overflow-wrap:break-word;\"><td class=\"cl-588c7b86\"><p class=\"cl-588c4ae5\"><span class=\"cl-58878d60\">Unknown</span></p></td><td class=\"cl-588c7b87\"><p class=\"cl-588c4ae4\"><span class=\"cl-58878d60\"></span></p></td><td class=\"cl-588c7b90\"><p class=\"cl-588c4ae4\"><span class=\"cl-58878d60\">10</span></p></td><td class=\"cl-588c7b90\"><p class=\"cl-588c4ae4\"><span class=\"cl-58878d60\">6</span></p></td><td class=\"cl-588c7b90\"><p class=\"cl-588c4ae4\"><span class=\"cl-58878d60\">4</span></p></td><td class=\"cl-588c7b91\"><p class=\"cl-588c4ae4\"><span class=\"cl-58878d60\"></span></p></td></tr></tbody><tfoot><tr style=\"overflow-wrap:break-word;\"><td  colspan=\"6\"class=\"cl-588c7b9a\"><p class=\"cl-588c4aee\"><span class=\"cl-58878d6a\">1</span><span class=\"cl-58878d60\">n (%)</span></p></td></tr><tr style=\"overflow-wrap:break-word;\"><td  colspan=\"6\"class=\"cl-588c7b9a\"><p class=\"cl-588c4aee\"><span class=\"cl-58878d6a\">2</span><span class=\"cl-58878d60\">Fisher's exact test</span></p></td></tr></tfoot></table></div>\n",
              "\t</body>\n",
              "</html>\n"
            ],
            "text/plain": [
              "Shiny tags cannot be represented in plain text (need html)"
            ]
          },
          "metadata": {
            "text/html": {
              "isolated": true
            }
          }
        }
      ]
    }
  ]
}