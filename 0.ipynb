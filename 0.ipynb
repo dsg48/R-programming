{
  "nbformat": 4,
  "nbformat_minor": 0,
  "metadata": {
    "colab": {
      "provenance": [],
      "authorship_tag": "ABX9TyMJpmG5pW9UHUM3fQSr2Isk",
      "include_colab_link": true
    },
    "kernelspec": {
      "name": "ir",
      "display_name": "R"
    },
    "language_info": {
      "name": "R"
    }
  },
  "cells": [
    {
      "cell_type": "markdown",
      "metadata": {
        "id": "view-in-github",
        "colab_type": "text"
      },
      "source": [
        "<a href=\"https://colab.research.google.com/github/dsg48/R-programming/blob/main/0.ipynb\" target=\"_parent\"><img src=\"https://colab.research.google.com/assets/colab-badge.svg\" alt=\"Open In Colab\"/></a>"
      ]
    },
    {
      "cell_type": "code",
      "source": [
        "!git config -- global user.name \"dsg48\"\n",
        "!git config -- global user.email \"contact_divyakant@yahoo.com\"\n",
        "!git config -- global user.password \"Mansi@01\""
      ],
      "metadata": {
        "colab": {
          "base_uri": "https://localhost:8080/",
          "height": 106
        },
        "id": "E9vKUAGlHlJz",
        "outputId": "9b70910a-0375-435e-c75b-3766d8080df3"
      },
      "execution_count": null,
      "outputs": [
        {
          "output_type": "error",
          "ename": "ERROR",
          "evalue": "Error in parse(text = input): <text>:1:6: unexpected symbol\n1: !git config\n         ^\n",
          "traceback": [
            "Error in parse(text = input): <text>:1:6: unexpected symbol\n1: !git config\n         ^\nTraceback:\n"
          ]
        }
      ]
    },
    {
      "cell_type": "code",
      "source": [
        "a<-2\n",
        "b<-3\n",
        "a+b"
      ],
      "metadata": {
        "id": "4WfN884bI8Qb",
        "colab": {
          "base_uri": "https://localhost:8080/",
          "height": 34
        },
        "outputId": "04dc851b-02ab-48b8-bbbe-0f9b0b94399a"
      },
      "execution_count": 4,
      "outputs": [
        {
          "output_type": "display_data",
          "data": {
            "text/html": [
              "5"
            ],
            "text/markdown": "5",
            "text/latex": "5",
            "text/plain": [
              "[1] 5"
            ]
          },
          "metadata": {}
        }
      ]
    },
    {
      "cell_type": "code",
      "source": [
        "!apt-get install -y r-base"
      ],
      "metadata": {
        "colab": {
          "base_uri": "https://localhost:8080/"
        },
        "id": "1xKXGoFgV7f2",
        "outputId": "28dacd45-1bf7-4e65-dfdd-3faf47ac17dc"
      },
      "execution_count": null,
      "outputs": [
        {
          "output_type": "stream",
          "name": "stdout",
          "text": [
            "Reading package lists... Done\n",
            "Building dependency tree... Done\n",
            "Reading state information... Done\n",
            "r-base is already the newest version (4.5.1-1.2204.0).\n",
            "0 upgraded, 0 newly installed, 0 to remove and 49 not upgraded.\n"
          ]
        }
      ]
    },
    {
      "cell_type": "code",
      "source": [],
      "metadata": {
        "id": "cTqvucXsHlFP"
      },
      "execution_count": null,
      "outputs": []
    },
    {
      "cell_type": "code",
      "source": [],
      "metadata": {
        "id": "yH-a_NZlY7WQ"
      },
      "execution_count": null,
      "outputs": []
    },
    {
      "cell_type": "code",
      "source": [
        "!pip install rpy2"
      ],
      "metadata": {
        "colab": {
          "base_uri": "https://localhost:8080/"
        },
        "id": "_o6JQbSTWORf",
        "outputId": "5fed9f5f-6b14-40f0-92df-54bf14371453"
      },
      "execution_count": null,
      "outputs": [
        {
          "output_type": "stream",
          "name": "stdout",
          "text": [
            "Requirement already satisfied: rpy2 in /usr/local/lib/python3.12/dist-packages (3.5.17)\n",
            "Requirement already satisfied: cffi>=1.15.1 in /usr/local/lib/python3.12/dist-packages (from rpy2) (2.0.0)\n",
            "Requirement already satisfied: jinja2 in /usr/local/lib/python3.12/dist-packages (from rpy2) (3.1.6)\n",
            "Requirement already satisfied: tzlocal in /usr/local/lib/python3.12/dist-packages (from rpy2) (5.3.1)\n",
            "Requirement already satisfied: pycparser in /usr/local/lib/python3.12/dist-packages (from cffi>=1.15.1->rpy2) (2.23)\n",
            "Requirement already satisfied: MarkupSafe>=2.0 in /usr/local/lib/python3.12/dist-packages (from jinja2->rpy2) (3.0.2)\n"
          ]
        }
      ]
    },
    {
      "cell_type": "code",
      "source": [
        "%load_ext rpy2.ipython"
      ],
      "metadata": {
        "id": "HusniHGWWaDA",
        "colab": {
          "base_uri": "https://localhost:8080/"
        },
        "outputId": "dc50b2af-bd47-4d1c-c23b-d3fe06c23463"
      },
      "execution_count": null,
      "outputs": [
        {
          "output_type": "stream",
          "name": "stdout",
          "text": [
            "The rpy2.ipython extension is already loaded. To reload it, use:\n",
            "  %reload_ext rpy2.ipython\n"
          ]
        }
      ]
    },
    {
      "cell_type": "code",
      "source": [
        "%%R\n",
        "install.packages(\"titanic\")"
      ],
      "metadata": {
        "colab": {
          "base_uri": "https://localhost:8080/",
          "height": 191
        },
        "id": "iSizjwCbb07J",
        "outputId": "1ce02810-fd3d-4df2-e335-cdfa359edf39"
      },
      "execution_count": null,
      "outputs": [
        {
          "output_type": "display_data",
          "data": {
            "text/plain": [
              "Installing package into ‘/usr/local/lib/R/site-library’\n",
              "(as ‘lib’ is unspecified)\n",
              "trying URL 'https://cran.rstudio.com/src/contrib/titanic_0.1.0.tar.gz'\n",
              "Content type 'application/x-gzip' length 71672 bytes (69 KB)\n",
              "==================================================\n",
              "downloaded 69 KB\n",
              "\n",
              "\n",
              "The downloaded source packages are in\n",
              "\t‘/tmp/RtmpXnuVNK/downloaded_packages’\n"
            ]
          },
          "metadata": {}
        }
      ]
    },
    {
      "cell_type": "code",
      "source": [
        "%%R\n",
        "library(titanic)"
      ],
      "metadata": {
        "id": "Am-HBeSQcY5G"
      },
      "execution_count": null,
      "outputs": []
    },
    {
      "cell_type": "code",
      "source": [
        "data(titanic)"
      ],
      "metadata": {
        "colab": {
          "base_uri": "https://localhost:8080/"
        },
        "id": "w5zc7cv9dz3D",
        "outputId": "d61eea32-2f30-4c2b-82c8-36fba186c833"
      },
      "execution_count": null,
      "outputs": [
        {
          "output_type": "stream",
          "name": "stderr",
          "text": [
            "Warning message in data(titanic):\n",
            "“data set ‘titanic’ not found”\n"
          ]
        }
      ]
    },
    {
      "cell_type": "code",
      "source": [
        "install.packages(\"titanic\")\n",
        "library(titanic)\n",
        "data(\"titanic\")\n",
        "head(titanic)"
      ],
      "metadata": {
        "colab": {
          "base_uri": "https://localhost:8080/",
          "height": 315
        },
        "id": "OUP-_CJ0d_X6",
        "outputId": "7764ac4e-8336-4eca-d282-22801ab9be0b"
      },
      "execution_count": null,
      "outputs": [
        {
          "output_type": "stream",
          "name": "stderr",
          "text": [
            "Installing package into ‘/usr/local/lib/R/site-library’\n",
            "(as ‘lib’ is unspecified)\n",
            "\n",
            "Warning message in data(\"titanic\"):\n",
            "“data set ‘titanic’ not found”\n"
          ]
        },
        {
          "output_type": "error",
          "ename": "ERROR",
          "evalue": "Error: object 'titanic' not found\n",
          "traceback": [
            "Error: object 'titanic' not found\nTraceback:\n",
            "1. .handleSimpleError(function (cnd) \n . {\n .     watcher$capture_plot_and_output()\n .     cnd <- sanitize_call(cnd)\n .     watcher$push(cnd)\n .     switch(on_error, continue = invokeRestart(\"eval_continue\"), \n .         stop = invokeRestart(\"eval_stop\"), error = NULL)\n . }, \"object 'titanic' not found\", base::quote(eval(expr, envir)))"
          ]
        }
      ]
    }
  ]
}